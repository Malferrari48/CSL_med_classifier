{
 "cells": [
  {
   "cell_type": "markdown",
   "metadata": {
    "id": "HvC8zL-kup2u"
   },
   "source": [
    "<h1> Esame CSL 27/08/2024 </h1>\n",
    "<h2> Francesco Malferrari 193103 </h2>\n",
    "<h3> Corso di laurea: Laura Magistrale in Informatica </h3>"
   ]
  },
  {
   "cell_type": "markdown",
   "metadata": {
    "id": "fxpLAxSeuw3n"
   },
   "source": [
    "Inizio installando <b><a href=\"https://medmnist.com/\">MedMnist</a></b> <br> <br>\n",
    "Citazione: <br>\n",
    "  Jiancheng Yang, Rui Shi, Donglai Wei, Zequan Liu, Lin Zhao, Bilian Ke, Hanspeter Pfister, Bingbing Ni. Yang, Jiancheng, et al. \"MedMNIST v2-A large-scale lightweight benchmark for 2D and 3D biomedical image classification.\" Scientific Data, 2023.\n",
    "                            \n",
    "  Jiancheng Yang, Rui Shi, Bingbing Ni. \"MedMNIST Classification Decathlon: A Lightweight AutoML Benchmark for Medical Image Analysis\". IEEE 18th International Symposium on Biomedical Imaging (ISBI), 2021."
   ]
  },
  {
   "cell_type": "code",
   "execution_count": 1,
   "metadata": {
    "colab": {
     "base_uri": "https://localhost:8080/"
    },
    "id": "UdCFp7pTu9Kq",
    "outputId": "c2a55620-e301-4a53-8a72-5bb6d148c78a"
   },
   "outputs": [
    {
     "name": "stdout",
     "output_type": "stream",
     "text": [
      "Requirement already satisfied: medmnist in c:\\users\\malfi\\anaconda3\\lib\\site-packages (3.0.1)\n",
      "Requirement already satisfied: fire in c:\\users\\malfi\\anaconda3\\lib\\site-packages (from medmnist) (0.6.0)\n",
      "Requirement already satisfied: scikit-image in c:\\users\\malfi\\anaconda3\\lib\\site-packages (from medmnist) (0.18.1)\n",
      "Requirement already satisfied: numpy in c:\\users\\malfi\\anaconda3\\lib\\site-packages (from medmnist) (1.22.4)\n",
      "Requirement already satisfied: Pillow in c:\\users\\malfi\\anaconda3\\lib\\site-packages (from medmnist) (8.2.0)\n",
      "Requirement already satisfied: scikit-learn in c:\\users\\malfi\\anaconda3\\lib\\site-packages (from medmnist) (0.24.1)\n",
      "Requirement already satisfied: tqdm in c:\\users\\malfi\\anaconda3\\lib\\site-packages (from medmnist) (4.59.0)\n",
      "Requirement already satisfied: torchvision in c:\\users\\malfi\\anaconda3\\lib\\site-packages (from medmnist) (0.19.0)\n",
      "Requirement already satisfied: torch in c:\\users\\malfi\\anaconda3\\lib\\site-packages (from medmnist) (2.4.0)\n",
      "Requirement already satisfied: pandas in c:\\users\\malfi\\anaconda3\\lib\\site-packages (from medmnist) (1.2.4)\n",
      "Requirement already satisfied: termcolor in c:\\users\\malfi\\anaconda3\\lib\\site-packages (from fire->medmnist) (2.4.0)\n",
      "Requirement already satisfied: six in c:\\users\\malfi\\anaconda3\\lib\\site-packages (from fire->medmnist) (1.15.0)\n",
      "Requirement already satisfied: pytz>=2017.3 in c:\\users\\malfi\\anaconda3\\lib\\site-packages (from pandas->medmnist) (2021.1)\n",
      "Requirement already satisfied: python-dateutil>=2.7.3 in c:\\users\\malfi\\anaconda3\\lib\\site-packages (from pandas->medmnist) (2.8.1)\n",
      "Requirement already satisfied: scipy>=1.0.1 in c:\\users\\malfi\\anaconda3\\lib\\site-packages (from scikit-image->medmnist) (1.6.2)\n",
      "Requirement already satisfied: matplotlib!=3.0.0,>=2.0.0 in c:\\users\\malfi\\anaconda3\\lib\\site-packages (from scikit-image->medmnist) (3.3.4)\n",
      "Requirement already satisfied: networkx>=2.0 in c:\\users\\malfi\\anaconda3\\lib\\site-packages (from scikit-image->medmnist) (2.5)\n",
      "Requirement already satisfied: imageio>=2.3.0 in c:\\users\\malfi\\anaconda3\\lib\\site-packages (from scikit-image->medmnist) (2.9.0)\n",
      "Requirement already satisfied: tifffile>=2019.7.26 in c:\\users\\malfi\\anaconda3\\lib\\site-packages (from scikit-image->medmnist) (2021.4.8)\n",
      "Requirement already satisfied: PyWavelets>=1.1.1 in c:\\users\\malfi\\anaconda3\\lib\\site-packages (from scikit-image->medmnist) (1.1.1)\n",
      "Requirement already satisfied: cycler>=0.10 in c:\\users\\malfi\\anaconda3\\lib\\site-packages (from matplotlib!=3.0.0,>=2.0.0->scikit-image->medmnist) (0.10.0)\n",
      "Requirement already satisfied: kiwisolver>=1.0.1 in c:\\users\\malfi\\anaconda3\\lib\\site-packages (from matplotlib!=3.0.0,>=2.0.0->scikit-image->medmnist) (1.3.1)\n",
      "Requirement already satisfied: pyparsing!=2.0.4,!=2.1.2,!=2.1.6,>=2.0.3 in c:\\users\\malfi\\anaconda3\\lib\\site-packages (from matplotlib!=3.0.0,>=2.0.0->scikit-image->medmnist) (2.4.7)\n",
      "Requirement already satisfied: decorator>=4.3.0 in c:\\users\\malfi\\anaconda3\\lib\\site-packages (from networkx>=2.0->scikit-image->medmnist) (5.0.6)\n",
      "Requirement already satisfied: threadpoolctl>=2.0.0 in c:\\users\\malfi\\anaconda3\\lib\\site-packages (from scikit-learn->medmnist) (2.1.0)\n",
      "Requirement already satisfied: joblib>=0.11 in c:\\users\\malfi\\anaconda3\\lib\\site-packages (from scikit-learn->medmnist) (1.0.1)\n",
      "Requirement already satisfied: typing-extensions>=4.8.0 in c:\\users\\malfi\\anaconda3\\lib\\site-packages (from torch->medmnist) (4.12.2)\n",
      "Requirement already satisfied: filelock in c:\\users\\malfi\\anaconda3\\lib\\site-packages (from torch->medmnist) (3.0.12)\n",
      "Requirement already satisfied: fsspec in c:\\users\\malfi\\anaconda3\\lib\\site-packages (from torch->medmnist) (0.9.0)\n",
      "Requirement already satisfied: sympy in c:\\users\\malfi\\anaconda3\\lib\\site-packages (from torch->medmnist) (1.8)\n",
      "Requirement already satisfied: jinja2 in c:\\users\\malfi\\anaconda3\\lib\\site-packages (from torch->medmnist) (2.11.3)\n",
      "Requirement already satisfied: MarkupSafe>=0.23 in c:\\users\\malfi\\anaconda3\\lib\\site-packages (from jinja2->torch->medmnist) (1.1.1)\n",
      "Requirement already satisfied: mpmath>=0.19 in c:\\users\\malfi\\anaconda3\\lib\\site-packages (from sympy->torch->medmnist) (1.2.1)\n"
     ]
    }
   ],
   "source": [
    "!pip install medmnist"
   ]
  },
  {
   "cell_type": "code",
   "execution_count": 2,
   "metadata": {
    "id": "3EcJkRsSIb9R"
   },
   "outputs": [],
   "source": [
    "import matplotlib.pyplot as plt\n",
    "import numpy as np"
   ]
  },
  {
   "cell_type": "markdown",
   "metadata": {
    "id": "gidJoaW1u4kq"
   },
   "source": [
    "Utilizzo il dataset <b>PneumoniaMNIST</b> composto da 5856 immagini a raggi X di petti di bambini con un'etichetta che indica se sono affetti o no da polmonite (0 è normale, 1 ha la polmonite)"
   ]
  },
  {
   "cell_type": "code",
   "execution_count": 3,
   "metadata": {
    "colab": {
     "base_uri": "https://localhost:8080/"
    },
    "id": "yrBC_n23KK38",
    "outputId": "dd05e0ea-126c-47e1-93b4-c5bf3a42c509"
   },
   "outputs": [
    {
     "name": "stdout",
     "output_type": "stream",
     "text": [
      "Using downloaded and verified file: C:\\Users\\malfi\\.medmnist\\pneumoniamnist.npz\n",
      "Using downloaded and verified file: C:\\Users\\malfi\\.medmnist\\pneumoniamnist.npz\n",
      "Using downloaded and verified file: C:\\Users\\malfi\\.medmnist\\pneumoniamnist.npz\n"
     ]
    }
   ],
   "source": [
    "from medmnist import PneumoniaMNIST\n",
    "\n",
    "dimensioni = [28, 64, 128, 224]\n",
    "dimensione = dimensioni[0]\n",
    "\n",
    "# Train dataset: 4708 images\n",
    "train = PneumoniaMNIST(split=\"train\", download=True, size=dimensione)\n",
    "\n",
    "# Test dataset: 524 images\n",
    "test = PneumoniaMNIST(split=\"test\", download=True, size=dimensione)\n",
    "\n",
    "# Validation dataset: 624 images\n",
    "val = PneumoniaMNIST(split=\"val\", download=True, size=dimensione)"
   ]
  },
  {
   "cell_type": "markdown",
   "metadata": {},
   "source": [
    "Le immagini sono 28x28 e sono divise in:\n",
    "<ul>\n",
    "    <li>Training set: 4708</li>\n",
    "    <li>Validation set: 524</li>\n",
    "    <li>Test set: 624</li>\n",
    "</ul>"
   ]
  },
  {
   "cell_type": "code",
   "execution_count": 4,
   "metadata": {
    "colab": {
     "base_uri": "https://localhost:8080/"
    },
    "id": "n3Q2aYncKMh0",
    "outputId": "dab91562-acdd-4aee-ca9b-72c34dfd3098"
   },
   "outputs": [
    {
     "data": {
      "text/plain": [
       "Dataset PneumoniaMNIST of size 28 (pneumoniamnist)\n",
       "    Number of datapoints: 4708\n",
       "    Root location: C:\\Users\\malfi\\.medmnist\n",
       "    Split: train\n",
       "    Task: binary-class\n",
       "    Number of channels: 1\n",
       "    Meaning of labels: {'0': 'normal', '1': 'pneumonia'}\n",
       "    Number of samples: {'train': 4708, 'val': 524, 'test': 624}\n",
       "    Description: The PneumoniaMNIST is based on a prior dataset of 5,856 pediatric chest X-Ray images. The task is binary-class classification of pneumonia against normal. We split the source training set with a ratio of 9:1 into training and validation set and use its source validation set as the test set. The source images are gray-scale, and their sizes are (384−2,916)×(127−2,713). We center-crop the images and resize them into 1×28×28.\n",
       "    License: CC BY 4.0"
      ]
     },
     "execution_count": 4,
     "metadata": {},
     "output_type": "execute_result"
    }
   ],
   "source": [
    "train"
   ]
  },
  {
   "cell_type": "code",
   "execution_count": 5,
   "metadata": {
    "colab": {
     "base_uri": "https://localhost:8080/"
    },
    "id": "ao93TaojKRR7",
    "outputId": "77b37b8e-93b0-47ae-81f8-e675287dbe47"
   },
   "outputs": [
    {
     "name": "stdout",
     "output_type": "stream",
     "text": [
      "(<PIL.Image.Image image mode=L size=28x28 at 0x248BD7DC0D0>, array([1]))\n"
     ]
    }
   ],
   "source": [
    "print(train[0])"
   ]
  },
  {
   "cell_type": "code",
   "execution_count": 6,
   "metadata": {
    "colab": {
     "base_uri": "https://localhost:8080/",
     "height": 467
    },
    "id": "dIzy_d4UKWDR",
    "outputId": "8f7ecec1-768f-411a-e10b-8c8c5a8cd073"
   },
   "outputs": [
    {
     "data": {
      "text/plain": [
       "<matplotlib.image.AxesImage at 0x248c9ae2340>"
      ]
     },
     "execution_count": 6,
     "metadata": {},
     "output_type": "execute_result"
    },
    {
     "data": {
      "image/png": "[encoded data removed]",
      "text/plain": [
       "<Figure size 432x288 with 1 Axes>"
      ]
     },
     "metadata": {
      "needs_background": "light"
     },
     "output_type": "display_data"
    }
   ],
   "source": [
    "# Display image\n",
    "plt.imshow(np.reshape(train[0][0], (dimensione,dimensione,1)), cmap='gray')"
   ]
  },
  {
   "cell_type": "markdown",
   "metadata": {},
   "source": [
    "Normalizzo e creo gli array"
   ]
  },
  {
   "cell_type": "code",
   "execution_count": 8,
   "metadata": {
    "id": "0OpnxhZvKcLH"
   },
   "outputs": [],
   "source": [
    "arr_train = np.array([np.array(immagine[0]).flatten() for immagine in train]).astype('float32') / 255.\n",
    "arr_val = np.array([np.array(immagine[0]).flatten() for immagine in val]).astype('float32') / 255.\n",
    "arr_test = np.array([np.array(immagine[0]).flatten() for immagine in test]).astype('float32') / 255."
   ]
  },
  {
   "cell_type": "code",
   "execution_count": 9,
   "metadata": {
    "colab": {
     "base_uri": "https://localhost:8080/"
    },
    "id": "jRReJm7eKg0N",
    "outputId": "02084d8a-0e26-4620-ebd1-a72fe1321736"
   },
   "outputs": [
    {
     "name": "stdout",
     "output_type": "stream",
     "text": [
      "0 4708\n",
      "4708 5232\n",
      "5232 5856\n"
     ]
    }
   ],
   "source": [
    "inizio_train = 0\n",
    "fine_train = len(arr_train)\n",
    "inizio_val = fine_train\n",
    "fine_val = fine_train+len(arr_val)\n",
    "inizio_test = fine_val\n",
    "fine_test = fine_val+len(arr_test)\n",
    "\n",
    "print(str(inizio_train)+\" \"+str(fine_train)+\"\\n\"+str(inizio_val)+\" \"+str(fine_val)+\"\\n\"+str(inizio_test)+\" \"+str(fine_test))"
   ]
  },
  {
   "cell_type": "markdown",
   "metadata": {},
   "source": [
    "Creo le label"
   ]
  },
  {
   "cell_type": "code",
   "execution_count": 10,
   "metadata": {
    "id": "NvTwtwqvKiUE"
   },
   "outputs": [],
   "source": [
    "arr_train_label = np.concatenate([i[1] for i in train])\n",
    "arr_val_label = np.concatenate([i[1] for i in val])\n",
    "arr_test_label = np.concatenate([i[1] for i in test])\n",
    "\n",
    "train_val_label = np.concatenate((arr_train_label,arr_val_label), axis = 0)\n",
    "train_test_label = np.concatenate((arr_train_label,arr_val_label,arr_test_label), axis = 0)"
   ]
  },
  {
   "cell_type": "code",
   "execution_count": 11,
   "metadata": {
    "colab": {
     "base_uri": "https://localhost:8080/"
    },
    "id": "9nTfSBR8KpBJ",
    "outputId": "290ade18-698c-47ee-d4d4-b11476d9a02e"
   },
   "outputs": [
    {
     "data": {
      "text/plain": [
       "array([[0.36078432, 0.42352942, 0.45882353, ..., 0.65882355, 0.6039216 ,\n",
       "        0.54509807],\n",
       "       [0.4509804 , 0.4627451 , 0.45882353, ..., 0.7176471 , 0.6901961 ,\n",
       "        0.6627451 ],\n",
       "       [0.58431375, 0.57254905, 0.5764706 , ..., 0.7372549 , 0.6627451 ,\n",
       "        0.6156863 ],\n",
       "       ...,\n",
       "       [0.7254902 , 0.7372549 , 0.7294118 , ..., 0.67058825, 0.627451  ,\n",
       "        0.6039216 ],\n",
       "       [0.15294118, 0.20784314, 0.32941177, ..., 0.63529414, 0.60784316,\n",
       "        0.58431375],\n",
       "       [0.05882353, 0.07450981, 0.08627451, ..., 0.7411765 , 0.6862745 ,\n",
       "        0.43529412]], dtype=float32)"
      ]
     },
     "execution_count": 11,
     "metadata": {},
     "output_type": "execute_result"
    }
   ],
   "source": [
    "arr = np.concatenate((arr_train,arr_val,arr_test),axis=0)\n",
    "arr"
   ]
  },
  {
   "cell_type": "markdown",
   "metadata": {
    "id": "Z7j9jiEvvSrf"
   },
   "source": [
    "Faccio i grafici <b><a href=\"https://scikit-learn.org/stable/modules/generated/sklearn.decomposition.PCA.html\">PCA</a></b> del dataset con 2 componenti principali:"
   ]
  },
  {
   "cell_type": "code",
   "execution_count": 106,
   "metadata": {},
   "outputs": [],
   "source": [
    "from sklearn.decomposition import PCA"
   ]
  },
  {
   "cell_type": "code",
   "execution_count": 12,
   "metadata": {
    "id": "zLv98tHXKsoz"
   },
   "outputs": [],
   "source": [
    "pca = PCA(n_components=2)\n",
    "Xt = pca.fit_transform(arr)"
   ]
  },
  {
   "cell_type": "code",
   "execution_count": 13,
   "metadata": {
    "id": "fTu_UC8AKw05"
   },
   "outputs": [],
   "source": [
    "def graficoPCA2(Xt1,Xt2,cl):\n",
    "    plot = plt.scatter(Xt1, Xt2, c=cl)\n",
    "    plt.legend(handles=plot.legend_elements()[0], labels=list(np.unique(arr_train_label).astype(np.int64)))\n",
    "    plt.axhline(y=0, color='k')\n",
    "    plt.axvline(x=0, color='k')\n",
    "    plt.show()"
   ]
  },
  {
   "cell_type": "code",
   "execution_count": 14,
   "metadata": {
    "colab": {
     "base_uri": "https://localhost:8080/",
     "height": 450
    },
    "id": "6ku9ii3SK0GF",
    "outputId": "08992732-be61-4664-ea84-619f3710b50d"
   },
   "outputs": [
    {
     "data": {
      "image/png": "[encoded data removed]",
      "text/plain": [
       "<Figure size 432x288 with 1 Axes>"
      ]
     },
     "metadata": {
      "needs_background": "light"
     },
     "output_type": "display_data"
    }
   ],
   "source": [
    "# Training\n",
    "graficoPCA2(Xt[inizio_train:fine_train,0],Xt[inizio_train:fine_train,1],list(arr_train_label.astype(np.int64)))"
   ]
  },
  {
   "cell_type": "code",
   "execution_count": 107,
   "metadata": {},
   "outputs": [
    {
     "data": {
      "image/png": "[encoded data removed]",
      "text/plain": [
       "<Figure size 432x288 with 1 Axes>"
      ]
     },
     "metadata": {
      "needs_background": "light"
     },
     "output_type": "display_data"
    }
   ],
   "source": [
    "# Validation\n",
    "graficoPCA2(Xt[inizio_val:fine_val,0],Xt[inizio_val:fine_val,1],list(arr_val_label.astype(np.int64)))"
   ]
  },
  {
   "cell_type": "code",
   "execution_count": 15,
   "metadata": {
    "colab": {
     "base_uri": "https://localhost:8080/",
     "height": 450
    },
    "id": "RVWkYyitK3CQ",
    "outputId": "65edbf18-fb74-47e2-87e7-434a728a5d08"
   },
   "outputs": [
    {
     "data": {
      "image/png": "[encoded data removed]",
      "text/plain": [
       "<Figure size 432x288 with 1 Axes>"
      ]
     },
     "metadata": {
      "needs_background": "light"
     },
     "output_type": "display_data"
    }
   ],
   "source": [
    "# Test\n",
    "graficoPCA2(Xt[inizio_test:fine_test,0],Xt[inizio_test:fine_test,1],list(arr_test_label.astype(np.int64)))"
   ]
  },
  {
   "cell_type": "markdown",
   "metadata": {
    "id": "IE002UlIvX2_"
   },
   "source": [
    "Ottengo un grafico e una lista in ordine drecrescente delle componenti principali con la percentuale di immagine rappresentata"
   ]
  },
  {
   "cell_type": "code",
   "execution_count": 17,
   "metadata": {
    "colab": {
     "base_uri": "https://localhost:8080/"
    },
    "id": "XA5N0W_7LEQl",
    "outputId": "444910a1-8f87-48da-d85e-e9ef24feeba0"
   },
   "outputs": [
    {
     "data": {
      "text/plain": [
       "array([[0.0312668 , 0.02975934, 0.02732017, ..., 0.00815819, 0.00942262,\n",
       "        0.01059094],\n",
       "       [0.02975934, 0.03176627, 0.03107584, ..., 0.00774073, 0.00867247,\n",
       "        0.00974506],\n",
       "       [0.02732017, 0.03107584, 0.03376412, ..., 0.00754055, 0.00861237,\n",
       "        0.01008434],\n",
       "       ...,\n",
       "       [0.00815819, 0.00774073, 0.00754055, ..., 0.02000582, 0.0217218 ,\n",
       "        0.02096013],\n",
       "       [0.00942262, 0.00867247, 0.00861237, ..., 0.0217218 , 0.0298541 ,\n",
       "        0.03278605],\n",
       "       [0.01059094, 0.00974506, 0.01008434, ..., 0.02096013, 0.03278605,\n",
       "        0.0442687 ]])"
      ]
     },
     "execution_count": 17,
     "metadata": {},
     "output_type": "execute_result"
    }
   ],
   "source": [
    "covarianza = np.cov(np.transpose(arr_train))\n",
    "covarianza"
   ]
  },
  {
   "cell_type": "code",
   "execution_count": 18,
   "metadata": {
    "colab": {
     "base_uri": "https://localhost:8080/"
    },
    "id": "_03WMI9VLIgI",
    "outputId": "99227488-6a6c-4834-e8fe-8cf48d893439"
   },
   "outputs": [
    {
     "data": {
      "text/plain": [
       "array([5.03411875e+00, 1.28247825e+00, 9.31803910e-01, 6.95689067e-01,\n",
       "       5.51821338e-01, 4.44436963e-01, 4.21213986e-01, 3.25636150e-01,\n",
       "       2.74622264e-01, 2.18015134e-01, 1.97510237e-01, 1.72740028e-01,\n",
       "       1.55791341e-01, 1.49679308e-01, 1.33184603e-01, 1.11294374e-01,\n",
       "       9.96014502e-02, 8.53467583e-02, 8.17596676e-02, 7.88630207e-02,\n",
       "       6.70183866e-02, 6.57622433e-02, 6.25643433e-02, 5.16894519e-02,\n",
       "       4.84369495e-02, 4.64258199e-02, 4.51638465e-02, 3.98951452e-02,\n",
       "       3.83796776e-02, 3.80057477e-02, 3.62463040e-02, 3.38760125e-02,\n",
       "       3.07016405e-02, 2.90236311e-02, 2.86257218e-02, 2.59922831e-02,\n",
       "       2.47976825e-02, 2.39553658e-02, 2.29218284e-02, 2.20631241e-02,\n",
       "       2.18431474e-02, 2.04589778e-02, 1.90333240e-02, 1.89120373e-02,\n",
       "       1.78360025e-02, 1.74998388e-02, 1.70235658e-02, 1.58623408e-02,\n",
       "       1.49330337e-02, 1.46127541e-02, 1.45965312e-02, 1.39195015e-02,\n",
       "       1.33053388e-02, 1.28879222e-02, 1.24446802e-02, 1.19907491e-02,\n",
       "       1.18093280e-02, 1.15724959e-02, 1.13930269e-02, 1.09370849e-02,\n",
       "       1.08014851e-02, 1.04381545e-02, 1.02279579e-02, 9.89477502e-03,\n",
       "       9.72563251e-03, 9.47629172e-03, 9.24414719e-03, 9.08322997e-03,\n",
       "       8.86287512e-03, 8.65085727e-03, 8.49980406e-03, 8.24330039e-03,\n",
       "       8.10475301e-03, 7.97667592e-03, 7.90179657e-03, 7.74436424e-03,\n",
       "       7.54050558e-03, 7.22340322e-03, 7.00426160e-03, 6.84422308e-03,\n",
       "       6.89768874e-03, 6.66765479e-03, 6.45357483e-03, 6.29473388e-03,\n",
       "       6.38780317e-03, 6.08911276e-03, 6.13557811e-03, 5.93642719e-03,\n",
       "       5.83821466e-03, 5.73310377e-03, 5.67559031e-03, 5.62164600e-03,\n",
       "       5.56435290e-03, 5.41318763e-03, 5.30571459e-03, 5.22221261e-03,\n",
       "       5.10904314e-03, 5.06231088e-03, 4.99183108e-03, 4.97221846e-03,\n",
       "       4.86350535e-03, 4.77604699e-03, 4.69015010e-03, 4.63264877e-03,\n",
       "       4.55366619e-03, 4.50378092e-03, 4.35185880e-03, 4.42233407e-03,\n",
       "       4.19979863e-03, 4.28815083e-03, 4.27269613e-03, 4.13024618e-03,\n",
       "       4.03563246e-03, 4.23153804e-03, 4.05343861e-03, 3.94745334e-03,\n",
       "       3.92982042e-03, 3.86078211e-03, 3.77603006e-03, 3.76297613e-03,\n",
       "       3.70582347e-03, 3.60419411e-03, 3.68352768e-03, 3.64476313e-03,\n",
       "       3.51520522e-03, 3.46717559e-03, 3.41178432e-03, 3.39428686e-03,\n",
       "       3.35477481e-03, 3.31761907e-03, 3.28912630e-03, 3.23982010e-03,\n",
       "       3.18117076e-03, 3.14743248e-03, 3.11304279e-03, 3.05581958e-03,\n",
       "       3.02107048e-03, 3.00740858e-03, 2.96646670e-03, 2.94296894e-03,\n",
       "       2.90949182e-03, 2.88055141e-03, 2.86282051e-03, 2.82635504e-03,\n",
       "       2.78622205e-03, 2.76410044e-03, 2.74580238e-03, 2.71805897e-03,\n",
       "       2.67365044e-03, 2.65861601e-03, 2.63287657e-03, 2.59939003e-03,\n",
       "       2.61774324e-03, 2.54023307e-03, 2.49642221e-03, 2.46150636e-03,\n",
       "       2.44734867e-03, 2.46911792e-03, 2.41464828e-03, 2.39046791e-03,\n",
       "       2.35136323e-03, 2.33694084e-03, 2.32534542e-03, 2.30151167e-03,\n",
       "       2.27334092e-03, 2.23769626e-03, 2.22858226e-03, 2.20185027e-03,\n",
       "       2.14278228e-03, 2.14748765e-03, 2.12291393e-03, 2.10916177e-03,\n",
       "       2.07134566e-03, 2.04137608e-03, 2.01473718e-03, 2.02996539e-03,\n",
       "       1.97301213e-03, 1.95050321e-03, 1.96490628e-03, 1.92519758e-03,\n",
       "       1.91423815e-03, 1.90234584e-03, 1.88356501e-03, 1.89321537e-03,\n",
       "       1.86835746e-03, 1.82856881e-03, 1.79559327e-03, 1.85453685e-03,\n",
       "       1.68683044e-03, 1.75997393e-03, 1.82028253e-03, 1.77800141e-03,\n",
       "       1.71244919e-03, 1.74102349e-03, 1.69961340e-03, 1.68248248e-03,\n",
       "       1.73263793e-03, 1.65733421e-03, 1.64614182e-03, 1.62628944e-03,\n",
       "       1.61959968e-03, 1.60596068e-03, 1.59119059e-03, 1.59518559e-03,\n",
       "       1.57198608e-03, 1.55233262e-03, 1.53363303e-03, 1.52084914e-03,\n",
       "       1.51385377e-03, 1.49791638e-03, 1.48181328e-03, 1.47295247e-03,\n",
       "       1.46293397e-03, 1.47559743e-03, 1.45831203e-03, 1.44319869e-03,\n",
       "       1.43375843e-03, 1.42437997e-03, 1.40176112e-03, 1.39369229e-03,\n",
       "       1.37458188e-03, 1.36741187e-03, 1.35660095e-03, 1.34793633e-03,\n",
       "       1.32961577e-03, 1.32438865e-03, 1.31923606e-03, 1.30717519e-03,\n",
       "       1.29512937e-03, 1.28506346e-03, 1.27243276e-03, 1.25774424e-03,\n",
       "       1.25270231e-03, 1.24518504e-03, 1.23423430e-03, 1.22471220e-03,\n",
       "       1.22027525e-03, 1.20551336e-03, 1.20035761e-03, 1.18825614e-03,\n",
       "       1.18152179e-03, 1.17121033e-03, 1.16134171e-03, 1.01604232e-03,\n",
       "       1.02213224e-03, 1.15745747e-03, 1.10686758e-03, 1.11141657e-03,\n",
       "       1.13083735e-03, 1.14030160e-03, 1.15028641e-03, 1.13580479e-03,\n",
       "       1.05544262e-03, 1.02690020e-03, 1.12196613e-03, 1.08805043e-03,\n",
       "       1.03829170e-03, 1.07078388e-03, 1.06395206e-03, 1.04101780e-03,\n",
       "       1.07924033e-03, 1.08443510e-03, 1.00410406e-03, 9.98062469e-04,\n",
       "       9.93526367e-04, 9.82242803e-04, 9.77826976e-04, 9.59273428e-04,\n",
       "       9.64304230e-04, 9.55533310e-04, 9.51614961e-04, 9.40380747e-04,\n",
       "       9.34305860e-04, 9.31362386e-04, 9.17516842e-04, 9.09288069e-04,\n",
       "       9.04665012e-04, 8.95025441e-04, 8.90252024e-04, 8.87501122e-04,\n",
       "       8.78349544e-04, 8.81938746e-04, 8.66316362e-04, 8.57120267e-04,\n",
       "       8.52427791e-04, 8.40958098e-04, 8.42733810e-04, 8.32544750e-04,\n",
       "       8.23769761e-04, 8.18270453e-04, 8.11648194e-04, 8.15100361e-04,\n",
       "       8.02986684e-04, 7.97196181e-04, 7.94109540e-04, 7.90138173e-04,\n",
       "       7.78462659e-04, 7.72159264e-04, 7.68478980e-04, 7.62074695e-04,\n",
       "       7.54306040e-04, 7.52399613e-04, 7.43546591e-04, 7.40073685e-04,\n",
       "       7.32144118e-04, 7.25798781e-04, 7.14272263e-04, 7.21881482e-04,\n",
       "       7.08781397e-04, 6.98181432e-04, 6.93916638e-04, 7.50185032e-04,\n",
       "       7.16835450e-04, 6.88565209e-04, 6.82430161e-04, 6.72743708e-04,\n",
       "       6.78556371e-04, 6.66856108e-04, 6.59216568e-04, 6.55676943e-04,\n",
       "       6.54195912e-04, 6.42487359e-04, 6.44800756e-04, 6.49262214e-04,\n",
       "       6.10853845e-04, 6.36957143e-04, 6.32101797e-04, 6.27553969e-04,\n",
       "       6.20031454e-04, 6.24563542e-04, 6.04156089e-04, 6.01608297e-04,\n",
       "       5.93617592e-04, 5.90245664e-04, 5.86107754e-04, 5.76332139e-04,\n",
       "       5.77882384e-04, 5.69348246e-04, 5.65144156e-04, 5.60538651e-04,\n",
       "       5.63498764e-04, 5.44077490e-04, 5.52377375e-04, 5.52632037e-04,\n",
       "       5.32709446e-04, 5.37854552e-04, 3.84337072e-04, 3.86278588e-04,\n",
       "       5.34568948e-04, 5.26067398e-04, 5.20910265e-04, 3.89255093e-04,\n",
       "       3.90979909e-04, 3.94709052e-04, 3.96718002e-04, 5.14073613e-04,\n",
       "       5.20641782e-04, 4.00171072e-04, 5.10731051e-04, 5.19017237e-04,\n",
       "       4.06214427e-04, 5.01962628e-04, 4.08813156e-04, 5.01230022e-04,\n",
       "       4.13796264e-04, 4.15955821e-04, 4.89319208e-04, 5.00502936e-04,\n",
       "       4.85839875e-04, 4.93650633e-04, 4.20945679e-04, 4.76494117e-04,\n",
       "       4.74321560e-04, 4.25039341e-04, 4.30633313e-04, 4.28565359e-04,\n",
       "       4.69688021e-04, 4.39544816e-04, 4.45000243e-04, 4.53010981e-04,\n",
       "       4.60976856e-04, 4.51817504e-04, 4.43759698e-04, 4.57802172e-04,\n",
       "       4.27427981e-04, 4.79129367e-04, 4.67107937e-04, 4.33960080e-04,\n",
       "       3.40270076e-04, 3.41716839e-04, 3.46509055e-04, 3.48343577e-04,\n",
       "       3.55965559e-04, 3.57011630e-04, 3.61896512e-04, 3.65451273e-04,\n",
       "       3.77404589e-04, 3.72032246e-04, 3.69113892e-04, 3.57756274e-04,\n",
       "       3.75848955e-04, 3.31720336e-04, 3.36005956e-04, 3.23878067e-04,\n",
       "       2.83000707e-04, 3.21925919e-04, 3.13877649e-04, 3.15177588e-04,\n",
       "       2.90952333e-04, 3.28009655e-04, 2.94033294e-04, 3.06441691e-04,\n",
       "       3.27477674e-04, 3.18499822e-04, 2.77388404e-04, 3.05366573e-04,\n",
       "       3.35665558e-04, 2.79484241e-04, 3.01666092e-04, 2.98875490e-04,\n",
       "       2.99768502e-04, 3.00165866e-04, 2.74360422e-04, 2.69712736e-04,\n",
       "       2.79031706e-04, 2.66436527e-04, 2.61916222e-04, 2.71543072e-04,\n",
       "       2.59379185e-04, 2.55233124e-04, 2.68416666e-04, 2.56889103e-04,\n",
       "       1.64109303e-04, 1.65276514e-04, 1.67068768e-04, 2.50536508e-04,\n",
       "       2.45646116e-04, 2.48512658e-04, 1.70033829e-04, 2.52549915e-04,\n",
       "       2.41576457e-04, 1.75056752e-04, 1.78120248e-04, 2.43397991e-04,\n",
       "       2.31891343e-04, 2.37849947e-04, 2.39385668e-04, 1.79343236e-04,\n",
       "       2.29730868e-04, 1.82388200e-04, 2.23717026e-04, 2.27250449e-04,\n",
       "       1.85051372e-04, 2.20255222e-04, 2.19127178e-04, 2.16374264e-04,\n",
       "       2.28465264e-04, 1.89400903e-04, 2.12264137e-04, 1.95769847e-04,\n",
       "       1.97890808e-04, 2.08121426e-04, 2.06428059e-04, 2.03069222e-04,\n",
       "       1.86923574e-04, 1.92433801e-04, 1.92947390e-04, 2.02200550e-04,\n",
       "       2.10666013e-04, 1.99986330e-04, 2.14627062e-04, 7.25461089e-05,\n",
       "       7.40061150e-05, 7.74600332e-05, 7.99822391e-05, 8.28151545e-05,\n",
       "       8.40218549e-05, 8.99230913e-05, 9.19876416e-05, 9.46185093e-05,\n",
       "       9.73323991e-05, 1.58861447e-04, 1.04066390e-04, 1.39548429e-04,\n",
       "       1.38426542e-04, 1.33837945e-04, 1.53738674e-04, 1.50226492e-04,\n",
       "       1.52878794e-04, 1.07344497e-04, 1.31641363e-04, 1.28503735e-04,\n",
       "       1.44878073e-04, 1.26802804e-04, 1.09179154e-04, 1.13055889e-04,\n",
       "       1.11842851e-04, 1.46451482e-04, 1.19066943e-04, 1.22471587e-04,\n",
       "       1.62493842e-04, 1.72028043e-04, 1.43397460e-04, 1.17845713e-04,\n",
       "       1.16401262e-04, 1.21609496e-04, 1.25485239e-04, 1.47326585e-04,\n",
       "       1.57510068e-04, 7.06299601e-05, 6.77272795e-05, 6.62077379e-05,\n",
       "       6.58185388e-05, 5.67985156e-05, 6.16723545e-05, 5.83113523e-05,\n",
       "       5.92180779e-05, 5.96289011e-05, 6.35439809e-05, 5.43464718e-05,\n",
       "       4.97974405e-05, 5.26342784e-05, 5.14748638e-05, 5.17492904e-05,\n",
       "       4.74206418e-05, 4.81058817e-05, 4.68386039e-05, 4.54483450e-05,\n",
       "       4.48298290e-05, 4.39252384e-05, 4.35171151e-05, 4.21139965e-05,\n",
       "       3.08981964e-05, 4.15415566e-05, 4.05044497e-05, 4.00348776e-05,\n",
       "       3.35058936e-05, 3.94621689e-05, 3.48630215e-05, 3.58269246e-05,\n",
       "       3.89718874e-05, 3.73666997e-05, 3.27609100e-05, 3.86997482e-05,\n",
       "       3.68813702e-05, 3.61615038e-05, 3.30463975e-05, 3.80433567e-05,\n",
       "       3.25737629e-05, 3.44875013e-05, 3.05312640e-05, 3.06691131e-05,\n",
       "       2.82158814e-05, 2.74156811e-05, 2.69753257e-05, 2.62003826e-05,\n",
       "       2.52331988e-05, 2.45670003e-05, 2.34571183e-05, 2.25609786e-05,\n",
       "       2.28291697e-05, 2.21176492e-05, 2.16696050e-05, 2.14524010e-05,\n",
       "       2.06968432e-05, 2.11568769e-05, 2.00015247e-05, 1.92571457e-05,\n",
       "       1.89146029e-05, 1.83259328e-05, 1.86445757e-05, 1.77982788e-05,\n",
       "       1.75935320e-05, 1.57620270e-05, 1.64892174e-05, 1.65617749e-05,\n",
       "       1.49893249e-05, 1.42619583e-05, 1.46066860e-05, 1.44886243e-05,\n",
       "       1.35901887e-05, 1.31184254e-05, 1.22294326e-05, 1.18436862e-05,\n",
       "       1.16574383e-05, 1.05920720e-05, 9.23833382e-06, 8.91184451e-06,\n",
       "       8.67577603e-06, 8.60195306e-06, 8.25087505e-06, 7.98276408e-06,\n",
       "       7.46054803e-06, 7.20195899e-06, 7.10945491e-06, 6.68504178e-06,\n",
       "       6.54944229e-06, 6.26392906e-06, 6.01119749e-06, 5.48371090e-06,\n",
       "       5.79966594e-06, 5.70955955e-06, 4.86940498e-06, 4.74666449e-06,\n",
       "       4.57002288e-06, 4.27474952e-06, 4.21539874e-06, 4.07127478e-06,\n",
       "       3.98007110e-06, 3.61888314e-06, 3.43900427e-06, 3.29809949e-06,\n",
       "       3.10735976e-06, 3.01369653e-06, 2.63067256e-06, 2.49587082e-06,\n",
       "       2.35985640e-06, 2.28143626e-06, 2.19342589e-06, 2.13746381e-06,\n",
       "       2.04059323e-06, 1.96316828e-06, 1.90386825e-06, 1.87558360e-06,\n",
       "       1.78234648e-06, 1.73473460e-06, 1.71782085e-06, 1.67660452e-06,\n",
       "       1.65447770e-06, 1.64518961e-06, 1.63700703e-06, 1.62255831e-06,\n",
       "       1.60810498e-06, 1.58249488e-06, 1.55077682e-06, 1.54016846e-06,\n",
       "       1.52775873e-06, 1.51503085e-06, 1.49829365e-06, 1.49667901e-06,\n",
       "       1.48643346e-06, 1.47888259e-06, 1.47123388e-06, 1.46539388e-06,\n",
       "       1.45569179e-06, 1.44536549e-06, 7.34367523e-07, 7.40037102e-07,\n",
       "       1.44081045e-06, 1.43458881e-06, 1.42864597e-06, 1.41878828e-06,\n",
       "       1.40826527e-06, 1.40517766e-06, 7.52521401e-07, 1.39504801e-06,\n",
       "       1.38840706e-06, 7.64788219e-07, 7.75420789e-07, 1.37931767e-06,\n",
       "       1.36542809e-06, 1.35937739e-06, 1.37490435e-06, 1.37282068e-06,\n",
       "       7.79313761e-07, 1.34855620e-06, 1.34514369e-06, 7.83404667e-07,\n",
       "       7.90482622e-07, 7.95335020e-07, 1.33388489e-06, 1.32891778e-06,\n",
       "       1.31626796e-06, 1.31464641e-06, 1.30775032e-06, 7.98564589e-07,\n",
       "       8.00302556e-07, 8.08763430e-07, 1.30239592e-06, 1.29597855e-06,\n",
       "       1.29109843e-06, 8.16097146e-07, 8.19849948e-07, 1.26856208e-06,\n",
       "       1.28302545e-06, 1.27958979e-06, 1.28098896e-06, 8.25697116e-07,\n",
       "       1.26098247e-06, 8.30444989e-07, 8.32203882e-07, 1.25726966e-06,\n",
       "       1.25420072e-06, 1.25183378e-06, 1.24597849e-06, 8.43056408e-07,\n",
       "       8.39246834e-07, 1.23656262e-06, 1.23445068e-06, 1.22794967e-06,\n",
       "       1.21723007e-06, 1.22231092e-06, 1.20865243e-06, 1.21005741e-06,\n",
       "       8.53521565e-07, 8.55536822e-07, 1.19668636e-06, 1.19604204e-06,\n",
       "       1.19196573e-06, 1.19024434e-06, 8.63735930e-07, 1.18235407e-06,\n",
       "       8.66968905e-07, 8.68706700e-07, 1.17975959e-06, 8.72923661e-07,\n",
       "       8.78514640e-07, 8.79316786e-07, 1.17183270e-06, 1.16843997e-06,\n",
       "       1.16711376e-06, 1.15994258e-06, 8.92790225e-07, 8.88989199e-07,\n",
       "       8.86185951e-07, 1.15583770e-06, 1.14665065e-06, 1.14334786e-06,\n",
       "       8.98798567e-07, 9.03834959e-07, 9.04324777e-07, 9.11223516e-07,\n",
       "       1.13925736e-06, 9.13333366e-07, 1.13321698e-06, 1.13091201e-06,\n",
       "       9.19984857e-07, 9.18272131e-07, 9.26322947e-07, 1.12759377e-06,\n",
       "       9.30270005e-07, 9.40028752e-07, 1.12207956e-06, 1.11277056e-06,\n",
       "       1.11121357e-06, 1.10426314e-06, 1.09776752e-06, 9.45811711e-07,\n",
       "       9.44491029e-07, 1.09425213e-06, 9.52141740e-07, 1.08535894e-06,\n",
       "       1.08931669e-06, 1.07501505e-06, 9.60051520e-07, 9.61479232e-07,\n",
       "       9.63834364e-07, 1.06197687e-06, 1.05959221e-06, 9.67782672e-07,\n",
       "       9.68976822e-07, 9.71264422e-07, 1.04911520e-06, 9.80157301e-07,\n",
       "       1.02386307e-06, 1.03623849e-06, 1.02954245e-06, 1.04587624e-06,\n",
       "       1.00983768e-06, 9.76930147e-07, 9.85864311e-07, 1.04028817e-06,\n",
       "       1.03086763e-06, 9.97442938e-07, 1.00796858e-06, 1.00337939e-06,\n",
       "       1.00492916e-06, 9.92859529e-07, 1.07962231e-06, 1.02087009e-06,\n",
       "       1.07208397e-06, 1.06843592e-06, 1.06514049e-06, 1.01973474e-06])"
      ]
     },
     "execution_count": 18,
     "metadata": {},
     "output_type": "execute_result"
    }
   ],
   "source": [
    "from numpy import linalg as LA\n",
    "autovalori = LA.eigvals(covarianza)\n",
    "autovalori"
   ]
  },
  {
   "cell_type": "code",
   "execution_count": 19,
   "metadata": {
    "colab": {
     "base_uri": "https://localhost:8080/"
    },
    "id": "pgni7VVRLKfU",
    "outputId": "9981763b-4843-4be7-b84c-7858d219f987"
   },
   "outputs": [
    {
     "data": {
      "text/plain": [
       "13.292795876217038"
      ]
     },
     "execution_count": 19,
     "metadata": {},
     "output_type": "execute_result"
    }
   ],
   "source": [
    "totale = np.sum(autovalori)\n",
    "totale"
   ]
  },
  {
   "cell_type": "code",
   "execution_count": 20,
   "metadata": {
    "colab": {
     "base_uri": "https://localhost:8080/"
    },
    "id": "wzbmwUnsLNIy",
    "outputId": "eb771f71-9138-4ab0-89cd-f797d6a2f388"
   },
   "outputs": [
    {
     "data": {
      "text/plain": [
       "array([ 5.03411875,  6.316597  ,  7.24840091,  7.94408998,  8.49591132,\n",
       "        8.94034828,  9.36156227,  9.68719842,  9.96182068, 10.17983581,\n",
       "       10.37734605, 10.55008608, 10.70587742, 10.85555673, 10.98874133,\n",
       "       11.1000357 , 11.19963715, 11.28498391, 11.36674358, 11.4456066 ,\n",
       "       11.51262499, 11.57838723, 11.64095157, 11.69264103, 11.74107798,\n",
       "       11.7875038 , 11.83266764, 11.87256279, 11.91094247, 11.94894821,\n",
       "       11.98519452, 12.01907053, 12.04977217, 12.0787958 , 12.10742152,\n",
       "       12.13341381, 12.15821149, 12.18216685, 12.20508868, 12.22715181,\n",
       "       12.24899495, 12.26945393, 12.28848726, 12.30739929, 12.3252353 ,\n",
       "       12.34273513, 12.3597587 , 12.37562104, 12.39055408, 12.40516683,\n",
       "       12.41976336, 12.43368286, 12.4469882 , 12.45987612, 12.4723208 ,\n",
       "       12.48431155, 12.49612088, 12.50769338, 12.5190864 , 12.53002349,\n",
       "       12.54082497, 12.55126313, 12.56149109, 12.57138586, 12.58111149,\n",
       "       12.59058778, 12.59983193, 12.60891516, 12.61777804, 12.62642889,\n",
       "       12.6349287 , 12.643172  , 12.65127675, 12.65925343, 12.66715522,\n",
       "       12.67489959, 12.68244009, 12.6896635 , 12.69666776, 12.70351198,\n",
       "       12.71040967, 12.71707733, 12.7235309 , 12.72982563, 12.73621344,\n",
       "       12.74230255, 12.74843813, 12.75437456, 12.76021277, 12.76594587,\n",
       "       12.77162146, 12.77724311, 12.78280746, 12.78822065, 12.79352637,\n",
       "       12.79874858, 12.80385762, 12.80891993, 12.81391176, 12.81888398,\n",
       "       12.82374749, 12.82852353, 12.83321368, 12.83784633, 12.8424    ,\n",
       "       12.84690378, 12.85125564, 12.85567797, 12.85987777, 12.86416592,\n",
       "       12.86843862, 12.87256886, 12.8766045 , 12.88083603, 12.88488947,\n",
       "       12.88883693, 12.89276675, 12.89662753, 12.90040356, 12.90416654,\n",
       "       12.90787236, 12.91147655, 12.91516008, 12.91880484, 12.92232005,\n",
       "       12.92578722, 12.92919901, 12.9325933 , 12.93594807, 12.93926569,\n",
       "       12.94255482, 12.94579464, 12.94897581, 12.95212324, 12.95523628,\n",
       "       12.9582921 , 12.96131317, 12.96432058, 12.96728705, 12.97023002,\n",
       "       12.97313951, 12.97602006, 12.97888288, 12.98170924, 12.98449546,\n",
       "       12.98725956, 12.99000536, 12.99272342, 12.99539707, 12.99805569,\n",
       "       13.00068856, 13.00328795, 13.0059057 , 13.00844593, 13.01094235,\n",
       "       13.01340386, 13.01585121, 13.01832032, 13.02073497, 13.02312544,\n",
       "       13.0254768 , 13.02781374, 13.03013909, 13.0324406 , 13.03471394,\n",
       "       13.03695164, 13.03918022, 13.04138207, 13.04352485, 13.04567234,\n",
       "       13.04779525, 13.04990442, 13.05197576, 13.05401714, 13.05603188,\n",
       "       13.05806184, 13.06003485, 13.06198536, 13.06395026, 13.06587546,\n",
       "       13.0677897 , 13.06969204, 13.07157561, 13.07346882, 13.07533718,\n",
       "       13.07716575, 13.07896134, 13.08081588, 13.08250271, 13.08426268,\n",
       "       13.08608297, 13.08786097, 13.08957342, 13.09131444, 13.09301405,\n",
       "       13.09469654, 13.09642918, 13.09808651, 13.09973265, 13.10135894,\n",
       "       13.10297854, 13.1045845 , 13.10617569, 13.10777088, 13.10934286,\n",
       "       13.1108952 , 13.11242883, 13.11394968, 13.11546353, 13.11696145,\n",
       "       13.11844326, 13.11991621, 13.12137915, 13.12285475, 13.12431306,\n",
       "       13.12575626, 13.12719001, 13.12861439, 13.13001616, 13.13140985,\n",
       "       13.13278443, 13.13415184, 13.13550844, 13.13685638, 13.13818599,\n",
       "       13.13951038, 13.14082962, 13.14213679, 13.14343192, 13.14471699,\n",
       "       13.14598942, 13.14724716, 13.14849987, 13.14974505, 13.15097929,\n",
       "       13.152204  , 13.15342427, 13.15462979, 13.15583014, 13.1570184 ,\n",
       "       13.15819992, 13.15937113, 13.16053247, 13.16154852, 13.16257065,\n",
       "       13.16372811, 13.16483497, 13.16594639, 13.16707723, 13.16821753,\n",
       "       13.16936782, 13.17050362, 13.17155906, 13.17258596, 13.17370793,\n",
       "       13.17479598, 13.17583427, 13.17690506, 13.17796901, 13.17901003,\n",
       "       13.18008927, 13.1811737 , 13.18217781, 13.18317587, 13.18416939,\n",
       "       13.18515164, 13.18612946, 13.18708874, 13.18805304, 13.18900857,\n",
       "       13.18996019, 13.19090057, 13.19183488, 13.19276624, 13.19368376,\n",
       "       13.19459304, 13.19549771, 13.19639273, 13.19728299, 13.19817049,\n",
       "       13.19904884, 13.19993078, 13.20079709, 13.20165421, 13.20250664,\n",
       "       13.2033476 , 13.20419033, 13.20502288, 13.20584665, 13.20666492,\n",
       "       13.20747657, 13.20829167, 13.20909465, 13.20989185, 13.21068596,\n",
       "       13.2114761 , 13.21225456, 13.21302672, 13.2137952 , 13.21455727,\n",
       "       13.21531158, 13.21606398, 13.21680752, 13.2175476 , 13.21827974,\n",
       "       13.21900554, 13.21971981, 13.22044169, 13.22115048, 13.22184866,\n",
       "       13.22254257, 13.22329276, 13.22400959, 13.22469816, 13.22538059,\n",
       "       13.22605333, 13.22673189, 13.22739875, 13.22805796, 13.22871364,\n",
       "       13.22936784, 13.23001032, 13.23065512, 13.23130439, 13.23191524,\n",
       "       13.2325522 , 13.2331843 , 13.23381185, 13.23443188, 13.23505645,\n",
       "       13.2356606 , 13.23626221, 13.23685583, 13.23744607, 13.23803218,\n",
       "       13.23860851, 13.2391864 , 13.23975575, 13.24032089, 13.24088143,\n",
       "       13.24144493, 13.241989  , 13.24254138, 13.24309401, 13.24362672,\n",
       "       13.24416458, 13.24454891, 13.24493519, 13.24546976, 13.24599583,\n",
       "       13.24651674, 13.246906  , 13.24729698, 13.24769168, 13.2480884 ,\n",
       "       13.24860248, 13.24912312, 13.24952329, 13.25003402, 13.25055304,\n",
       "       13.25095925, 13.25146121, 13.25187003, 13.25237126, 13.25278505,\n",
       "       13.25320101, 13.25369033, 13.25419083, 13.25467667, 13.25517032,\n",
       "       13.25559127, 13.25606776, 13.25654208, 13.25696712, 13.25739776,\n",
       "       13.25782632, 13.25829601, 13.25873555, 13.25918055, 13.25963357,\n",
       "       13.26009454, 13.26054636, 13.26099012, 13.26144792, 13.26187535,\n",
       "       13.26235448, 13.26282159, 13.26325555, 13.26359582, 13.26393753,\n",
       "       13.26428404, 13.26463239, 13.26498835, 13.26534536, 13.26570726,\n",
       "       13.26607271, 13.26645012, 13.26682215, 13.26719126, 13.26754902,\n",
       "       13.26792487, 13.26825659, 13.26859259, 13.26891647, 13.26919947,\n",
       "       13.2695214 , 13.26983528, 13.27015045, 13.27044141, 13.27076942,\n",
       "       13.27106345, 13.27136989, 13.27169737, 13.27201587, 13.27229326,\n",
       "       13.27259862, 13.27293429, 13.27321377, 13.27351544, 13.27381431,\n",
       "       13.27411408, 13.27441425, 13.27468861, 13.27495832, 13.27523735,\n",
       "       13.27550379, 13.27576571, 13.27603725, 13.27629663, 13.27655186,\n",
       "       13.27682028, 13.27707717, 13.27724128, 13.27740655, 13.27757362,\n",
       "       13.27782416, 13.2780698 , 13.27831832, 13.27848835, 13.2787409 ,\n",
       "       13.27898248, 13.27915753, 13.27933565, 13.27957905, 13.27981094,\n",
       "       13.28004879, 13.28028818, 13.28046752, 13.28069725, 13.28087964,\n",
       "       13.28110336, 13.28133061, 13.28151566, 13.28173592, 13.28195504,\n",
       "       13.28217142, 13.28239988, 13.28258928, 13.28280155, 13.28299732,\n",
       "       13.28319521, 13.28340333, 13.28360976, 13.28381283, 13.28399975,\n",
       "       13.28419218, 13.28438513, 13.28458733, 13.284798  , 13.28499798,\n",
       "       13.28521261, 13.28528516, 13.28535916, 13.28543662, 13.28551661,\n",
       "       13.28559942, 13.28568344, 13.28577337, 13.28586535, 13.28595997,\n",
       "       13.2860573 , 13.28621617, 13.28632023, 13.28645978, 13.28659821,\n",
       "       13.28673205, 13.28688578, 13.28703601, 13.28718889, 13.28729623,\n",
       "       13.28742788, 13.28755638, 13.28770126, 13.28782806, 13.28793724,\n",
       "       13.2880503 , 13.28816214, 13.28830859, 13.28842766, 13.28855013,\n",
       "       13.28871262, 13.28888465, 13.28902805, 13.28914589, 13.28926229,\n",
       "       13.2893839 , 13.28950939, 13.28965672, 13.28981423, 13.28988486,\n",
       "       13.28995258, 13.29001879, 13.29008461, 13.29014141, 13.29020308,\n",
       "       13.29026139, 13.29032061, 13.29038024, 13.29044378, 13.29049813,\n",
       "       13.29054793, 13.29060056, 13.29065204, 13.29070378, 13.29075121,\n",
       "       13.29079931, 13.29084615, 13.2908916 , 13.29093643, 13.29098035,\n",
       "       13.29102387, 13.29106598, 13.29109688, 13.29113842, 13.29117893,\n",
       "       13.29121896, 13.29125247, 13.29129193, 13.29132679, 13.29136262,\n",
       "       13.29140159, 13.29143896, 13.29147172, 13.29151042, 13.2915473 ,\n",
       "       13.29158346, 13.29161651, 13.29165455, 13.29168713, 13.29172161,\n",
       "       13.29175215, 13.29178281, 13.29181103, 13.29183845, 13.29186542,\n",
       "       13.29189162, 13.29191686, 13.29194142, 13.29196488, 13.29198744,\n",
       "       13.29201027, 13.29203239, 13.29205406, 13.29207551, 13.29209621,\n",
       "       13.29211736, 13.29213736, 13.29215662, 13.29217554, 13.29219386,\n",
       "       13.29221251, 13.29223031, 13.2922479 , 13.29226366, 13.29228015,\n",
       "       13.29229671, 13.2923117 , 13.29232596, 13.29234057, 13.29235506,\n",
       "       13.29236865, 13.29238177, 13.292394  , 13.29240584, 13.2924175 ,\n",
       "       13.29242809, 13.29243733, 13.29244624, 13.29245492, 13.29246352,\n",
       "       13.29247177, 13.29247975, 13.29248721, 13.29249441, 13.29250152,\n",
       "       13.29250821, 13.29251476, 13.29252102, 13.29252703, 13.29253252,\n",
       "       13.29253832, 13.29254403, 13.29254889, 13.29255364, 13.29255821,\n",
       "       13.29256249, 13.2925667 , 13.29257077, 13.29257475, 13.29257837,\n",
       "       13.29258181, 13.29258511, 13.29258822, 13.29259123, 13.29259386,\n",
       "       13.29259636, 13.29259872, 13.292601  , 13.29260319, 13.29260533,\n",
       "       13.29260737, 13.29260933, 13.29261124, 13.29261311, 13.29261489,\n",
       "       13.29261663, 13.29261835, 13.29262002, 13.29262168, 13.29262332,\n",
       "       13.29262496, 13.29262658, 13.29262819, 13.29262977, 13.29263132,\n",
       "       13.29263286, 13.29263439, 13.29263591, 13.29263741, 13.2926389 ,\n",
       "       13.29264039, 13.29264187, 13.29264334, 13.2926448 , 13.29264626,\n",
       "       13.29264771, 13.29264844, 13.29264918, 13.29265062, 13.29265205,\n",
       "       13.29265348, 13.2926549 , 13.29265631, 13.29265772, 13.29265847,\n",
       "       13.29265986, 13.29266125, 13.29266202, 13.29266279, 13.29266417,\n",
       "       13.29266554, 13.2926669 , 13.29266827, 13.29266964, 13.29267042,\n",
       "       13.29267177, 13.29267312, 13.2926739 , 13.29267469, 13.29267549,\n",
       "       13.29267682, 13.29267815, 13.29267947, 13.29268078, 13.29268209,\n",
       "       13.29268289, 13.29268369, 13.2926845 , 13.2926858 , 13.29268709,\n",
       "       13.29268838, 13.2926892 , 13.29269002, 13.29269129, 13.29269257,\n",
       "       13.29269385, 13.29269513, 13.29269596, 13.29269722, 13.29269805,\n",
       "       13.29269888, 13.29270014, 13.29270139, 13.29270265, 13.29270389,\n",
       "       13.29270473, 13.29270557, 13.29270681, 13.29270804, 13.29270927,\n",
       "       13.29271049, 13.29271171, 13.29271292, 13.29271413, 13.29271498,\n",
       "       13.29271584, 13.29271704, 13.29271823, 13.29271942, 13.29272061,\n",
       "       13.29272148, 13.29272266, 13.29272353, 13.2927244 , 13.29272558,\n",
       "       13.29272645, 13.29272733, 13.29272821, 13.29272938, 13.29273055,\n",
       "       13.29273171, 13.29273287, 13.29273377, 13.29273466, 13.29273554,\n",
       "       13.2927367 , 13.29273785, 13.29273899, 13.29273989, 13.29274079,\n",
       "       13.2927417 , 13.29274261, 13.29274375, 13.29274466, 13.29274579,\n",
       "       13.29274692, 13.29274784, 13.29274876, 13.29274969, 13.29275082,\n",
       "       13.29275175, 13.29275269, 13.29275381, 13.29275492, 13.29275603,\n",
       "       13.29275714, 13.29275823, 13.29275918, 13.29276012, 13.29276122,\n",
       "       13.29276217, 13.29276326, 13.29276435, 13.29276542, 13.29276638,\n",
       "       13.29276734, 13.29276831, 13.29276937, 13.29277043, 13.29277139,\n",
       "       13.29277236, 13.29277334, 13.29277438, 13.29277536, 13.29277639,\n",
       "       13.29277742, 13.29277845, 13.2927795 , 13.29278051, 13.29278149,\n",
       "       13.29278247, 13.29278351, 13.29278454, 13.29278554, 13.29278655,\n",
       "       13.29278755, 13.29278856, 13.29278955, 13.29279063, 13.29279165,\n",
       "       13.29279272, 13.29279379, 13.29279486, 13.29279588])"
      ]
     },
     "execution_count": 20,
     "metadata": {},
     "output_type": "execute_result"
    }
   ],
   "source": [
    "cum = np.cumsum(autovalori)\n",
    "cum"
   ]
  },
  {
   "cell_type": "code",
   "execution_count": 21,
   "metadata": {
    "colab": {
     "base_uri": "https://localhost:8080/"
    },
    "id": "QFGfqTn6LQ7h",
    "outputId": "a352a84e-2031-4180-8512-657747a0d1c2"
   },
   "outputs": [
    {
     "data": {
      "text/plain": [
       "array([0.3787103 , 0.4751895 , 0.54528791, 0.59762371, 0.63913652,\n",
       "       0.67257094, 0.70425833, 0.72875552, 0.749415  , 0.765816  ,\n",
       "       0.78067445, 0.79366946, 0.80538944, 0.81664962, 0.82666893,\n",
       "       0.83504146, 0.84253435, 0.84895488, 0.85510555, 0.86103832,\n",
       "       0.86608003, 0.87102723, 0.87573387, 0.8796224 , 0.88326625,\n",
       "       0.88675881, 0.89015642, 0.89315768, 0.89604494, 0.89890406,\n",
       "       0.90163083, 0.90417927, 0.90648892, 0.90867233, 0.91082581,\n",
       "       0.91278117, 0.91464667, 0.9164488 , 0.91817318, 0.91983296,\n",
       "       0.92147619, 0.9230153 , 0.92444715, 0.92586988, 0.92721166,\n",
       "       0.92852815, 0.92980881, 0.93100211, 0.93212551, 0.9332248 ,\n",
       "       0.93432288, 0.93537003, 0.93637097, 0.93734051, 0.93827671,\n",
       "       0.93917876, 0.94006716, 0.94093774, 0.94179483, 0.94261761,\n",
       "       0.94343019, 0.94421544, 0.94498488, 0.94572925, 0.9464609 ,\n",
       "       0.94717379, 0.94786921, 0.94855253, 0.94921927, 0.94987007,\n",
       "       0.9505095 , 0.95112963, 0.95173934, 0.95233941, 0.95293386,\n",
       "       0.95351645, 0.95408372, 0.95462712, 0.95515405, 0.95566893,\n",
       "       0.95618783, 0.95668943, 0.95717493, 0.95764847, 0.95812902,\n",
       "       0.95858709, 0.95904866, 0.95949525, 0.95993446, 0.96036575,\n",
       "       0.96079272, 0.96121563, 0.96163423, 0.96204145, 0.96244059,\n",
       "       0.96283345, 0.9632178 , 0.96359863, 0.96397416, 0.96434822,\n",
       "       0.96471409, 0.96507339, 0.96542622, 0.96577473, 0.9661173 ,\n",
       "       0.96645611, 0.96678349, 0.96711618, 0.96743213, 0.96775472,\n",
       "       0.96807615, 0.96838686, 0.96869046, 0.96900879, 0.96931372,\n",
       "       0.96961069, 0.96990632, 0.97019676, 0.97048083, 0.97076391,\n",
       "       0.9710427 , 0.97131384, 0.97159094, 0.97186513, 0.97212958,\n",
       "       0.97239041, 0.97264707, 0.97290242, 0.9731548 , 0.97340438,\n",
       "       0.97365181, 0.97389554, 0.97413486, 0.97437163, 0.97460582,\n",
       "       0.97483571, 0.97506298, 0.97528922, 0.97551239, 0.97573378,\n",
       "       0.97595266, 0.97616936, 0.97638473, 0.97659735, 0.97680695,\n",
       "       0.97701489, 0.97722146, 0.97742593, 0.97762707, 0.97782707,\n",
       "       0.97802514, 0.97822069, 0.97841762, 0.97860872, 0.97879652,\n",
       "       0.9789817 , 0.97916581, 0.97935156, 0.97953321, 0.97971304,\n",
       "       0.97988993, 0.98006573, 0.98024067, 0.98041381, 0.98058483,\n",
       "       0.98075317, 0.98092082, 0.98108646, 0.98124766, 0.98140921,\n",
       "       0.98156892, 0.98172759, 0.98188341, 0.98203698, 0.98218855,\n",
       "       0.98234126, 0.98248969, 0.98263642, 0.98278424, 0.98292907,\n",
       "       0.98307307, 0.98321618, 0.98335788, 0.98350031, 0.98364086,\n",
       "       0.98377842, 0.9839135 , 0.98405302, 0.98417991, 0.98431232,\n",
       "       0.98444925, 0.98458301, 0.98471183, 0.98484281, 0.98497067,\n",
       "       0.98509724, 0.98522758, 0.98535226, 0.9854761 , 0.98559844,\n",
       "       0.98572029, 0.9858411 , 0.9859608 , 0.98608081, 0.98619906,\n",
       "       0.98631584, 0.98643122, 0.98654563, 0.98665951, 0.9867722 ,\n",
       "       0.98688368, 0.98699448, 0.98710454, 0.98721555, 0.98732525,\n",
       "       0.98743382, 0.98754168, 0.98764884, 0.98775429, 0.98785914,\n",
       "       0.98796254, 0.98806541, 0.98816747, 0.98826887, 0.9883689 ,\n",
       "       0.98846853, 0.98856777, 0.98866611, 0.98876354, 0.98886021,\n",
       "       0.98895594, 0.98905056, 0.9891448 , 0.98923847, 0.98933132,\n",
       "       0.98942345, 0.98951525, 0.98960594, 0.98969624, 0.98978563,\n",
       "       0.98987452, 0.98996263, 0.99004999, 0.99012643, 0.99020332,\n",
       "       0.9902904 , 0.99037367, 0.99045728, 0.99054235, 0.99062813,\n",
       "       0.99071467, 0.99080011, 0.99087951, 0.99095676, 0.99104117,\n",
       "       0.99112302, 0.99120113, 0.99128168, 0.99136172, 0.99144004,\n",
       "       0.99152123, 0.99160281, 0.99167834, 0.99175343, 0.99182817,\n",
       "       0.99190206, 0.99197562, 0.99204779, 0.99212033, 0.99219221,\n",
       "       0.9922638 , 0.99233455, 0.99240483, 0.9924749 , 0.99254392,\n",
       "       0.99261233, 0.99268038, 0.99274772, 0.99281469, 0.99288145,\n",
       "       0.99294753, 0.99301388, 0.99307905, 0.99314353, 0.99320766,\n",
       "       0.99327092, 0.99333432, 0.99339695, 0.99345892, 0.99352048,\n",
       "       0.99358154, 0.99364286, 0.99370326, 0.99376324, 0.99382298,\n",
       "       0.99388242, 0.99394098, 0.99399907, 0.99405688, 0.99411421,\n",
       "       0.99417096, 0.99422756, 0.99428349, 0.99433917, 0.99439425,\n",
       "       0.99444885, 0.99450258, 0.99455689, 0.99461021, 0.99466273,\n",
       "       0.99471493, 0.99477137, 0.9948253 , 0.9948771 , 0.99492843,\n",
       "       0.99497904, 0.99503009, 0.99508026, 0.99512985, 0.99517918,\n",
       "       0.99522839, 0.99527672, 0.99532523, 0.99537407, 0.99542003,\n",
       "       0.99546795, 0.9955155 , 0.99556271, 0.99560935, 0.99565634,\n",
       "       0.99570179, 0.99574704, 0.9957917 , 0.99583611, 0.9958802 ,\n",
       "       0.99592355, 0.99596703, 0.99600986, 0.99605237, 0.99609454,\n",
       "       0.99613693, 0.99617786, 0.99621942, 0.99626099, 0.99630107,\n",
       "       0.99634153, 0.99637044, 0.9963995 , 0.99643972, 0.99647929,\n",
       "       0.99651848, 0.99654776, 0.99657718, 0.99660687, 0.99663671,\n",
       "       0.99667539, 0.99671455, 0.99674466, 0.99678308, 0.99682213,\n",
       "       0.99685268, 0.99689045, 0.9969212 , 0.99695891, 0.99699004,\n",
       "       0.99702133, 0.99705814, 0.99709579, 0.99713234, 0.99716948,\n",
       "       0.99720114, 0.99723699, 0.99727267, 0.99730465, 0.99733704,\n",
       "       0.99736929, 0.99740462, 0.99743769, 0.99747116, 0.99750524,\n",
       "       0.99753992, 0.99757391, 0.99760729, 0.99764173, 0.99767389,\n",
       "       0.99770993, 0.99774507, 0.99777772, 0.99780332, 0.99782902,\n",
       "       0.99785509, 0.9978813 , 0.99790808, 0.99793493, 0.99796216,\n",
       "       0.99798965, 0.99801804, 0.99804603, 0.9980738 , 0.99810071,\n",
       "       0.99812899, 0.99815394, 0.99817922, 0.99820358, 0.99822487,\n",
       "       0.99824909, 0.9982727 , 0.99829641, 0.9983183 , 0.99834298,\n",
       "       0.9983651 , 0.99838815, 0.99841279, 0.99843675, 0.99845761,\n",
       "       0.99848059, 0.99850584, 0.99852686, 0.99854956, 0.99857204,\n",
       "       0.99859459, 0.99861717, 0.99863781, 0.9986581 , 0.99867909,\n",
       "       0.99869914, 0.99871884, 0.99873927, 0.99875878, 0.99877798,\n",
       "       0.99879818, 0.9988175 , 0.99882985, 0.99884228, 0.99885485,\n",
       "       0.9988737 , 0.99889218, 0.99891087, 0.99892366, 0.99894266,\n",
       "       0.99896084, 0.99897401, 0.9989874 , 0.99900572, 0.99902316,\n",
       "       0.99904105, 0.99905906, 0.99907255, 0.99908984, 0.99910356,\n",
       "       0.99912039, 0.99913748, 0.9991514 , 0.99916797, 0.99918446,\n",
       "       0.99920074, 0.99921792, 0.99923217, 0.99924814, 0.99926287,\n",
       "       0.99927775, 0.99929341, 0.99930894, 0.99932422, 0.99933828,\n",
       "       0.99935276, 0.99936727, 0.99938248, 0.99939833, 0.99941337,\n",
       "       0.99942952, 0.99943498, 0.99944055, 0.99944637, 0.99945239,\n",
       "       0.99945862, 0.99946494, 0.99947171, 0.99947863, 0.99948574,\n",
       "       0.99949307, 0.99950502, 0.99951285, 0.99952334, 0.99953376,\n",
       "       0.99954383, 0.99955539, 0.99956669, 0.99957819, 0.99958627,\n",
       "       0.99959617, 0.99960584, 0.99961674, 0.99962628, 0.99963449,\n",
       "       0.999643  , 0.99965141, 0.99966243, 0.99967138, 0.9996806 ,\n",
       "       0.99969282, 0.99970576, 0.99971655, 0.99972542, 0.99973417,\n",
       "       0.99974332, 0.99975276, 0.99976384, 0.99977569, 0.99978101,\n",
       "       0.9997861 , 0.99979108, 0.99979603, 0.99980031, 0.99980495,\n",
       "       0.99980933, 0.99981379, 0.99981827, 0.99982305, 0.99982714,\n",
       "       0.99983089, 0.99983485, 0.99983872, 0.99984261, 0.99984618,\n",
       "       0.9998498 , 0.99985332, 0.99985674, 0.99986012, 0.99986342,\n",
       "       0.99986669, 0.99986986, 0.99987219, 0.99987531, 0.99987836,\n",
       "       0.99988137, 0.99988389, 0.99988686, 0.99988948, 0.99989218,\n",
       "       0.99989511, 0.99989792, 0.99990039, 0.9999033 , 0.99990607,\n",
       "       0.99990879, 0.99991128, 0.99991414, 0.99991659, 0.99991918,\n",
       "       0.99992148, 0.99992379, 0.99992591, 0.99992797, 0.99993   ,\n",
       "       0.99993197, 0.99993387, 0.99993572, 0.99993749, 0.99993918,\n",
       "       0.9999409 , 0.99994256, 0.99994419, 0.99994581, 0.99994736,\n",
       "       0.99994896, 0.99995046, 0.99995191, 0.99995333, 0.99995471,\n",
       "       0.99995611, 0.99995745, 0.99995878, 0.99995996, 0.9999612 ,\n",
       "       0.99996245, 0.99996358, 0.99996465, 0.99996575, 0.99996684,\n",
       "       0.99996786, 0.99996885, 0.99996977, 0.99997066, 0.99997154,\n",
       "       0.99997233, 0.99997303, 0.9999737 , 0.99997435, 0.999975  ,\n",
       "       0.99997562, 0.99997622, 0.99997678, 0.99997732, 0.99997786,\n",
       "       0.99997836, 0.99997885, 0.99997932, 0.99997978, 0.99998019,\n",
       "       0.99998062, 0.99998105, 0.99998142, 0.99998178, 0.99998212,\n",
       "       0.99998244, 0.99998276, 0.99998307, 0.99998337, 0.99998364,\n",
       "       0.9999839 , 0.99998414, 0.99998438, 0.9999846 , 0.9999848 ,\n",
       "       0.99998499, 0.99998517, 0.99998534, 0.9999855 , 0.99998567,\n",
       "       0.99998582, 0.99998597, 0.99998611, 0.99998625, 0.99998638,\n",
       "       0.99998652, 0.99998664, 0.99998677, 0.9999869 , 0.99998702,\n",
       "       0.99998714, 0.99998726, 0.99998739, 0.9999875 , 0.99998762,\n",
       "       0.99998774, 0.99998785, 0.99998797, 0.99998808, 0.99998819,\n",
       "       0.9999883 , 0.99998841, 0.99998852, 0.99998864, 0.99998874,\n",
       "       0.99998885, 0.99998891, 0.99998896, 0.99998907, 0.99998918,\n",
       "       0.99998929, 0.99998939, 0.9999895 , 0.99998961, 0.99998966,\n",
       "       0.99998977, 0.99998987, 0.99998993, 0.99998999, 0.99999009,\n",
       "       0.99999019, 0.9999903 , 0.9999904 , 0.9999905 , 0.99999056,\n",
       "       0.99999066, 0.99999076, 0.99999082, 0.99999088, 0.99999094,\n",
       "       0.99999104, 0.99999114, 0.99999124, 0.99999134, 0.99999144,\n",
       "       0.9999915 , 0.99999156, 0.99999162, 0.99999172, 0.99999182,\n",
       "       0.99999191, 0.99999197, 0.99999204, 0.99999213, 0.99999223,\n",
       "       0.99999232, 0.99999242, 0.99999248, 0.99999258, 0.99999264,\n",
       "       0.9999927 , 0.9999928 , 0.99999289, 0.99999299, 0.99999308,\n",
       "       0.99999314, 0.99999321, 0.9999933 , 0.99999339, 0.99999348,\n",
       "       0.99999358, 0.99999367, 0.99999376, 0.99999385, 0.99999391,\n",
       "       0.99999398, 0.99999407, 0.99999416, 0.99999425, 0.99999434,\n",
       "       0.9999944 , 0.99999449, 0.99999456, 0.99999462, 0.99999471,\n",
       "       0.99999478, 0.99999484, 0.99999491, 0.999995  , 0.99999509,\n",
       "       0.99999517, 0.99999526, 0.99999533, 0.99999539, 0.99999546,\n",
       "       0.99999555, 0.99999563, 0.99999572, 0.99999579, 0.99999586,\n",
       "       0.99999592, 0.99999599, 0.99999608, 0.99999615, 0.99999623,\n",
       "       0.99999632, 0.99999639, 0.99999646, 0.99999653, 0.99999661,\n",
       "       0.99999668, 0.99999675, 0.99999684, 0.99999692, 0.999997  ,\n",
       "       0.99999709, 0.99999717, 0.99999724, 0.99999731, 0.99999739,\n",
       "       0.99999746, 0.99999755, 0.99999763, 0.99999771, 0.99999778,\n",
       "       0.99999785, 0.99999793, 0.99999801, 0.99999809, 0.99999816,\n",
       "       0.99999823, 0.9999983 , 0.99999838, 0.99999846, 0.99999853,\n",
       "       0.99999861, 0.99999869, 0.99999877, 0.99999884, 0.99999892,\n",
       "       0.99999899, 0.99999907, 0.99999915, 0.99999922, 0.9999993 ,\n",
       "       0.99999937, 0.99999945, 0.99999952, 0.99999961, 0.99999968,\n",
       "       0.99999976, 0.99999984, 0.99999992, 1.        ])"
      ]
     },
     "execution_count": 21,
     "metadata": {},
     "output_type": "execute_result"
    }
   ],
   "source": [
    "cum_norm = cum/totale\n",
    "cum_norm"
   ]
  },
  {
   "cell_type": "code",
   "execution_count": 22,
   "metadata": {
    "colab": {
     "base_uri": "https://localhost:8080/",
     "height": 467
    },
    "id": "CVaSQ3OuLU6I",
    "outputId": "620bd4aa-29df-4595-973b-af58632222cf"
   },
   "outputs": [
    {
     "data": {
      "text/plain": [
       "[<matplotlib.lines.Line2D at 0x248cbf900d0>]"
      ]
     },
     "execution_count": 22,
     "metadata": {},
     "output_type": "execute_result"
    },
    {
     "data": {
      "image/png": "[encoded data removed]",
      "text/plain": [
       "<Figure size 432x288 with 1 Axes>"
      ]
     },
     "metadata": {
      "needs_background": "light"
     },
     "output_type": "display_data"
    }
   ],
   "source": [
    "plt.plot(cum_norm)"
   ]
  },
  {
   "cell_type": "code",
   "execution_count": 23,
   "metadata": {
    "colab": {
     "base_uri": "https://localhost:8080/"
    },
    "id": "588uVMO4LYr9",
    "outputId": "38134905-3564-40e9-92d6-0e68fe05c4d1"
   },
   "outputs": [
    {
     "name": "stdout",
     "output_type": "stream",
     "text": [
      "Percentuale dell'informazione: 0.37871030304869435\t\tPC:1\n",
      "Percentuale dell'informazione: 0.47518949837575997\t\tPC:2\n",
      "Percentuale dell'informazione: 0.5452879124623385\t\tPC:3\n",
      "Percentuale dell'informazione: 0.5976237095011921\t\tPC:4\n",
      "Percentuale dell'informazione: 0.6391365216079435\t\tPC:5\n",
      "Percentuale dell'informazione: 0.6725709447844894\t\tPC:6\n",
      "Percentuale dell'informazione: 0.704258333170745\t\tPC:7\n",
      "Percentuale dell'informazione: 0.7287555234751368\t\tPC:8\n",
      "Percentuale dell'informazione: 0.7494150044973217\t\tPC:9\n",
      "Percentuale dell'informazione: 0.7658160036256142\t\tPC:10\n",
      "Percentuale dell'informazione: 0.7806744456742778\t\tPC:11\n",
      "Percentuale dell'informazione: 0.7936694565943585\t\tPC:12\n",
      "Percentuale dell'informazione: 0.8053894395104709\t\tPC:13\n",
      "Percentuale dell'informazione: 0.8166496220470812\t\tPC:14\n",
      "Percentuale dell'informazione: 0.8266689290496533\t\tPC:15\n",
      "Percentuale dell'informazione: 0.8350414621695342\t\tPC:16\n",
      "Percentuale dell'informazione: 0.8425343516331392\t\tPC:17\n",
      "Percentuale dell'informazione: 0.8489548788929941\t\tPC:18\n",
      "Percentuale dell'informazione: 0.8551055539180641\t\tPC:19\n",
      "Percentuale dell'informazione: 0.8610383179112419\t\tPC:20\n",
      "Percentuale dell'informazione: 0.8660800252595571\t\tPC:21\n",
      "Percentuale dell'informazione: 0.8710272345555323\t\tPC:22\n",
      "Percentuale dell'informazione: 0.875733869931527\t\tPC:23\n",
      "Percentuale dell'informazione: 0.879622401165142\t\tPC:24\n",
      "Percentuale dell'informazione: 0.8832662508054276\t\tPC:25\n",
      "Percentuale dell'informazione: 0.8867588057414432\t\tPC:26\n",
      "Percentuale dell'informazione: 0.8901564240392181\t\tPC:27\n",
      "Percentuale dell'informazione: 0.8931576846863241\t\tPC:28\n",
      "Percentuale dell'informazione: 0.8960449386489346\t\tPC:29\n",
      "Percentuale dell'informazione: 0.8989040623437813\t\tPC:30\n",
      "Percentuale dell'informazione: 0.9016308253461188\t\tPC:31\n",
      "Percentuale dell'informazione: 0.9041792743586542\t\tPC:32\n",
      "Percentuale dell'informazione: 0.906488919433085\t\tPC:33\n",
      "Percentuale dell'informazione: 0.9086723300071172\t\tPC:34\n",
      "Percentuale dell'informazione: 0.9108258063794504\t\tPC:35\n",
      "Percentuale dell'informazione: 0.9127811725332086\t\tPC:36\n",
      "Percentuale dell'informazione: 0.9146466704107483\t\tPC:37\n",
      "Percentuale dell'informazione: 0.9164488018842987\t\tPC:38\n",
      "Percentuale dell'informazione: 0.9181731816622548\t\tPC:39\n",
      "Percentuale dell'informazione: 0.9198329622123136\t\tPC:40\n",
      "Percentuale dell'informazione: 0.9214761941988077\t\tPC:41\n",
      "Percentuale dell'informazione: 0.9230152968846724\t\tPC:42\n",
      "Percentuale dell'informazione: 0.9244471494596418\t\tPC:43\n",
      "Percentuale dell'informazione: 0.9258698777894279\t\tPC:44\n",
      "Percentuale dell'informazione: 0.9272116573988165\t\tPC:45\n",
      "Percentuale dell'informazione: 0.9285281478485999\t\tPC:46\n",
      "Percentuale dell'informazione: 0.929808808891882\t\tPC:47\n",
      "Percentuale dell'informazione: 0.931002112460763\t\tPC:48\n",
      "Percentuale dell'informazione: 0.9321255054536565\t\tPC:49\n",
      "Percentuale dell'informazione: 0.9332248042156555\t\tPC:50\n",
      "Percentuale dell'informazione: 0.9343228825517841\t\tPC:51\n",
      "Percentuale dell'informazione: 0.9353700288145927\t\tPC:52\n",
      "Percentuale dell'informazione: 0.9363709724018847\t\tPC:53\n",
      "Percentuale dell'informazione: 0.937340514275866\t\tPC:54\n",
      "Percentuale dell'informazione: 0.9382767116221008\t\tPC:55\n",
      "Percentuale dell'informazione: 0.9391787603079925\t\tPC:56\n",
      "Percentuale dell'informazione: 0.9400671609198173\t\tPC:57\n",
      "Percentuale dell'informazione: 0.9409377449581695\t\tPC:58\n",
      "Percentuale dell'informazione: 0.9417948277740473\t\tPC:59\n",
      "Percentuale dell'informazione: 0.9426176106562152\t\tPC:60\n",
      "Percentuale dell'informazione: 0.9434301925392595\t\tPC:61\n",
      "Percentuale dell'informazione: 0.9442154415244375\t\tPC:62\n",
      "Percentuale dell'informazione: 0.9449848776879292\t\tPC:63\n",
      "Percentuale dell'informazione: 0.9457292489329461\t\tPC:64\n",
      "Percentuale dell'informazione: 0.9464608958036836\t\tPC:65\n",
      "Percentuale dell'informazione: 0.9471737850869387\t\tPC:66\n",
      "Percentuale dell'informazione: 0.9478692104344573\t\tPC:67\n",
      "Percentuale dell'informazione: 0.9485525301852922\t\tPC:68\n",
      "Percentuale dell'informazione: 0.9492192729238033\t\tPC:69\n",
      "Percentuale dell'informazione: 0.9498700658308997\t\tPC:70\n",
      "Percentuale dell'informazione: 0.9505094951985297\t\tPC:71\n",
      "Percentuale dell'informazione: 0.951129628123372\t\tPC:72\n",
      "Percentuale dell'informazione: 0.9517393383068401\t\tPC:73\n",
      "Percentuale dell'informazione: 0.9523394134150419\t\tPC:74\n",
      "Percentuale dell'informazione: 0.952933855445421\t\tPC:75\n",
      "Percentuale dell'informazione: 0.953516454043567\t\tPC:76\n",
      "Percentuale dell'informazione: 0.9540837166158843\t\tPC:77\n",
      "Percentuale dell'informazione: 0.9546271239836618\t\tPC:78\n",
      "Percentuale dell'informazione: 0.955154045608658\t\tPC:79\n",
      "Percentuale dell'informazione: 0.9556689277405096\t\tPC:80\n",
      "Percentuale dell'informazione: 0.9561878320258508\t\tPC:81\n",
      "Percentuale dell'informazione: 0.9566894311514108\t\tPC:82\n",
      "Percentuale dell'informazione: 0.9571749253160534\t\tPC:83\n",
      "Percentuale dell'informazione: 0.9576484700795853\t\tPC:84\n",
      "Percentuale dell'informazione: 0.9581290163265058\t\tPC:85\n",
      "Percentuale dell'informazione: 0.9585870924770049\t\tPC:86\n",
      "Percentuale dell'informazione: 0.9590486641557187\t\tPC:87\n",
      "Percentuale dell'informazione: 0.9594952539663096\t\tPC:88\n",
      "Percentuale dell'informazione: 0.959934455373904\t\tPC:89\n",
      "Percentuale dell'informazione: 0.960365749424178\t\tPC:90\n",
      "Percentuale dell'informazione: 0.960792716810617\t\tPC:91\n",
      "Percentuale dell'informazione: 0.9612156260356743\t\tPC:92\n",
      "Percentuale dell'informazione: 0.9616342251742396\t\tPC:93\n",
      "Percentuale dell'informazione: 0.9620414523428455\t\tPC:94\n",
      "Percentuale dell'informazione: 0.9624405944527471\t\tPC:95\n",
      "Percentuale dell'informazione: 0.9628334548155699\t\tPC:96\n",
      "Percentuale dell'informazione: 0.9632178015842187\t\tPC:97\n",
      "Percentuale dell'informazione: 0.9635986327444447\t\tPC:98\n",
      "Percentuale dell'informazione: 0.96397416179989\t\tPC:99\n",
      "Percentuale dell'informazione: 0.9643482154227554\t\tPC:100\n",
      "Percentuale dell'informazione: 0.9647140906977276\t\tPC:101\n",
      "Percentuale dell'informazione: 0.965073386592897\t\tPC:102\n",
      "Percentuale dell'informazione: 0.9654262205748532\t\tPC:103\n",
      "Percentuale dell'informazione: 0.9657747288051051\t\tPC:104\n",
      "Percentuale dell'informazione: 0.9661172952777284\t\tPC:105\n",
      "Percentuale dell'informazione: 0.9664561089447881\t\tPC:106\n",
      "Percentuale dell'informazione: 0.9667834937057921\t\tPC:107\n",
      "Percentuale dell'informazione: 0.9671161802309857\t\tPC:108\n",
      "Percentuale dell'informazione: 0.9674321257003043\t\tPC:109\n",
      "Percentuale dell'informazione: 0.9677547177922275\t\tPC:110\n",
      "Percentuale dell'informazione: 0.9680761472466866\t\tPC:111\n",
      "Percentuale dell'informazione: 0.9683868603744341\t\tPC:112\n",
      "Percentuale dell'informazione: 0.9686904558333225\t\tPC:113\n",
      "Percentuale dell'informazione: 0.96900878901763\t\tPC:114\n",
      "Percentuale dell'informazione: 0.9693137240099569\t\tPC:115\n",
      "Percentuale dell'informazione: 0.9696106858663034\t\tPC:116\n",
      "Percentuale dell'informazione: 0.9699063212203758\t\tPC:117\n",
      "Percentuale dell'informazione: 0.9701967629110687\t\tPC:118\n",
      "Percentuale dell'informazione: 0.9704808288139201\t\tPC:119\n",
      "Percentuale dell'informazione: 0.9707639126863479\t\tPC:120\n",
      "Percentuale dell'informazione: 0.9710426970371668\t\tPC:121\n",
      "Percentuale dell'informazione: 0.971313835941752\t\tPC:122\n",
      "Percentuale dell'informazione: 0.971590943008809\t\tPC:123\n",
      "Percentuale dell'informazione: 0.9718651338683311\t\tPC:124\n",
      "Percentuale dell'informazione: 0.9721295782524637\t\tPC:125\n",
      "Percentuale dell'informazione: 0.9723904094294782\t\tPC:126\n",
      "Percentuale dell'informazione: 0.9726470735922138\t\tPC:127\n",
      "Percentuale dell'informazione: 0.9729024214429625\t\tPC:128\n",
      "Percentuale dell'informazione: 0.9731547968529374\t\tPC:129\n",
      "Percentuale dell'informazione: 0.9734043770846367\t\tPC:130\n",
      "Percentuale dell'informazione: 0.9736518138415655\t\tPC:131\n",
      "Percentuale dell'informazione: 0.973895541356322\t\tPC:132\n",
      "Percentuale dell'informazione: 0.974134856756456\t\tPC:133\n",
      "Percentuale dell'informazione: 0.9743716340688845\t\tPC:134\n",
      "Percentuale dell'informazione: 0.9746058242891881\t\tPC:135\n",
      "Percentuale dell'informazione: 0.9748357096801399\t\tPC:136\n",
      "Percentuale dell'informazione: 0.9750629809411523\t\tPC:137\n",
      "Percentuale dell'informazione: 0.9752892244350977\t\tPC:138\n",
      "Percentuale dell'informazione: 0.9755123879233337\t\tPC:139\n",
      "Percentuale dell'informazione: 0.9757337837053216\t\tPC:140\n",
      "Percentuale dell'informazione: 0.9759526610469635\t\tPC:141\n",
      "Percentuale dell'informazione: 0.9761693612383704\t\tPC:142\n",
      "Percentuale dell'informazione: 0.9763847275569667\t\tPC:143\n",
      "Percentuale dell'informazione: 0.97659735062455\t\tPC:144\n",
      "Percentuale dell'informazione: 0.976806954538825\t\tPC:145\n",
      "Percentuale dell'informazione: 0.9770148942726534\t\tPC:146\n",
      "Percentuale dell'informazione: 0.977221457467357\t\tPC:147\n",
      "Percentuale dell'informazione: 0.9774259335608484\t\tPC:148\n",
      "Percentuale dell'informazione: 0.9776270688574142\t\tPC:149\n",
      "Percentuale dell'informazione: 0.9778270731333367\t\tPC:150\n",
      "Percentuale dell'informazione: 0.9780251410639641\t\tPC:151\n",
      "Percentuale dell'informazione: 0.9782206898452654\t\tPC:152\n",
      "Percentuale dell'informazione: 0.9784176193145824\t\tPC:153\n",
      "Percentuale dell'informazione: 0.978608717793027\t\tPC:154\n",
      "Percentuale dell'informazione: 0.9787965204371232\t\tPC:155\n",
      "Percentuale dell'informazione: 0.9789816964064827\t\tPC:156\n",
      "Percentuale dell'informazione: 0.9791658073109801\t\tPC:157\n",
      "Percentuale dell'informazione: 0.9793515558881946\t\tPC:158\n",
      "Percentuale dell'informazione: 0.9795332067843207\t\tPC:159\n",
      "Percentuale dell'informazione: 0.9797130386223482\t\tPC:160\n",
      "Percentuale dell'informazione: 0.9798899286649485\t\tPC:161\n",
      "Percentuale dell'informazione: 0.9800657337298758\t\tPC:162\n",
      "Percentuale dell'informazione: 0.9802406664861381\t\tPC:163\n",
      "Percentuale dell'informazione: 0.9804138062598943\t\tPC:164\n",
      "Percentuale dell'informazione: 0.9805848267845411\t\tPC:165\n",
      "Percentuale dell'informazione: 0.980753165807068\t\tPC:166\n",
      "Percentuale dell'informazione: 0.9809208191943883\t\tPC:167\n",
      "Percentuale dell'informazione: 0.981086461568311\t\tPC:168\n",
      "Percentuale dell'informazione: 0.9812476603335616\t\tPC:169\n",
      "Percentuale dell'informazione: 0.981409213077755\t\tPC:170\n",
      "Percentuale dell'informazione: 0.981568917171991\t\tPC:171\n",
      "Percentuale dell'informazione: 0.9817275867091199\t\tPC:172\n",
      "Percentuale dell'informazione: 0.9818834113891916\t\tPC:173\n",
      "Percentuale dell'informazione: 0.9820369814955311\t\tPC:174\n",
      "Percentuale dell'informazione: 0.9821885475922119\t\tPC:175\n",
      "Percentuale dell'informazione: 0.9823412592870245\t\tPC:176\n",
      "Percentuale dell'informazione: 0.9824896864616438\t\tPC:177\n",
      "Percentuale dell'informazione: 0.9826364203183564\t\tPC:178\n",
      "Percentuale dell'informazione: 0.9827842377000728\t\tPC:179\n",
      "Percentuale dell'informazione: 0.9829290678471654\t\tPC:180\n",
      "Percentuale dell'informazione: 0.9830730735300601\t\tPC:181\n",
      "Percentuale dell'informazione: 0.9832161845701473\t\tPC:182\n",
      "Percentuale dell'informazione: 0.9833578827522351\t\tPC:183\n",
      "Percentuale dell'informazione: 0.9835003069186027\t\tPC:184\n",
      "Percentuale dell'informazione: 0.9836408610564229\t\tPC:185\n",
      "Percentuale dell'informazione: 0.9837784219446285\t\tPC:186\n",
      "Percentuale dell'informazione: 0.9839135021252879\t\tPC:187\n",
      "Percentuale dell'informazione: 0.9840530165562713\t\tPC:188\n",
      "Percentuale dell'informazione: 0.9841799146485954\t\tPC:189\n",
      "Percentuale dell'informazione: 0.9843123152318833\t\tPC:190\n",
      "Percentuale dell'informazione: 0.9844492527543649\t\tPC:191\n",
      "Percentuale dell'informazione: 0.9845830095220834\t\tPC:192\n",
      "Percentuale dell'informazione: 0.9847118348800469\t\tPC:193\n",
      "Percentuale dell'informazione: 0.9848428098463737\t\tPC:194\n",
      "Percentuale dell'informazione: 0.984970669584546\t\tPC:195\n",
      "Percentuale dell'informazione: 0.9850972405854679\t\tPC:196\n",
      "Percentuale dell'informazione: 0.985227584716469\t\tPC:197\n",
      "Percentuale dell'informazione: 0.9853522638455608\t\tPC:198\n",
      "Percentuale dell'informazione: 0.9854761009852318\t\tPC:199\n",
      "Percentuale dell'informazione: 0.9855984446554886\t\tPC:200\n",
      "Percentuale dell'informazione: 0.9857202850636848\t\tPC:201\n",
      "Percentuale dell'informazione: 0.9858410994277559\t\tPC:202\n",
      "Percentuale dell'informazione: 0.9859608026566785\t\tPC:203\n",
      "Percentuale dell'informazione: 0.9860808064246734\t\tPC:204\n",
      "Percentuale dell'informazione: 0.9861990649227659\t\tPC:205\n",
      "Percentuale dell'informazione: 0.9863158449167437\t\tPC:206\n",
      "Percentuale dell'informazione: 0.9864312181644893\t\tPC:207\n",
      "Percentuale dell'informazione: 0.9865456296966628\t\tPC:208\n",
      "Percentuale dell'informazione: 0.9866595149757866\t\tPC:209\n",
      "Percentuale dell'informazione: 0.9867722013054786\t\tPC:210\n",
      "Percentuale dell'informazione: 0.9868836762197487\t\tPC:211\n",
      "Percentuale dell'informazione: 0.9869944845464794\t\tPC:212\n",
      "Percentuale dell'informazione: 0.9871045391946766\t\tPC:213\n",
      "Percentuale dell'informazione: 0.9872155464983265\t\tPC:214\n",
      "Percentuale dell'informazione: 0.9873252534434784\t\tPC:215\n",
      "Percentuale dell'informazione: 0.9874338234319311\t\tPC:216\n",
      "Percentuale dell'informazione: 0.9875416832416312\t\tPC:217\n",
      "Percentuale dell'informazione: 0.9876488375211939\t\tPC:218\n",
      "Percentuale dell'informazione: 0.9877542902142622\t\tPC:219\n",
      "Percentuale dell'informazione: 0.9878591358991582\t\tPC:220\n",
      "Percentuale dell'informazione: 0.9879625439323229\t\tPC:221\n",
      "Percentuale dell'informazione: 0.9880654125751094\t\tPC:222\n",
      "Percentuale dell'informazione: 0.9881674679261051\t\tPC:223\n",
      "Percentuale dell'informazione: 0.9882688714488389\t\tPC:224\n",
      "Percentuale dell'informazione: 0.9883688967394658\t\tPC:225\n",
      "Percentuale dell'informazione: 0.9884685288005075\t\tPC:226\n",
      "Percentuale dell'informazione: 0.9885677732385195\t\tPC:227\n",
      "Percentuale dell'informazione: 0.9886661103532028\t\tPC:228\n",
      "Percentuale dell'informazione: 0.9887635412760621\t\tPC:229\n",
      "Percentuale dell'informazione: 0.9888602149533964\t\tPC:230\n",
      "Percentuale dell'informazione: 0.9889559384390524\t\tPC:231\n",
      "Percentuale dell'informazione: 0.9890505569268788\t\tPC:232\n",
      "Percentuale dell'informazione: 0.9891447961161633\t\tPC:233\n",
      "Percentuale dell'informazione: 0.9892384697914511\t\tPC:234\n",
      "Percentuale dell'informazione: 0.9893313196563339\t\tPC:235\n",
      "Percentuale dell'informazione: 0.9894234531856801\t\tPC:236\n",
      "Percentuale dell'informazione: 0.9895152529288632\t\tPC:237\n",
      "Percentuale dell'informazione: 0.9896059421545131\t\tPC:238\n",
      "Percentuale dell'informazione: 0.9896962435194019\t\tPC:239\n",
      "Percentuale dell'informazione: 0.9897856345060393\t\tPC:240\n",
      "Percentuale dell'informazione: 0.9898745188762631\t\tPC:241\n",
      "Percentuale dell'informazione: 0.9899626275284207\t\tPC:242\n",
      "Percentuale dell'informazione: 0.990049993777381\t\tPC:243\n",
      "Percentuale dell'informazione: 0.9901264293387793\t\tPC:244\n",
      "Percentuale dell'informazione: 0.9902033230376894\t\tPC:245\n",
      "Percentuale dell'informazione: 0.990290397080311\t\tPC:246\n",
      "Percentuale dell'informazione: 0.9903736653100076\t\tPC:247\n",
      "Percentuale dell'informazione: 0.9904572757545063\t\tPC:248\n",
      "Percentuale dell'informazione: 0.9905423471995145\t\tPC:249\n",
      "Percentuale dell'informazione: 0.9906281306275356\t\tPC:250\n",
      "Percentuale dell'informazione: 0.9907146651998454\t\tPC:251\n",
      "Percentuale dell'informazione: 0.9908001103385755\t\tPC:252\n",
      "Percentuale dell'informazione: 0.9908795099345686\t\tPC:253\n",
      "Percentuale dell'informazione: 0.9909567623203439\t\tPC:254\n",
      "Percentuale dell'informazione: 0.9910411663948674\t\tPC:255\n",
      "Percentuale dell'informazione: 0.9911230190342406\t\tPC:256\n",
      "Percentuale dell'informazione: 0.9912011283886889\t\tPC:257\n",
      "Percentuale dell'informazione: 0.9912816820880126\t\tPC:258\n",
      "Percentuale dell'informazione: 0.991361721838286\t\tPC:259\n",
      "Percentuale dell'informazione: 0.9914400362732215\t\tPC:260\n",
      "Percentuale dell'informazione: 0.9915212261402315\t\tPC:261\n",
      "Percentuale dell'informazione: 0.9916028068033882\t\tPC:262\n",
      "Percentuale dell'informazione: 0.9916783442650375\t\tPC:263\n",
      "Percentuale dell'informazione: 0.9917534272256034\t\tPC:264\n",
      "Percentuale dell'informazione: 0.9918281689410579\t\tPC:265\n",
      "Percentuale dell'informazione: 0.9919020618084664\t\tPC:266\n",
      "Percentuale dell'informazione: 0.9919756224788185\t\tPC:267\n",
      "Percentuale dell'informazione: 0.9920477873895422\t\tPC:268\n",
      "Percentuale dell'informazione: 0.9921203307610457\t\tPC:269\n",
      "Percentuale dell'informazione: 0.9921922143075385\t\tPC:270\n",
      "Percentuale dell'informazione: 0.9922638030816532\t\tPC:271\n",
      "Percentuale dell'informazione: 0.9923345467202033\t\tPC:272\n",
      "Percentuale dell'informazione: 0.9924048333528352\t\tPC:273\n",
      "Percentuale dell'informazione: 0.9924748985516799\t\tPC:274\n",
      "Percentuale dell'informazione: 0.9925439221679986\t\tPC:275\n",
      "Percentuale dell'informazione: 0.992612326744255\t\tPC:276\n",
      "Percentuale dell'informazione: 0.9926803835338229\t\tPC:277\n",
      "Percentuale dell'informazione: 0.9927477151508403\t\tPC:278\n",
      "Percentuale dell'informazione: 0.9928146876698319\t\tPC:279\n",
      "Percentuale dell'informazione: 0.9928814532419842\t\tPC:280\n",
      "Percentuale dell'informazione: 0.9929475303526293\t\tPC:281\n",
      "Percentuale dell'informazione: 0.9930138774743298\t\tPC:282\n",
      "Percentuale dell'informazione: 0.9930790493441509\t\tPC:283\n",
      "Percentuale dell'informazione: 0.9931435294034722\t\tPC:284\n",
      "Percentuale dell'informazione: 0.9932076564538416\t\tPC:285\n",
      "Percentuale dell'informazione: 0.9932709206539023\t\tPC:286\n",
      "Percentuale dell'informazione: 0.9933343184385545\t\tPC:287\n",
      "Percentuale dell'informazione: 0.993396949713265\t\tPC:288\n",
      "Percentuale dell'informazione: 0.9934589208568033\t\tPC:289\n",
      "Percentuale dell'informazione: 0.9935204782943989\t\tPC:290\n",
      "Percentuale dell'informazione: 0.9935815375479968\t\tPC:291\n",
      "Percentuale dell'informazione: 0.9936428565036378\t\tPC:292\n",
      "Percentuale dell'informazione: 0.9937032641628956\t\tPC:293\n",
      "Percentuale dell'informazione: 0.9937632362100363\t\tPC:294\n",
      "Percentuale dell'informazione: 0.9938229760531156\t\tPC:295\n",
      "Percentuale dell'informazione: 0.9938824171353553\t\tPC:296\n",
      "Percentuale dell'informazione: 0.9939409798836247\t\tPC:297\n",
      "Percentuale dell'informazione: 0.9939990684356202\t\tPC:298\n",
      "Percentuale dell'informazione: 0.9940568801245713\t\tPC:299\n",
      "Percentuale dell'informazione: 0.9941142100273069\t\tPC:300\n",
      "Percentuale dell'informazione: 0.9941709555040756\t\tPC:301\n",
      "Percentuale dell'informazione: 0.9942275575627979\t\tPC:302\n",
      "Percentuale dell'informazione: 0.9942834936200692\t\tPC:303\n",
      "Percentuale dell'informazione: 0.9943391684150065\t\tPC:304\n",
      "Percentuale dell'informazione: 0.9943942466787905\t\tPC:305\n",
      "Percentuale dell'informazione: 0.9944488475909963\t\tPC:306\n",
      "Percentuale dell'informazione: 0.9945025813780752\t\tPC:307\n",
      "Percentuale dell'informazione: 0.9945568875969568\t\tPC:308\n",
      "Percentuale dell'informazione: 0.9946102083131734\t\tPC:309\n",
      "Percentuale dell'informazione: 0.994662731607648\t\tPC:310\n",
      "Percentuale dell'informazione: 0.9947149340671447\t\tPC:311\n",
      "Percentuale dell'informazione: 0.9947713695258209\t\tPC:312\n",
      "Percentuale dell'informazione: 0.9948252961381832\t\tPC:313\n",
      "Percentuale dell'informazione: 0.9948770960164784\t\tPC:314\n",
      "Percentuale dell'informazione: 0.9949284343630299\t\tPC:315\n",
      "Percentuale dell'informazione: 0.9949790440100846\t\tPC:316\n",
      "Percentuale dell'informazione: 0.9950300909363373\t\tPC:317\n",
      "Percentuale dell'informazione: 0.9950802576668163\t\tPC:318\n",
      "Percentuale dell'informazione: 0.995129849684489\t\tPC:319\n",
      "Percentuale dell'informazione: 0.9951791754207107\t\tPC:320\n",
      "Percentuale dell'informazione: 0.9952283897408742\t\tPC:321\n",
      "Percentuale dell'informazione: 0.9952767232415684\t\tPC:322\n",
      "Percentuale dell'informazione: 0.9953252307761936\t\tPC:323\n",
      "Percentuale dell'informazione: 0.9953740739405715\t\tPC:324\n",
      "Percentuale dell'informazione: 0.9954200276925699\t\tPC:325\n",
      "Percentuale dell'informazione: 0.995467945162227\t\tPC:326\n",
      "Percentuale dell'informazione: 0.9955154973704268\t\tPC:327\n",
      "Percentuale dell'informazione: 0.9955627074513339\t\tPC:328\n",
      "Percentuale dell'informazione: 0.9956093516230728\t\tPC:329\n",
      "Percentuale dell'informazione: 0.9956563367380232\t\tPC:330\n",
      "Percentuale dell'informazione: 0.9957017866264296\t\tPC:331\n",
      "Percentuale dell'informazione: 0.9957470448476863\t\tPC:332\n",
      "Percentuale dell'informazione: 0.9957917019384328\t\tPC:333\n",
      "Percentuale dell'informazione: 0.9958361053633876\t\tPC:334\n",
      "Percentuale dell'informazione: 0.9958801974986542\t\tPC:335\n",
      "Percentuale dell'informazione: 0.9959235542269577\t\tPC:336\n",
      "Percentuale dell'informazione: 0.995967027578178\t\tPC:337\n",
      "Percentuale dell'informazione: 0.9960098589171666\t\tPC:338\n",
      "Percentuale dell'informazione: 0.9960523739878117\t\tPC:339\n",
      "Percentuale dell'informazione: 0.996094542592265\t\tPC:340\n",
      "Percentuale dell'informazione: 0.9961369338821965\t\tPC:341\n",
      "Percentuale dell'informazione: 0.9961778641345854\t\tPC:342\n",
      "Percentuale dell'informazione: 0.9962194187766514\t\tPC:343\n",
      "Percentuale dell'informazione: 0.9962609925766246\t\tPC:344\n",
      "Percentuale dell'informazione: 0.9963010676256332\t\tPC:345\n",
      "Percentuale dell'informazione: 0.9963415297343404\t\tPC:346\n",
      "Percentuale dell'informazione: 0.9963704429197727\t\tPC:347\n",
      "Percentuale dell'informazione: 0.9963995021629278\t\tPC:348\n",
      "Percentuale dell'informazione: 0.9964397170999014\t\tPC:349\n",
      "Percentuale dell'informazione: 0.9964792924761265\t\tPC:350\n",
      "Percentuale dell'informazione: 0.9965184798878505\t\tPC:351\n",
      "Percentuale dell'informazione: 0.9965477630496932\t\tPC:352\n",
      "Percentuale dell'informazione: 0.9965771759672107\t\tPC:353\n",
      "Percentuale dell'informazione: 0.9966068694233763\t\tPC:354\n",
      "Percentuale dell'informazione: 0.9966367140103032\t\tPC:355\n",
      "Percentuale dell'informazione: 0.9966753871094892\t\tPC:356\n",
      "Percentuale dell'informazione: 0.9967145543235952\t\tPC:357\n",
      "Percentuale dell'informazione: 0.9967446586805186\t\tPC:358\n",
      "Percentuale dell'informazione: 0.9967830803230503\t\tPC:359\n",
      "Percentuale dell'informazione: 0.9968221253247023\t\tPC:360\n",
      "Percentuale dell'informazione: 0.9968526843155214\t\tPC:361\n",
      "Percentuale dell'informazione: 0.9968904463208167\t\tPC:362\n",
      "Percentuale dell'informazione: 0.9969212008107049\t\tPC:363\n",
      "Percentuale dell'informazione: 0.9969589077029497\t\tPC:364\n",
      "Percentuale dell'informazione: 0.9969900370656719\t\tPC:365\n",
      "Percentuale dell'informazione: 0.9970213288890397\t\tPC:366\n",
      "Percentuale dell'informazione: 0.9970581397460601\t\tPC:367\n",
      "Percentuale dell'informazione: 0.9970957919405717\t\tPC:368\n",
      "Percentuale dell'informazione: 0.9971323410518117\t\tPC:369\n",
      "Percentuale dell'informazione: 0.997169477756361\t\tPC:370\n",
      "Percentuale dell'informazione: 0.9972011449603916\t\tPC:371\n",
      "Percentuale dell'informazione: 0.9972369910021979\t\tPC:372\n",
      "Percentuale dell'informazione: 0.9972726736053112\t\tPC:373\n",
      "Percentuale dell'informazione: 0.9973046487702579\t\tPC:374\n",
      "Percentuale dell'informazione: 0.9973370447626039\t\tPC:375\n",
      "Percentuale dell'informazione: 0.9973692851853831\t\tPC:376\n",
      "Percentuale dell'informazione: 0.9974046192133346\t\tPC:377\n",
      "Percentuale dell'informazione: 0.9974376856065634\t\tPC:378\n",
      "Percentuale dell'informazione: 0.9974711624045985\t\tPC:379\n",
      "Percentuale dell'informazione: 0.9975052418402142\t\tPC:380\n",
      "Percentuale dell'informazione: 0.9975399205383796\t\tPC:381\n",
      "Percentuale dell'informazione: 0.9975739101902356\t\tPC:382\n",
      "Percentuale dell'informazione: 0.9976072936636844\t\tPC:383\n",
      "Percentuale dell'informazione: 0.997641733534428\t\tPC:384\n",
      "Percentuale dell'informazione: 0.997673888393712\t\tPC:385\n",
      "Percentuale dell'informazione: 0.9977099326819867\t\tPC:386\n",
      "Percentuale dell'informazione: 0.9977450726135325\t\tPC:387\n",
      "Percentuale dell'informazione: 0.9977777188742981\t\tPC:388\n",
      "Percentuale dell'informazione: 0.9978033169561149\t\tPC:389\n",
      "Percentuale dell'informazione: 0.9978290238760279\t\tPC:390\n",
      "Percentuale dell'informazione: 0.9978550913081985\t\tPC:391\n",
      "Percentuale dell'informazione: 0.9978812967491141\t\tPC:392\n",
      "Percentuale dell'informazione: 0.9979080755820081\t\tPC:393\n",
      "Percentuale dell'informazione: 0.9979349331094498\t\tPC:394\n",
      "Percentuale dell'informazione: 0.9979621581203054\t\tPC:395\n",
      "Percentuale dell'informazione: 0.9979896505512509\t\tPC:396\n",
      "Percentuale dell'informazione: 0.9980180422148844\t\tPC:397\n",
      "Percentuale dell'informazione: 0.9980460297239996\t\tPC:398\n",
      "Percentuale dell'informazione: 0.9980737976891187\t\tPC:399\n",
      "Percentuale dell'informazione: 0.9981007112351802\t\tPC:400\n",
      "Percentuale dell'informazione: 0.9981289858704323\t\tPC:401\n",
      "Percentuale dell'informazione: 0.9981539407662634\t\tPC:402\n",
      "Percentuale dell'informazione: 0.9981792180637955\t\tPC:403\n",
      "Percentuale dell'informazione: 0.998203582995722\t\tPC:404\n",
      "Percentuale dell'informazione: 0.9982248727762874\t\tPC:405\n",
      "Percentuale dell'informazione: 0.9982490908506233\t\tPC:406\n",
      "Percentuale dell'informazione: 0.9982727034639743\t\tPC:407\n",
      "Percentuale dell'informazione: 0.9982964138700332\t\tPC:408\n",
      "Percentuale dell'informazione: 0.9983183018412221\t\tPC:409\n",
      "Percentuale dell'informazione: 0.9983429775872137\t\tPC:410\n",
      "Percentuale dell'informazione: 0.9983650973351185\t\tPC:411\n",
      "Percentuale dell'informazione: 0.9983881505508161\t\tPC:412\n",
      "Percentuale dell'informazione: 0.998412786276625\t\tPC:413\n",
      "Percentuale dell'informazione: 0.9984367466101205\t\tPC:414\n",
      "Percentuale dell'informazione: 0.9984576141843345\t\tPC:415\n",
      "Percentuale dell'informazione: 0.9984805865203156\t\tPC:416\n",
      "Percentuale dell'informazione: 0.9985058382100788\t\tPC:417\n",
      "Percentuale dell'informazione: 0.9985268634513927\t\tPC:418\n",
      "Percentuale dell'informazione: 0.9985495574049009\t\tPC:419\n",
      "Percentuale dell'informazione: 0.9985720414250224\t\tPC:420\n",
      "Percentuale dell'informazione: 0.9985945926252698\t\tPC:421\n",
      "Percentuale dell'informazione: 0.9986171737187307\t\tPC:422\n",
      "Percentuale dell'informazione: 0.9986378135017294\t\tPC:423\n",
      "Percentuale dell'informazione: 0.9986581036452605\t\tPC:424\n",
      "Percentuale dell'informazione: 0.9986790948429297\t\tPC:425\n",
      "Percentuale dell'informazione: 0.9986991385214383\t\tPC:426\n",
      "Percentuale dell'informazione: 0.9987188421431834\t\tPC:427\n",
      "Percentuale dell'informazione: 0.9987392699804896\t\tPC:428\n",
      "Percentuale dell'informazione: 0.9987587827442154\t\tPC:429\n",
      "Percentuale dell'informazione: 0.998777983605061\t\tPC:430\n",
      "Percentuale dell'informazione: 0.9987981762468627\t\tPC:431\n",
      "Percentuale dell'informazione: 0.9988175016849287\t\tPC:432\n",
      "Percentuale dell'informazione: 0.9988298474174686\t\tPC:433\n",
      "Percentuale dell'informazione: 0.9988422809578342\t\tPC:434\n",
      "Percentuale dell'informazione: 0.9988548493271406\t\tPC:435\n",
      "Percentuale dell'informazione: 0.9988736968675971\t\tPC:436\n",
      "Percentuale dell'informazione: 0.9988921765101605\t\tPC:437\n",
      "Percentuale dell'informazione: 0.998910871798975\t\tPC:438\n",
      "Percentuale dell'informazione: 0.9989236632260399\t\tPC:439\n",
      "Percentuale dell'informazione: 0.9989426622325399\t\tPC:440\n",
      "Percentuale dell'informazione: 0.9989608357198445\t\tPC:441\n",
      "Percentuale dell'informazione: 0.9989740050149823\t\tPC:442\n",
      "Percentuale dell'informazione: 0.9989874047729851\t\tPC:443\n",
      "Percentuale dell'informazione: 0.9990057152919771\t\tPC:444\n",
      "Percentuale dell'informazione: 0.9990231601805631\t\tPC:445\n",
      "Percentuale dell'informazione: 0.9990410533273253\t\tPC:446\n",
      "Percentuale dell'informazione: 0.9990590620043884\t\tPC:447\n",
      "Percentuale dell'informazione: 0.9990725537662\t\tPC:448\n",
      "Percentuale dell'informazione: 0.9990898361250075\t\tPC:449\n",
      "Percentuale dell'informazione: 0.9991035569555676\t\tPC:450\n",
      "Percentuale dell'informazione: 0.9991203869007456\t\tPC:451\n",
      "Percentuale dell'informazione: 0.9991374826607945\t\tPC:452\n",
      "Percentuale dell'informazione: 0.9991514038384124\t\tPC:453\n",
      "Percentuale dell'informazione: 0.9991679733564914\t\tPC:454\n",
      "Percentuale dell'informazione: 0.999184458013304\t\tPC:455\n",
      "Percentuale dell'informazione: 0.9992007355719107\t\tPC:456\n",
      "Percentuale dell'informazione: 0.9992179227209389\t\tPC:457\n",
      "Percentuale dell'informazione: 0.9992321711081338\t\tPC:458\n",
      "Percentuale dell'informazione: 0.999248139467129\t\tPC:459\n",
      "Percentuale dell'informazione: 0.9992628669818275\t\tPC:460\n",
      "Percentuale dell'informazione: 0.9992777540537071\t\tPC:461\n",
      "Percentuale dell'informazione: 0.9992934107618903\t\tPC:462\n",
      "Percentuale dell'informazione: 0.999308940080233\t\tPC:463\n",
      "Percentuale dell'informazione: 0.9993242167175931\t\tPC:464\n",
      "Percentuale dell'informazione: 0.9993382787385394\t\tPC:465\n",
      "Percentuale dell'informazione: 0.9993527552867678\t\tPC:466\n",
      "Percentuale dell'informazione: 0.9993672704716573\t\tPC:467\n",
      "Percentuale dell'informazione: 0.9993824817599543\t\tPC:468\n",
      "Percentuale dell'informazione: 0.9993983298941524\t\tPC:469\n",
      "Percentuale dell'informazione: 0.9994133746094733\t\tPC:470\n",
      "Percentuale dell'informazione: 0.9994295207282938\t\tPC:471\n",
      "Percentuale dell'informazione: 0.9994349782791047\t\tPC:472\n",
      "Percentuale dell'informazione: 0.9994405456643021\t\tPC:473\n",
      "Percentuale dell'informazione: 0.9994463728833435\t\tPC:474\n",
      "Percentuale dell'informazione: 0.9994523898447027\t\tPC:475\n",
      "Percentuale dell'informazione: 0.9994586199226568\t\tPC:476\n",
      "Percentuale dell'informazione: 0.9994649407791367\t\tPC:477\n",
      "Percentuale dell'informazione: 0.9994717055780666\t\tPC:478\n",
      "Percentuale dell'informazione: 0.9994786256904673\t\tPC:479\n",
      "Percentuale dell'informazione: 0.999485743719673\t\tPC:480\n",
      "Percentuale dell'informazione: 0.9994930659113362\t\tPC:481\n",
      "Percentuale dell'informazione: 0.9995050168544084\t\tPC:482\n",
      "Percentuale dell'informazione: 0.9995128456355558\t\tPC:483\n",
      "Percentuale dell'informazione: 0.9995233436850449\t\tPC:484\n",
      "Percentuale dell'informazione: 0.9995337573363816\t\tPC:485\n",
      "Percentuale dell'informazione: 0.9995438257934909\t\tPC:486\n",
      "Percentuale dell'informazione: 0.9995553913569061\t\tPC:487\n",
      "Percentuale dell'informazione: 0.9995666927033785\t\tPC:488\n",
      "Percentuale dell'informazione: 0.9995781935791664\t\tPC:489\n",
      "Percentuale dell'informazione: 0.9995862689681443\t\tPC:490\n",
      "Percentuale dell'informazione: 0.9995961721792115\t\tPC:491\n",
      "Percentuale dell'informazione: 0.9996058393505645\t\tPC:492\n",
      "Percentuale dell'informazione: 0.9996167383423155\t\tPC:493\n",
      "Percentuale dell'informazione: 0.9996262775548045\t\tPC:494\n",
      "Percentuale dell'informazione: 0.9996344909626478\t\tPC:495\n",
      "Percentuale dell'informazione: 0.9996429960123322\t\tPC:496\n",
      "Percentuale dell'informazione: 0.9996514098067264\t\tPC:497\n",
      "Percentuale dell'informazione: 0.9996624271640125\t\tPC:498\n",
      "Percentuale dell'informazione: 0.9996713844175829\t\tPC:499\n",
      "Percentuale dell'informazione: 0.9996805977981253\t\tPC:500\n",
      "Percentuale dell'informazione: 0.9996928220016397\t\tPC:501\n",
      "Percentuale dell'informazione: 0.9997057634508506\t\tPC:502\n",
      "Percentuale dell'informazione: 0.9997165510580129\t\tPC:503\n",
      "Percentuale dell'informazione: 0.9997254164399764\t\tPC:504\n",
      "Percentuale dell'informazione: 0.9997341731577524\t\tPC:505\n",
      "Percentuale dell'informazione: 0.9997433216843334\t\tPC:506\n",
      "Percentuale dell'informazione: 0.9997527617780888\t\tPC:507\n",
      "Percentuale dell'informazione: 0.9997638449683126\t\tPC:508\n",
      "Percentuale dell'informazione: 0.9997756942489195\t\tPC:509\n",
      "Percentuale dell'informazione: 0.9997810076503083\t\tPC:510\n",
      "Percentuale dell'informazione: 0.9997861026867595\t\tPC:511\n",
      "Percentuale dell'informazione: 0.9997910834100414\t\tPC:512\n",
      "Percentuale dell'informazione: 0.999796034854373\t\tPC:513\n",
      "Percentuale dell'informazione: 0.9998003077339195\t\tPC:514\n",
      "Percentuale dell'informazione: 0.9998049472661168\t\tPC:515\n",
      "Percentuale dell'informazione: 0.9998093339544302\t\tPC:516\n",
      "Percentuale dell'informazione: 0.9998137888545489\t\tPC:517\n",
      "Percentuale dell'informazione: 0.9998182746603698\t\tPC:518\n",
      "Percentuale dell'informazione: 0.9998230549926233\t\tPC:519\n",
      "Percentuale dell'informazione: 0.9998271434080572\t\tPC:520\n",
      "Percentuale dell'informazione: 0.9998308896056904\t\tPC:521\n",
      "Percentuale dell'informazione: 0.9998348492150112\t\tPC:522\n",
      "Percentuale dell'informazione: 0.9998387216030518\t\tPC:523\n",
      "Percentuale dell'informazione: 0.9998426146358553\t\tPC:524\n",
      "Percentuale dell'informazione: 0.9998461820299754\t\tPC:525\n",
      "Percentuale dell'informazione: 0.9998498009738097\t\tPC:526\n",
      "Percentuale dell'informazione: 0.9998533245819639\t\tPC:527\n",
      "Percentuale dell'informazione: 0.9998567436027178\t\tPC:528\n",
      "Percentuale dell'informazione: 0.9998601160933035\t\tPC:529\n",
      "Percentuale dell'informazione: 0.9998634205327002\t\tPC:530\n",
      "Percentuale dell'informazione: 0.999866694269503\t\tPC:531\n",
      "Percentuale dell'informazione: 0.9998698624514946\t\tPC:532\n",
      "Percentuale dell'informazione: 0.9998721868832162\t\tPC:533\n",
      "Percentuale dell'informazione: 0.9998753120012901\t\tPC:534\n",
      "Percentuale dell'informazione: 0.9998783590991352\t\tPC:535\n",
      "Percentuale dell'informazione: 0.999881370871677\t\tPC:536\n",
      "Percentuale dell'informazione: 0.999883891477114\t\tPC:537\n",
      "Percentuale dell'informazione: 0.9998868601655138\t\tPC:538\n",
      "Percentuale dell'informazione: 0.9998894828659453\t\tPC:539\n",
      "Percentuale dell'informazione: 0.9998921780795704\t\tPC:540\n",
      "Percentuale dell'informazione: 0.999895109884719\t\tPC:541\n",
      "Percentuale dell'informazione: 0.9998979209336544\t\tPC:542\n",
      "Percentuale dell'informazione: 0.9999003854949297\t\tPC:543\n",
      "Percentuale dell'informazione: 0.999903296827393\t\tPC:544\n",
      "Percentuale dell'informazione: 0.9999060713656097\t\tPC:545\n",
      "Percentuale dell'informazione: 0.9999087917492008\t\tPC:546\n",
      "Percentuale dell'informazione: 0.9999112777873392\t\tPC:547\n",
      "Percentuale dell'informazione: 0.9999141397403128\t\tPC:548\n",
      "Percentuale dell'informazione: 0.9999165902227517\t\tPC:549\n",
      "Percentuale dell'informazione: 0.9999191846732829\t\tPC:550\n",
      "Percentuale dell'informazione: 0.9999214815011468\t\tPC:551\n",
      "Percentuale dell'informazione: 0.9999237886992278\t\tPC:552\n",
      "Percentuale dell'informazione: 0.999925911343828\t\tPC:553\n",
      "Percentuale dell'informazione: 0.9999279737903879\t\tPC:554\n",
      "Percentuale dell'informazione: 0.9999300031095754\t\tPC:555\n",
      "Percentuale dell'informazione: 0.9999319741307878\t\tPC:556\n",
      "Percentuale dell'informazione: 0.9999338723920022\t\tPC:557\n",
      "Percentuale dell'informazione: 0.9999357205359546\t\tPC:558\n",
      "Percentuale dell'informazione: 0.9999374851849043\t\tPC:559\n",
      "Percentuale dell'informazione: 0.9999391824184161\t\tPC:560\n",
      "Percentuale dell'informazione: 0.999940899827598\t\tPC:561\n",
      "Percentuale dell'informazione: 0.9999425637100079\t\tPC:562\n",
      "Percentuale dell'informazione: 0.9999441938866217\t\tPC:563\n",
      "Percentuale dell'informazione: 0.999945807723263\t\tPC:564\n",
      "Percentuale dell'informazione: 0.9999473647202519\t\tPC:565\n",
      "Percentuale dell'informazione: 0.9999489563249924\t\tPC:566\n",
      "Percentuale dell'informazione: 0.9999504610140623\t\tPC:567\n",
      "Percentuale dell'informazione: 0.9999519097044566\t\tPC:568\n",
      "Percentuale dell'informazione: 0.9999533326257984\t\tPC:569\n",
      "Percentuale dell'informazione: 0.9999547112622387\t\tPC:570\n",
      "Percentuale dell'informazione: 0.9999561138697769\t\tPC:571\n",
      "Percentuale dell'informazione: 0.9999574528114809\t\tPC:572\n",
      "Percentuale dell'informazione: 0.9999587763503505\t\tPC:573\n",
      "Percentuale dell'informazione: 0.999959962107443\t\tPC:574\n",
      "Percentuale dell'informazione: 0.9999612025701349\t\tPC:575\n",
      "Percentuale dell'informazione: 0.9999624484912375\t\tPC:576\n",
      "Percentuale dell'informazione: 0.999963576118939\t\tPC:577\n",
      "Percentuale dell'informazione: 0.9999646490277875\t\tPC:578\n",
      "Percentuale dell'informazione: 0.999965747870055\t\tPC:579\n",
      "Percentuale dell'informazione: 0.9999668378306916\t\tPC:580\n",
      "Percentuale dell'informazione: 0.9999678602031752\t\tPC:581\n",
      "Percentuale dell'informazione: 0.9999688470855097\t\tPC:582\n",
      "Percentuale dell'informazione: 0.9999697670900514\t\tPC:583\n",
      "Percentuale dell'informazione: 0.9999706580753897\t\tPC:584\n",
      "Percentuale dell'informazione: 0.9999715350495348\t\tPC:585\n",
      "Percentuale dell'informazione: 0.9999723318775381\t\tPC:586\n",
      "Percentuale dell'informazione: 0.9999730268655529\t\tPC:587\n",
      "Percentuale dell'informazione: 0.9999736972921955\t\tPC:588\n",
      "Percentuale dell'informazione: 0.999974349959709\t\tPC:589\n",
      "Percentuale dell'informazione: 0.9999749970736147\t\tPC:590\n",
      "Percentuale dell'informazione: 0.9999756177763721\t\tPC:591\n",
      "Percentuale dell'informazione: 0.9999762183094847\t\tPC:592\n",
      "Percentuale dell'informazione: 0.9999767795569527\t\tPC:593\n",
      "Percentuale dell'informazione: 0.9999773213510991\t\tPC:594\n",
      "Percentuale dell'informazione: 0.9999778561862819\t\tPC:595\n",
      "Percentuale dell'informazione: 0.9999783590934087\t\tPC:596\n",
      "Percentuale dell'informazione: 0.9999788517995596\t\tPC:597\n",
      "Percentuale dell'informazione: 0.9999793230269161\t\tPC:598\n",
      "Percentuale dell'informazione: 0.9999797752416004\t\tPC:599\n",
      "Percentuale dell'informazione: 0.9999801877741441\t\tPC:600\n",
      "Percentuale dell'informazione: 0.9999806240755811\t\tPC:601\n",
      "Percentuale dell'informazione: 0.9999810535984297\t\tPC:602\n",
      "Percentuale dell'informazione: 0.9999814199175263\t\tPC:603\n",
      "Percentuale dell'informazione: 0.9999817770030137\t\tPC:604\n",
      "Percentuale dell'informazione: 0.9999821207999787\t\tPC:605\n",
      "Percentuale dell'informazione: 0.9999824423839071\t\tPC:606\n",
      "Percentuale dell'informazione: 0.9999827595029528\t\tPC:607\n",
      "Percentuale dell'informazione: 0.9999830657797371\t\tPC:608\n",
      "Percentuale dell'informazione: 0.999983365195386\t\tPC:609\n",
      "Percentuale dell'informazione: 0.9999836374393275\t\tPC:610\n",
      "Percentuale dell'informazione: 0.9999838961512121\t\tPC:611\n",
      "Percentuale dell'informazione: 0.9999841442630103\t\tPC:612\n",
      "Percentuale dell'informazione: 0.999984378025703\t\tPC:613\n",
      "Percentuale dell'informazione: 0.999984604742231\t\tPC:614\n",
      "Percentuale dell'informazione: 0.9999848026443566\t\tPC:615\n",
      "Percentuale dell'informazione: 0.9999849904055197\t\tPC:616\n",
      "Percentuale dell'informazione: 0.9999851679344929\t\tPC:617\n",
      "Percentuale dell'informazione: 0.9999853395640189\t\tPC:618\n",
      "Percentuale dell'informazione: 0.9999855045726382\t\tPC:619\n",
      "Percentuale dell'informazione: 0.9999856653713017\t\tPC:620\n",
      "Percentuale dell'informazione: 0.9999858188825154\t\tPC:621\n",
      "Percentuale dell'informazione: 0.9999859665691497\t\tPC:622\n",
      "Percentuale dell'informazione: 0.9999861097947188\t\tPC:623\n",
      "Percentuale dell'informazione: 0.9999862508924695\t\tPC:624\n",
      "Percentuale dell'informazione: 0.9999863849761116\t\tPC:625\n",
      "Percentuale dell'informazione: 0.9999865154779729\t\tPC:626\n",
      "Percentuale dell'informazione: 0.999986644707434\t\tPC:627\n",
      "Percentuale dell'informazione: 0.9999867708362437\t\tPC:628\n",
      "Percentuale dell'informazione: 0.9999868953004806\t\tPC:629\n",
      "Percentuale dell'informazione: 0.9999870190659864\t\tPC:630\n",
      "Percentuale dell'informazione: 0.9999871422159275\t\tPC:631\n",
      "Percentuale dell'informazione: 0.9999872642789098\t\tPC:632\n",
      "Percentuale dell'informazione: 0.9999873852545865\t\tPC:633\n",
      "Percentuale dell'informazione: 0.9999875043036485\t\tPC:634\n",
      "Percentuale dell'informazione: 0.9999876209666011\t\tPC:635\n",
      "Percentuale dell'informazione: 0.9999877368315009\t\tPC:636\n",
      "Percentuale dell'informazione: 0.9999878517628324\t\tPC:637\n",
      "Percentuale dell'informazione: 0.9999879657366619\t\tPC:638\n",
      "Percentuale dell'informazione: 0.9999880784513735\t\tPC:639\n",
      "Percentuale dell'informazione: 0.9999881910446179\t\tPC:640\n",
      "Percentuale dell'informazione: 0.9999883028671019\t\tPC:641\n",
      "Percentuale dell'informazione: 0.9999884141215444\t\tPC:642\n",
      "Percentuale dell'informazione: 0.999988524800584\t\tPC:643\n",
      "Percentuale dell'informazione: 0.999988635040288\t\tPC:644\n",
      "Percentuale dell'informazione: 0.9999887445501157\t\tPC:645\n",
      "Percentuale dell'informazione: 0.999988853283109\t\tPC:646\n",
      "Percentuale dell'informazione: 0.9999889085286368\t\tPC:647\n",
      "Percentuale dell'informazione: 0.9999889642006796\t\tPC:648\n",
      "Percentuale dell'informazione: 0.9999890725910037\t\tPC:649\n",
      "Percentuale dell'informazione: 0.9999891805132816\t\tPC:650\n",
      "Percentuale dell'informazione: 0.9999892879884869\t\tPC:651\n",
      "Percentuale dell'informazione: 0.9999893947221111\t\tPC:652\n",
      "Percentuale dell'informazione: 0.9999895006641029\t\tPC:653\n",
      "Percentuale dell'informazione: 0.9999896063738176\t\tPC:654\n",
      "Percentuale dell'informazione: 0.9999896629850382\t\tPC:655\n",
      "Percentuale dell'informazione: 0.9999897679327122\t\tPC:656\n",
      "Percentuale dell'informazione: 0.9999898723807961\t\tPC:657\n",
      "Percentuale dell'informazione: 0.9999899299148338\t\tPC:658\n",
      "Percentuale dell'informazione: 0.9999899882487461\t\tPC:659\n",
      "Percentuale dell'informazione: 0.9999900920130469\t\tPC:660\n",
      "Percentuale dell'informazione: 0.9999901947324525\t\tPC:661\n",
      "Percentuale dell'informazione: 0.9999902969966716\t\tPC:662\n",
      "Percentuale dell'informazione: 0.9999904004289639\t\tPC:663\n",
      "Percentuale dell'informazione: 0.9999905037045043\t\tPC:664\n",
      "Percentuale dell'informazione: 0.9999905623312799\t\tPC:665\n",
      "Percentuale dell'informazione: 0.9999906637814351\t\tPC:666\n",
      "Percentuale dell'informazione: 0.9999907649748714\t\tPC:667\n",
      "Percentuale dell'informazione: 0.9999908239094006\t\tPC:668\n",
      "Percentuale dell'informazione: 0.9999908833763953\t\tPC:669\n",
      "Percentuale dell'informazione: 0.9999909432084296\t\tPC:670\n",
      "Percentuale dell'informazione: 0.9999910435548808\t\tPC:671\n",
      "Percentuale dell'informazione: 0.9999911435276626\t\tPC:672\n",
      "Percentuale dell'informazione: 0.9999912425488143\t\tPC:673\n",
      "Percentuale dell'informazione: 0.9999913414479791\t\tPC:674\n",
      "Percentuale dell'informazione: 0.99999143982836\t\tPC:675\n",
      "Percentuale dell'informazione: 0.9999914999033508\t\tPC:676\n",
      "Percentuale dell'informazione: 0.9999915601090866\t\tPC:677\n",
      "Percentuale dell'informazione: 0.999991620951323\t\tPC:678\n",
      "Percentuale dell'informazione: 0.9999917189288994\t\tPC:679\n",
      "Percentuale dell'informazione: 0.9999918164237049\t\tPC:680\n",
      "Percentuale dell'informazione: 0.9999919135513854\t\tPC:681\n",
      "Percentuale dell'informazione: 0.999991974945328\t\tPC:682\n",
      "Percentuale dell'informazione: 0.999992036621589\t\tPC:683\n",
      "Percentuale dell'informazione: 0.9999921320538888\t\tPC:684\n",
      "Percentuale dell'informazione: 0.9999922285742492\t\tPC:685\n",
      "Percentuale dell'informazione: 0.9999923248361493\t\tPC:686\n",
      "Percentuale dell'informazione: 0.9999924212033071\t\tPC:687\n",
      "Percentuale dell'informazione: 0.9999924833194431\t\tPC:688\n",
      "Percentuale dell'informazione: 0.9999925781815387\t\tPC:689\n",
      "Percentuale dell'informazione: 0.9999926406548512\t\tPC:690\n",
      "Percentuale dell'informazione: 0.9999927032604828\t\tPC:691\n",
      "Percentuale dell'informazione: 0.9999927978432681\t\tPC:692\n",
      "Percentuale dell'informazione: 0.999992892195181\t\tPC:693\n",
      "Percentuale dell'informazione: 0.9999929863690321\t\tPC:694\n",
      "Percentuale dell'informazione: 0.9999930801023973\t\tPC:695\n",
      "Percentuale dell'informazione: 0.9999931435244506\t\tPC:696\n",
      "Percentuale dell'informazione: 0.9999932066599144\t\tPC:697\n",
      "Percentuale dell'informazione: 0.9999932996849354\t\tPC:698\n",
      "Percentuale dell'informazione: 0.9999933925510779\t\tPC:699\n",
      "Percentuale dell'informazione: 0.9999934849281576\t\tPC:700\n",
      "Percentuale dell'informazione: 0.9999935764988157\t\tPC:701\n",
      "Percentuale dell'informazione: 0.9999936684516999\t\tPC:702\n",
      "Percentuale dell'informazione: 0.9999937593770732\t\tPC:703\n",
      "Percentuale dell'informazione: 0.9999938504081417\t\tPC:704\n",
      "Percentuale dell'informazione: 0.9999939146174752\t\tPC:705\n",
      "Percentuale dell'informazione: 0.999993978978414\t\tPC:706\n",
      "Percentuale dell'informazione: 0.9999940690035953\t\tPC:707\n",
      "Percentuale dell'informazione: 0.9999941589803055\t\tPC:708\n",
      "Percentuale dell'informazione: 0.9999942486503597\t\tPC:709\n",
      "Percentuale dell'informazione: 0.999994338190916\t\tPC:710\n",
      "Percentuale dell'informazione: 0.9999944031686631\t\tPC:711\n",
      "Percentuale dell'informazione: 0.9999944921156447\t\tPC:712\n",
      "Percentuale dell'informazione: 0.9999945573366045\t\tPC:713\n",
      "Percentuale dell'informazione: 0.9999946226882963\t\tPC:714\n",
      "Percentuale dell'informazione: 0.9999947114400984\t\tPC:715\n",
      "Percentuale dell'informazione: 0.9999947771090268\t\tPC:716\n",
      "Percentuale dell'informazione: 0.9999948431985575\t\tPC:717\n",
      "Percentuale dell'informazione: 0.9999949093484326\t\tPC:718\n",
      "Percentuale dell'informazione: 0.9999949975039051\t\tPC:719\n",
      "Percentuale dell'informazione: 0.9999950854041465\t\tPC:720\n",
      "Percentuale dell'informazione: 0.9999951732046192\t\tPC:721\n",
      "Percentuale dell'informazione: 0.9999952604656129\t\tPC:722\n",
      "Percentuale dell'informazione: 0.9999953276290775\t\tPC:723\n",
      "Percentuale dell'informazione: 0.9999953945065958\t\tPC:724\n",
      "Percentuale dell'informazione: 0.9999954611732293\t\tPC:725\n",
      "Percentuale dell'informazione: 0.9999955481254184\t\tPC:726\n",
      "Percentuale dell'informazione: 0.9999956343864772\t\tPC:727\n",
      "Percentuale dell'informazione: 0.9999957203990717\t\tPC:728\n",
      "Percentuale dell'informazione: 0.999995788014536\t\tPC:729\n",
      "Percentuale dell'informazione: 0.9999958560088819\t\tPC:730\n",
      "Percentuale dell'informazione: 0.999995924040076\t\tPC:731\n",
      "Percentuale dell'informazione: 0.9999959925902534\t\tPC:732\n",
      "Percentuale dell'informazione: 0.9999960782951246\t\tPC:733\n",
      "Percentuale dell'informazione: 0.9999961470040234\t\tPC:734\n",
      "Percentuale dell'informazione: 0.999996232254485\t\tPC:735\n",
      "Percentuale dell'informazione: 0.9999963173315464\t\tPC:736\n",
      "Percentuale dell'informazione: 0.9999963865408282\t\tPC:737\n",
      "Percentuale dell'informazione: 0.9999964556212638\t\tPC:738\n",
      "Percentuale dell'informazione: 0.9999965253073522\t\tPC:739\n",
      "Percentuale dell'informazione: 0.9999966101347861\t\tPC:740\n",
      "Percentuale dell'informazione: 0.9999966801178065\t\tPC:741\n",
      "Percentuale dell'informazione: 0.999996750834965\t\tPC:742\n",
      "Percentuale dell'informazione: 0.9999968352475721\t\tPC:743\n",
      "Percentuale dell'informazione: 0.9999969189598755\t\tPC:744\n",
      "Percentuale dell'informazione: 0.9999970025550488\t\tPC:745\n",
      "Percentuale dell'informazione: 0.9999970856273498\t\tPC:746\n",
      "Percentuale dell'informazione: 0.9999971682109935\t\tPC:747\n",
      "Percentuale dell'informazione: 0.9999972393631965\t\tPC:748\n",
      "Percentuale dell'informazione: 0.9999973104160463\t\tPC:749\n",
      "Percentuale dell'informazione: 0.999997392735232\t\tPC:750\n",
      "Percentuale dell'informazione: 0.999997464363635\t\tPC:751\n",
      "Percentuale dell'informazione: 0.9999975460137971\t\tPC:752\n",
      "Percentuale dell'informazione: 0.999997627961696\t\tPC:753\n",
      "Percentuale dell'informazione: 0.9999977088337003\t\tPC:754\n",
      "Percentuale dell'informazione: 0.9999977810571459\t\tPC:755\n",
      "Percentuale dell'informazione: 0.9999978533879965\t\tPC:756\n",
      "Percentuale dell'informazione: 0.9999979258960205\t\tPC:757\n",
      "Percentuale dell'informazione: 0.9999980057871799\t\tPC:758\n",
      "Percentuale dell'informazione: 0.9999980854989441\t\tPC:759\n",
      "Percentuale dell'informazione: 0.9999981583039944\t\tPC:760\n",
      "Percentuale dell'informazione: 0.9999982311988791\t\tPC:761\n",
      "Percentuale dell'informazione: 0.9999983042658569\t\tPC:762\n",
      "Percentuale dell'informazione: 0.9999983831894494\t\tPC:763\n",
      "Percentuale dell'informazione: 0.9999984569254272\t\tPC:764\n",
      "Percentuale dell'informazione: 0.9999985339493337\t\tPC:765\n",
      "Percentuale dell'informazione: 0.9999986119042275\t\tPC:766\n",
      "Percentuale dell'informazione: 0.9999986893553866\t\tPC:767\n",
      "Percentuale dell'informazione: 0.9999987680353161\t\tPC:768\n",
      "Percentuale dell'informazione: 0.9999988440041105\t\tPC:769\n",
      "Percentuale dell'informazione: 0.9999989174973136\t\tPC:770\n",
      "Percentuale dell'informazione: 0.9999989916626224\t\tPC:771\n",
      "Percentuale dell'informazione: 0.9999990699221682\t\tPC:772\n",
      "Percentuale dell'informazione: 0.9999991474730189\t\tPC:773\n",
      "Percentuale dell'informazione: 0.999999222509373\t\tPC:774\n",
      "Percentuale dell'informazione: 0.999999298337558\t\tPC:775\n",
      "Percentuale dell'informazione: 0.9999993738205036\t\tPC:776\n",
      "Percentuale dell'informazione: 0.9999994494200367\t\tPC:777\n",
      "Percentuale dell'informazione: 0.9999995241115868\t\tPC:778\n",
      "Percentuale dell'informazione: 0.9999996053301896\t\tPC:779\n",
      "Percentuale dell'informazione: 0.9999996821289384\t\tPC:780\n",
      "Percentuale dell'informazione: 0.999999762780442\t\tPC:781\n",
      "Percentuale dell'informazione: 0.9999998431575073\t\tPC:782\n",
      "Percentuale dell'informazione: 0.9999999232866617\t\tPC:783\n",
      "Percentuale dell'informazione: 0.9999999999999996\t\tPC:784\n"
     ]
    }
   ],
   "source": [
    "s = np.sort(cum_norm)\n",
    "for i in range(len(np.transpose(cum_norm))):\n",
    "    print(\"Percentuale dell'informazione: \"+str(s[i])+\"\\t\\tPC:\"+str(i+1))"
   ]
  },
  {
   "cell_type": "code",
   "execution_count": 108,
   "metadata": {
    "colab": {
     "base_uri": "https://localhost:8080/"
    },
    "id": "Dbbxt0hvLcjw",
    "outputId": "9881f5c4-b759-4de2-bd78-39e1be5856b4"
   },
   "outputs": [
    {
     "data": {
      "text/plain": [
       "444"
      ]
     },
     "execution_count": 108,
     "metadata": {},
     "output_type": "execute_result"
    }
   ],
   "source": [
    "pc = np.argmax(cum_norm >= 0.999) + 1\n",
    "pc"
   ]
  },
  {
   "cell_type": "markdown",
   "metadata": {
    "id": "phh9AJqkvflB"
   },
   "source": [
    "Per rappresentare il 99.9% dell'immagine bastano 444 PC anziché 784. <br>\n",
    "Svolgo un'analisi <a href=\"https://scikit-learn.org/stable/modules/generated/sklearn.decomposition.PCA.html\">PCA</a> per estrarre le features più importanti."
   ]
  },
  {
   "cell_type": "code",
   "execution_count": 25,
   "metadata": {
    "id": "gAHuoDLejvK4"
   },
   "outputs": [],
   "source": [
    "pca = PCA(n_components=pc)"
   ]
  },
  {
   "cell_type": "code",
   "execution_count": 26,
   "metadata": {
    "colab": {
     "base_uri": "https://localhost:8080/"
    },
    "id": "X9m6OM6nMRuo",
    "outputId": "a27b85c4-81b8-4ad9-d83c-2a76fbe43214"
   },
   "outputs": [
    {
     "data": {
      "text/plain": [
       "array([[ 6.2775946e-01, -4.9916461e-01,  1.6556412e+00, ...,\n",
       "        -1.2963021e-02, -1.1656495e-02,  3.8950099e-03],\n",
       "       [ 1.6982427e+00, -5.4402256e-01, -9.4337463e-01, ...,\n",
       "        -1.1770480e-03,  6.0222191e-03,  1.7087223e-03],\n",
       "       [ 2.2557409e+00, -1.3673313e+00,  1.7985137e-01, ...,\n",
       "        -5.5803446e-04, -4.7922479e-03,  5.4110410e-03],\n",
       "       ...,\n",
       "       [ 2.1752172e+00, -1.0192205e+00, -1.2034812e+00, ...,\n",
       "        -6.9907419e-03,  7.2307466e-03, -2.3716604e-03],\n",
       "       [-1.6437618e+00,  2.4618299e-01, -1.1519715e+00, ...,\n",
       "         6.9858152e-03,  5.2822661e-03,  9.1463430e-03],\n",
       "       [ 3.6258864e-01, -1.7909353e+00,  5.6940109e-01, ...,\n",
       "         2.1690037e-03,  9.1233384e-03,  8.4004318e-04]], dtype=float32)"
      ]
     },
     "execution_count": 26,
     "metadata": {},
     "output_type": "execute_result"
    }
   ],
   "source": [
    "arr_transformed = pca.fit_transform(arr)\n",
    "arr_transformed"
   ]
  },
  {
   "cell_type": "code",
   "execution_count": 27,
   "metadata": {
    "colab": {
     "base_uri": "https://localhost:8080/"
    },
    "id": "C5bCnBFnMkED",
    "outputId": "0b66bb8c-4c62-4606-b481-7e812b1ec2e5"
   },
   "outputs": [
    {
     "data": {
      "text/plain": [
       "array([[0.3603885 , 0.42313784, 0.4582621 , ..., 0.6584443 , 0.6096264 ,\n",
       "        0.5451753 ],\n",
       "       [0.45279908, 0.46333513, 0.45767164, ..., 0.7151351 , 0.68459797,\n",
       "        0.6587984 ],\n",
       "       [0.58621806, 0.57193804, 0.5766375 , ..., 0.75482166, 0.64588153,\n",
       "        0.6248259 ],\n",
       "       ...,\n",
       "       [0.72559965, 0.73874587, 0.7280953 , ..., 0.6706799 , 0.62801033,\n",
       "        0.6039929 ],\n",
       "       [0.15126948, 0.20878714, 0.32884455, ..., 0.63465285, 0.60663265,\n",
       "        0.5829374 ],\n",
       "       [0.06098515, 0.06976083, 0.08732027, ..., 0.73306185, 0.6913368 ,\n",
       "        0.4358329 ]], dtype=float32)"
      ]
     },
     "execution_count": 27,
     "metadata": {},
     "output_type": "execute_result"
    }
   ],
   "source": [
    "arr_reconstructed = pca.inverse_transform(arr_transformed)\n",
    "arr_reconstructed"
   ]
  },
  {
   "cell_type": "markdown",
   "metadata": {
    "id": "IHuGb3QsvlDq"
   },
   "source": [
    "L'immagine ricostruita con 444 PC:"
   ]
  },
  {
   "cell_type": "code",
   "execution_count": 28,
   "metadata": {
    "colab": {
     "base_uri": "https://localhost:8080/",
     "height": 467
    },
    "id": "dp18rl-YMnP8",
    "outputId": "61d48d59-ab76-476b-e466-28f0298f46e1"
   },
   "outputs": [
    {
     "data": {
      "text/plain": [
       "<matplotlib.image.AxesImage at 0x248ce0008b0>"
      ]
     },
     "execution_count": 28,
     "metadata": {},
     "output_type": "execute_result"
    },
    {
     "data": {
      "image/png": "[encoded data removed]",
      "text/plain": [
       "<Figure size 432x288 with 1 Axes>"
      ]
     },
     "metadata": {
      "needs_background": "light"
     },
     "output_type": "display_data"
    }
   ],
   "source": [
    "# Display image\n",
    "plt.imshow(np.reshape(arr_reconstructed[0], (28,28,1)), cmap='gray')"
   ]
  },
  {
   "cell_type": "markdown",
   "metadata": {
    "id": "2ma5QVqCvpED"
   },
   "source": [
    "L'immagine originale:"
   ]
  },
  {
   "cell_type": "code",
   "execution_count": 29,
   "metadata": {
    "colab": {
     "base_uri": "https://localhost:8080/",
     "height": 467
    },
    "id": "cAIUOP9KMvW7",
    "outputId": "5905bc7c-b03c-4875-81b6-b7bcfe34a963"
   },
   "outputs": [
    {
     "data": {
      "text/plain": [
       "<matplotlib.image.AxesImage at 0x248ce05c160>"
      ]
     },
     "execution_count": 29,
     "metadata": {},
     "output_type": "execute_result"
    },
    {
     "data": {
      "image/png": "[encoded data removed]",
      "text/plain": [
       "<Figure size 432x288 with 1 Axes>"
      ]
     },
     "metadata": {
      "needs_background": "light"
     },
     "output_type": "display_data"
    }
   ],
   "source": [
    "# Display image\n",
    "plt.imshow(np.reshape(arr[0], (28,28,1)), cmap='gray')"
   ]
  },
  {
   "cell_type": "markdown",
   "metadata": {
    "id": "j22JtWxjvwC-"
   },
   "source": [
    "L'errore:"
   ]
  },
  {
   "cell_type": "code",
   "execution_count": 30,
   "metadata": {
    "colab": {
     "base_uri": "https://localhost:8080/",
     "height": 467
    },
    "id": "Qud5J1mwM09E",
    "outputId": "9f75c31c-a945-45cd-8847-0be00307177a"
   },
   "outputs": [
    {
     "data": {
      "text/plain": [
       "<matplotlib.image.AxesImage at 0x248ce0abb80>"
      ]
     },
     "execution_count": 30,
     "metadata": {},
     "output_type": "execute_result"
    },
    {
     "data": {
      "image/png": "[encoded data removed]",
      "text/plain": [
       "<Figure size 432x288 with 1 Axes>"
      ]
     },
     "metadata": {
      "needs_background": "light"
     },
     "output_type": "display_data"
    }
   ],
   "source": [
    "# Display image\n",
    "plt.imshow(np.reshape(abs(arr[0] - arr_reconstructed[0]),(28,28,1)), cmap='gray')"
   ]
  },
  {
   "cell_type": "markdown",
   "metadata": {
    "id": "12HZAdhEv06Q"
   },
   "source": [
    "Classificazione binaria con <b><a href=\"https://scikit-learn.org/stable/modules/svm.html\">SVM</a></b> addestrando con le immagini da 444 PC"
   ]
  },
  {
   "cell_type": "code",
   "execution_count": 31,
   "metadata": {
    "id": "Yt7LsJeBM7Mr"
   },
   "outputs": [],
   "source": [
    "from sklearn import svm\n",
    "from sklearn.svm import SVC\n",
    "from sklearn.metrics import accuracy_score"
   ]
  },
  {
   "cell_type": "code",
   "execution_count": 32,
   "metadata": {
    "id": "JtzGFOsBkhPv"
   },
   "outputs": [],
   "source": [
    "def Modello_SVM(vkernel,vgamma,vC):\n",
    "    return SVC(kernel = vkernel, gamma = vgamma, C=vC)"
   ]
  },
  {
   "cell_type": "code",
   "execution_count": 33,
   "metadata": {
    "id": "vrK_nEHFM-l0"
   },
   "outputs": [],
   "source": [
    "def classificazioneSVM(SVMModel, arr_train, arr_train_label, arr_test, arr_test_label):\n",
    "    SVMModel.fit(X=arr_train, y=arr_train_label)\n",
    "    pred_labels = SVMModel.predict(arr_test)\n",
    "    return pred_labels, accuracy_score(arr_test_label, pred_labels)"
   ]
  },
  {
   "cell_type": "markdown",
   "metadata": {},
   "source": [
    "Uso il <a href=\"https://scikit-learn.org/stable/modules/generated/sklearn.model_selection.GridSearchCV.html\">GridSearchCV</a> per individuare la migliore combinazione di parametri C e gamma fissato il kernel. <br>\n",
    "Il validation set è usato in cross validazione."
   ]
  },
  {
   "cell_type": "code",
   "execution_count": 34,
   "metadata": {
    "id": "UQvPf5oENBo2"
   },
   "outputs": [],
   "source": [
    "from sklearn.model_selection import GridSearchCV, PredefinedSplit"
   ]
  },
  {
   "cell_type": "code",
   "execution_count": 35,
   "metadata": {
    "id": "08-biTQgNF4Z"
   },
   "outputs": [],
   "source": [
    "test_fold = [-1] * len(arr_train_label) + [0] * len(arr_val_label)\n",
    "ps = PredefinedSplit(test_fold)"
   ]
  },
  {
   "cell_type": "markdown",
   "metadata": {},
   "source": [
    "Kernel lineare"
   ]
  },
  {
   "cell_type": "code",
   "execution_count": 36,
   "metadata": {
    "colab": {
     "base_uri": "https://localhost:8080/",
     "height": 675
    },
    "id": "Njp9MSgLNWu5",
    "outputId": "0ddef4a3-619a-41b1-f483-767bc3c64b7f"
   },
   "outputs": [
    {
     "name": "stdout",
     "output_type": "stream",
     "text": [
      "Fitting 1 folds for each of 30 candidates, totalling 30 fits\n",
      "[CV 1/1] END .................C=0.1, gamma=10, kernel=linear; total time=   1.0s\n",
      "[CV 1/1] END ................C=0.1, gamma=1.0, kernel=linear; total time=   1.1s\n",
      "[CV 1/1] END ................C=0.1, gamma=0.1, kernel=linear; total time=   1.1s\n",
      "[CV 1/1] END ...............C=0.1, gamma=0.01, kernel=linear; total time=   1.3s\n",
      "[CV 1/1] END ..............C=0.1, gamma=0.001, kernel=linear; total time=   0.1s\n",
      "[CV 1/1] END .............C=0.1, gamma=0.0001, kernel=linear; total time=   1.1s\n",
      "[CV 1/1] END .................C=1.0, gamma=10, kernel=linear; total time=   1.3s\n",
      "[CV 1/1] END ................C=1.0, gamma=1.0, kernel=linear; total time=   1.2s\n",
      "[CV 1/1] END ................C=1.0, gamma=0.1, kernel=linear; total time=   1.5s\n",
      "[CV 1/1] END ...............C=1.0, gamma=0.01, kernel=linear; total time=   1.8s\n",
      "[CV 1/1] END ..............C=1.0, gamma=0.001, kernel=linear; total time=   1.1s\n",
      "[CV 1/1] END .............C=1.0, gamma=0.0001, kernel=linear; total time=   0.9s\n",
      "[CV 1/1] END ................C=10.0, gamma=10, kernel=linear; total time=   1.7s\n",
      "[CV 1/1] END ...............C=10.0, gamma=1.0, kernel=linear; total time=   1.7s\n",
      "[CV 1/1] END ...............C=10.0, gamma=0.1, kernel=linear; total time=   1.6s\n",
      "[CV 1/1] END ..............C=10.0, gamma=0.01, kernel=linear; total time=   1.5s\n",
      "[CV 1/1] END .............C=10.0, gamma=0.001, kernel=linear; total time=   1.6s\n",
      "[CV 1/1] END ............C=10.0, gamma=0.0001, kernel=linear; total time=   1.5s\n",
      "[CV 1/1] END ...............C=100.0, gamma=10, kernel=linear; total time=   2.9s\n",
      "[CV 1/1] END ..............C=100.0, gamma=1.0, kernel=linear; total time=   2.6s\n",
      "[CV 1/1] END ..............C=100.0, gamma=0.1, kernel=linear; total time=   2.7s\n",
      "[CV 1/1] END .............C=100.0, gamma=0.01, kernel=linear; total time=   2.8s\n",
      "[CV 1/1] END ............C=100.0, gamma=0.001, kernel=linear; total time=   2.5s\n",
      "[CV 1/1] END ...........C=100.0, gamma=0.0001, kernel=linear; total time=   2.3s\n",
      "[CV 1/1] END ..............C=1000.0, gamma=10, kernel=linear; total time=   3.0s\n",
      "[CV 1/1] END .............C=1000.0, gamma=1.0, kernel=linear; total time=   2.8s\n",
      "[CV 1/1] END .............C=1000.0, gamma=0.1, kernel=linear; total time=   2.4s\n",
      "[CV 1/1] END ............C=1000.0, gamma=0.01, kernel=linear; total time=   2.2s\n",
      "[CV 1/1] END ...........C=1000.0, gamma=0.001, kernel=linear; total time=   2.2s\n",
      "[CV 1/1] END ..........C=1000.0, gamma=0.0001, kernel=linear; total time=   2.2s\n"
     ]
    },
    {
     "data": {
      "text/plain": [
       "GridSearchCV(cv=PredefinedSplit(test_fold=array([-1, -1, ...,  0,  0])),\n",
       "             estimator=SVC(),\n",
       "             param_grid={'C': [0.1, 1.0, 10.0, 100.0, 1000.0],\n",
       "                         'gamma': [10, 1.0, 0.1, 0.01, 0.001, 0.0001],\n",
       "                         'kernel': ['linear']},\n",
       "             verbose=3)"
      ]
     },
     "execution_count": 36,
     "metadata": {},
     "output_type": "execute_result"
    }
   ],
   "source": [
    "# defining parameter range\n",
    "param_grid_linear = {'C': [0.1, 1.0, 10.0, 100.0, 1000.0],\n",
    "                     'gamma': [10, 1.0, 0.1, 0.01, 0.001, 0.0001],\n",
    "                     'kernel': ['linear']}\n",
    "\n",
    "grid_linear = GridSearchCV(SVC(), param_grid_linear, refit = True, verbose = 3, cv=ps)\n",
    "\n",
    "# fitting the model for grid search\n",
    "grid_linear.fit(arr_transformed[inizio_train:fine_val], train_val_label)"
   ]
  },
  {
   "cell_type": "code",
   "execution_count": 37,
   "metadata": {
    "colab": {
     "base_uri": "https://localhost:8080/"
    },
    "id": "7F18W4bfN1YH",
    "outputId": "50927398-2662-463e-a72a-6fe39082c90d"
   },
   "outputs": [
    {
     "data": {
      "text/plain": [
       "{'C': 0.1, 'gamma': 10, 'kernel': 'linear'}"
      ]
     },
     "execution_count": 37,
     "metadata": {},
     "output_type": "execute_result"
    }
   ],
   "source": [
    "grid_linear.best_params_"
   ]
  },
  {
   "cell_type": "code",
   "execution_count": 38,
   "metadata": {
    "colab": {
     "base_uri": "https://localhost:8080/"
    },
    "id": "cR7AvypON20b",
    "outputId": "db64f20b-daaf-4584-93bc-52952947cd01"
   },
   "outputs": [
    {
     "data": {
      "text/plain": [
       "0.9561068702290076"
      ]
     },
     "execution_count": 38,
     "metadata": {},
     "output_type": "execute_result"
    }
   ],
   "source": [
    "grid_linear.best_score_"
   ]
  },
  {
   "cell_type": "code",
   "execution_count": 76,
   "metadata": {
    "id": "pEY2dxaOO-_I"
   },
   "outputs": [],
   "source": [
    "SVMModel_linear = Modello_SVM(grid_linear.best_params_['kernel'], grid_linear.best_params_['gamma'],\n",
    "                              grid_linear.best_params_['C'])"
   ]
  },
  {
   "cell_type": "code",
   "execution_count": 77,
   "metadata": {
    "colab": {
     "base_uri": "https://localhost:8080/"
    },
    "id": "bk-sFWIZPG94",
    "outputId": "dec19519-5734-45cc-88f9-170d65a32da3"
   },
   "outputs": [
    {
     "data": {
      "text/plain": [
       "0.8397435897435898"
      ]
     },
     "execution_count": 77,
     "metadata": {},
     "output_type": "execute_result"
    }
   ],
   "source": [
    "pred_linear, acc_linear = classificazioneSVM(SVMModel_linear, arr_transformed[inizio_train:fine_train], arr_train_label,\n",
    "                                             arr_transformed[inizio_test:fine_test], arr_test_label)\n",
    "acc_linear"
   ]
  },
  {
   "cell_type": "markdown",
   "metadata": {},
   "source": [
    "Kernel polinomiale"
   ]
  },
  {
   "cell_type": "code",
   "execution_count": 41,
   "metadata": {
    "colab": {
     "base_uri": "https://localhost:8080/",
     "height": 675
    },
    "id": "CqASjo4aPkm0",
    "outputId": "ff38a248-7f22-4fdf-d5a5-39d814e5654a"
   },
   "outputs": [
    {
     "name": "stdout",
     "output_type": "stream",
     "text": [
      "Fitting 1 folds for each of 30 candidates, totalling 30 fits\n",
      "[CV 1/1] END .................C=0.1, gamma=10.0, kernel=poly; total time=   1.2s\n",
      "[CV 1/1] END ..................C=0.1, gamma=1.0, kernel=poly; total time=   1.1s\n",
      "[CV 1/1] END ..................C=0.1, gamma=0.1, kernel=poly; total time=   1.7s\n",
      "[CV 1/1] END .................C=0.1, gamma=0.01, kernel=poly; total time=   2.8s\n",
      "[CV 1/1] END ................C=0.1, gamma=0.001, kernel=poly; total time=   2.3s\n",
      "[CV 1/1] END ...............C=0.1, gamma=0.0001, kernel=poly; total time=   2.2s\n",
      "[CV 1/1] END .................C=1.0, gamma=10.0, kernel=poly; total time=   1.0s\n",
      "[CV 1/1] END ..................C=1.0, gamma=1.0, kernel=poly; total time=   1.0s\n",
      "[CV 1/1] END ..................C=1.0, gamma=0.1, kernel=poly; total time=   1.4s\n",
      "[CV 1/1] END .................C=1.0, gamma=0.01, kernel=poly; total time=   3.4s\n",
      "[CV 1/1] END ................C=1.0, gamma=0.001, kernel=poly; total time=   3.2s\n",
      "[CV 1/1] END ...............C=1.0, gamma=0.0001, kernel=poly; total time=   3.1s\n",
      "[CV 1/1] END ................C=10.0, gamma=10.0, kernel=poly; total time=   1.3s\n",
      "[CV 1/1] END .................C=10.0, gamma=1.0, kernel=poly; total time=   1.3s\n",
      "[CV 1/1] END .................C=10.0, gamma=0.1, kernel=poly; total time=   1.2s\n",
      "[CV 1/1] END ................C=10.0, gamma=0.01, kernel=poly; total time=   2.6s\n",
      "[CV 1/1] END ...............C=10.0, gamma=0.001, kernel=poly; total time=   3.0s\n",
      "[CV 1/1] END ..............C=10.0, gamma=0.0001, kernel=poly; total time=   2.5s\n",
      "[CV 1/1] END ...............C=100.0, gamma=10.0, kernel=poly; total time=   1.1s\n",
      "[CV 1/1] END ................C=100.0, gamma=1.0, kernel=poly; total time=   1.1s\n",
      "[CV 1/1] END ................C=100.0, gamma=0.1, kernel=poly; total time=   1.1s\n",
      "[CV 1/1] END ...............C=100.0, gamma=0.01, kernel=poly; total time=   1.8s\n",
      "[CV 1/1] END ..............C=100.0, gamma=0.001, kernel=poly; total time=   2.8s\n",
      "[CV 1/1] END .............C=100.0, gamma=0.0001, kernel=poly; total time=   2.6s\n",
      "[CV 1/1] END ..............C=1000.0, gamma=10.0, kernel=poly; total time=   1.2s\n",
      "[CV 1/1] END ...............C=1000.0, gamma=1.0, kernel=poly; total time=   1.1s\n",
      "[CV 1/1] END ...............C=1000.0, gamma=0.1, kernel=poly; total time=   1.2s\n",
      "[CV 1/1] END ..............C=1000.0, gamma=0.01, kernel=poly; total time=   1.3s\n",
      "[CV 1/1] END .............C=1000.0, gamma=0.001, kernel=poly; total time=   2.8s\n",
      "[CV 1/1] END ............C=1000.0, gamma=0.0001, kernel=poly; total time=   2.6s\n"
     ]
    },
    {
     "data": {
      "text/plain": [
       "GridSearchCV(cv=PredefinedSplit(test_fold=array([-1, -1, ...,  0,  0])),\n",
       "             estimator=SVC(),\n",
       "             param_grid={'C': [0.1, 1.0, 10.0, 100.0, 1000.0],\n",
       "                         'gamma': [10.0, 1.0, 0.1, 0.01, 0.001, 0.0001],\n",
       "                         'kernel': ['poly']},\n",
       "             verbose=3)"
      ]
     },
     "execution_count": 41,
     "metadata": {},
     "output_type": "execute_result"
    }
   ],
   "source": [
    "# defining parameter range\n",
    "param_grid_poly = {'C': [0.1, 1.0, 10.0, 100.0, 1000.0],\n",
    "                   'gamma': [10.0, 1.0, 0.1, 0.01, 0.001, 0.0001],\n",
    "                   'kernel': ['poly']}\n",
    "\n",
    "grid_poly = GridSearchCV(SVC(), param_grid_poly, refit = True, verbose = 3, cv=ps)\n",
    "\n",
    "# fitting the model for grid search\n",
    "grid_poly.fit(arr_transformed[inizio_train:fine_val], train_val_label)"
   ]
  },
  {
   "cell_type": "code",
   "execution_count": 42,
   "metadata": {
    "colab": {
     "base_uri": "https://localhost:8080/"
    },
    "id": "_CnRzB-7QHXU",
    "outputId": "7c24f718-9515-4cde-ad35-3394096221f7"
   },
   "outputs": [
    {
     "data": {
      "text/plain": [
       "{'C': 10.0, 'gamma': 0.1, 'kernel': 'poly'}"
      ]
     },
     "execution_count": 42,
     "metadata": {},
     "output_type": "execute_result"
    }
   ],
   "source": [
    "grid_poly.best_params_"
   ]
  },
  {
   "cell_type": "code",
   "execution_count": 43,
   "metadata": {
    "colab": {
     "base_uri": "https://localhost:8080/"
    },
    "id": "FkQQY4fZQMrF",
    "outputId": "95f0a33c-10a1-4367-c771-8c9657dd97a7"
   },
   "outputs": [
    {
     "data": {
      "text/plain": [
       "0.9599236641221374"
      ]
     },
     "execution_count": 43,
     "metadata": {},
     "output_type": "execute_result"
    }
   ],
   "source": [
    "grid_poly.best_score_"
   ]
  },
  {
   "cell_type": "code",
   "execution_count": 78,
   "metadata": {
    "id": "NnuUGk65Q228"
   },
   "outputs": [],
   "source": [
    "SVMModel_poly = Modello_SVM(grid_poly.best_params_['kernel'], grid_poly.best_params_['gamma'],\n",
    "                            grid_poly.best_params_['C'])"
   ]
  },
  {
   "cell_type": "code",
   "execution_count": 79,
   "metadata": {
    "colab": {
     "base_uri": "https://localhost:8080/"
    },
    "id": "q3CoJI-iRLOG",
    "outputId": "abdeb1ae-3f39-4e95-c993-72c6ca98c24c"
   },
   "outputs": [
    {
     "data": {
      "text/plain": [
       "0.8349358974358975"
      ]
     },
     "execution_count": 79,
     "metadata": {},
     "output_type": "execute_result"
    }
   ],
   "source": [
    "pred_poly, acc_poly = classificazioneSVM(SVMModel_poly, arr_transformed[inizio_train:fine_train], arr_train_label,\n",
    "                                         arr_transformed[inizio_test:fine_test], arr_test_label)\n",
    "acc_poly"
   ]
  },
  {
   "cell_type": "markdown",
   "metadata": {},
   "source": [
    "Kernel gaussiano"
   ]
  },
  {
   "cell_type": "code",
   "execution_count": 46,
   "metadata": {
    "colab": {
     "base_uri": "https://localhost:8080/",
     "height": 675
    },
    "id": "cPM4Hr7YRQX4",
    "outputId": "daa40f86-aa5f-42a0-d819-26b626b30bd7"
   },
   "outputs": [
    {
     "name": "stdout",
     "output_type": "stream",
     "text": [
      "Fitting 1 folds for each of 30 candidates, totalling 30 fits\n",
      "[CV 1/1] END ..................C=0.1, gamma=10.0, kernel=rbf; total time=   6.0s\n",
      "[CV 1/1] END ...................C=0.1, gamma=1.0, kernel=rbf; total time=   5.6s\n",
      "[CV 1/1] END ...................C=0.1, gamma=0.1, kernel=rbf; total time=   1.7s\n",
      "[CV 1/1] END ..................C=0.1, gamma=0.01, kernel=rbf; total time=   3.2s\n",
      "[CV 1/1] END .................C=0.1, gamma=0.001, kernel=rbf; total time=   3.7s\n",
      "[CV 1/1] END ................C=0.1, gamma=0.0001, kernel=rbf; total time=   3.6s\n",
      "[CV 1/1] END ..................C=1.0, gamma=10.0, kernel=rbf; total time=   6.1s\n",
      "[CV 1/1] END ...................C=1.0, gamma=1.0, kernel=rbf; total time=   6.4s\n",
      "[CV 1/1] END ...................C=1.0, gamma=0.1, kernel=rbf; total time=   1.2s\n",
      "[CV 1/1] END ..................C=1.0, gamma=0.01, kernel=rbf; total time=   1.1s\n",
      "[CV 1/1] END .................C=1.0, gamma=0.001, kernel=rbf; total time=   2.0s\n",
      "[CV 1/1] END ................C=1.0, gamma=0.0001, kernel=rbf; total time=   3.4s\n",
      "[CV 1/1] END .................C=10.0, gamma=10.0, kernel=rbf; total time=   7.4s\n",
      "[CV 1/1] END ..................C=10.0, gamma=1.0, kernel=rbf; total time=   6.3s\n",
      "[CV 1/1] END ..................C=10.0, gamma=0.1, kernel=rbf; total time=   1.2s\n",
      "[CV 1/1] END .................C=10.0, gamma=0.01, kernel=rbf; total time=   0.7s\n",
      "[CV 1/1] END ................C=10.0, gamma=0.001, kernel=rbf; total time=   1.1s\n",
      "[CV 1/1] END ...............C=10.0, gamma=0.0001, kernel=rbf; total time=   1.9s\n",
      "[CV 1/1] END ................C=100.0, gamma=10.0, kernel=rbf; total time=   6.3s\n",
      "[CV 1/1] END .................C=100.0, gamma=1.0, kernel=rbf; total time=  17.7s\n",
      "[CV 1/1] END .................C=100.0, gamma=0.1, kernel=rbf; total time=   3.9s\n",
      "[CV 1/1] END ................C=100.0, gamma=0.01, kernel=rbf; total time=   1.9s\n",
      "[CV 1/1] END ...............C=100.0, gamma=0.001, kernel=rbf; total time=   2.0s\n",
      "[CV 1/1] END ..............C=100.0, gamma=0.0001, kernel=rbf; total time=   2.4s\n",
      "[CV 1/1] END ...............C=1000.0, gamma=10.0, kernel=rbf; total time=   8.0s\n",
      "[CV 1/1] END ................C=1000.0, gamma=1.0, kernel=rbf; total time=   6.8s\n",
      "[CV 1/1] END ................C=1000.0, gamma=0.1, kernel=rbf; total time=   1.4s\n",
      "[CV 1/1] END ...............C=1000.0, gamma=0.01, kernel=rbf; total time=   0.8s\n",
      "[CV 1/1] END ..............C=1000.0, gamma=0.001, kernel=rbf; total time=   0.9s\n",
      "[CV 1/1] END .............C=1000.0, gamma=0.0001, kernel=rbf; total time=   1.0s\n"
     ]
    },
    {
     "data": {
      "text/plain": [
       "GridSearchCV(cv=PredefinedSplit(test_fold=array([-1, -1, ...,  0,  0])),\n",
       "             estimator=SVC(),\n",
       "             param_grid={'C': [0.1, 1.0, 10.0, 100.0, 1000.0],\n",
       "                         'gamma': [10.0, 1.0, 0.1, 0.01, 0.001, 0.0001],\n",
       "                         'kernel': ['rbf']},\n",
       "             verbose=3)"
      ]
     },
     "execution_count": 46,
     "metadata": {},
     "output_type": "execute_result"
    }
   ],
   "source": [
    "# defining parameter range\n",
    "param_grid_rbf = {'C': [0.1, 1.0, 10.0, 100.0, 1000.0],\n",
    "                  'gamma': [10.0, 1.0, 0.1, 0.01, 0.001, 0.0001],\n",
    "                  'kernel': ['rbf']}\n",
    "\n",
    "grid_rbf = GridSearchCV(SVC(), param_grid_rbf, refit = True, verbose = 3, cv=ps)\n",
    "\n",
    "# fitting the model for grid search\n",
    "grid_rbf.fit(arr_transformed[inizio_train:fine_val], train_val_label)"
   ]
  },
  {
   "cell_type": "code",
   "execution_count": 47,
   "metadata": {
    "colab": {
     "base_uri": "https://localhost:8080/"
    },
    "id": "4ukmk0nFRyR-",
    "outputId": "2c042e9f-d851-4dbe-9f7f-56beb869c269"
   },
   "outputs": [
    {
     "data": {
      "text/plain": [
       "{'C': 1.0, 'gamma': 0.1, 'kernel': 'rbf'}"
      ]
     },
     "execution_count": 47,
     "metadata": {},
     "output_type": "execute_result"
    }
   ],
   "source": [
    "grid_rbf.best_params_"
   ]
  },
  {
   "cell_type": "code",
   "execution_count": 48,
   "metadata": {
    "colab": {
     "base_uri": "https://localhost:8080/"
    },
    "id": "Ao08nD2fR2K-",
    "outputId": "7708116a-a3af-421d-f425-cb7a79e469b1"
   },
   "outputs": [
    {
     "data": {
      "text/plain": [
       "0.9656488549618321"
      ]
     },
     "execution_count": 48,
     "metadata": {},
     "output_type": "execute_result"
    }
   ],
   "source": [
    "grid_rbf.best_score_"
   ]
  },
  {
   "cell_type": "code",
   "execution_count": 80,
   "metadata": {
    "id": "EN1_vhWfR5oi"
   },
   "outputs": [],
   "source": [
    "SVMModel_rbf = Modello_SVM(grid_rbf.best_params_['kernel'],grid_rbf.best_params_['gamma'],\n",
    "                           grid_rbf.best_params_['C'])"
   ]
  },
  {
   "cell_type": "code",
   "execution_count": 81,
   "metadata": {
    "colab": {
     "base_uri": "https://localhost:8080/"
    },
    "id": "NNnPQvV5R-v5",
    "outputId": "59344fe3-4112-47d6-a94c-0c38f73d5ac2"
   },
   "outputs": [
    {
     "data": {
      "text/plain": [
       "0.8541666666666666"
      ]
     },
     "execution_count": 81,
     "metadata": {},
     "output_type": "execute_result"
    }
   ],
   "source": [
    "pred_rbf, acc_rbf = classificazioneSVM(SVMModel_rbf, arr_transformed[inizio_train:fine_train], arr_train_label,\n",
    "                                       arr_transformed[inizio_test:fine_test], arr_test_label)\n",
    "acc_rbf"
   ]
  },
  {
   "cell_type": "markdown",
   "metadata": {},
   "source": [
    "Kernel gaussiano con range più ristretto di gamma"
   ]
  },
  {
   "cell_type": "code",
   "execution_count": 51,
   "metadata": {
    "colab": {
     "base_uri": "https://localhost:8080/",
     "height": 936
    },
    "id": "CQjaXLySTcbw",
    "outputId": "2c879e70-9acf-4070-fb3c-5ed274be032c"
   },
   "outputs": [
    {
     "name": "stdout",
     "output_type": "stream",
     "text": [
      "Fitting 1 folds for each of 45 candidates, totalling 45 fits\n",
      "[CV 1/1] END ....................C=1, gamma=0.08, kernel=rbf; total time=   1.3s\n",
      "[CV 1/1] END ....................C=1, gamma=0.09, kernel=rbf; total time=   1.1s\n",
      "[CV 1/1] END .....................C=1, gamma=0.1, kernel=rbf; total time=   1.3s\n",
      "[CV 1/1] END ....................C=1, gamma=0.11, kernel=rbf; total time=   1.3s\n",
      "[CV 1/1] END ....................C=1, gamma=0.12, kernel=rbf; total time=   1.3s\n",
      "[CV 1/1] END ....................C=2, gamma=0.08, kernel=rbf; total time=   1.3s\n",
      "[CV 1/1] END ....................C=2, gamma=0.09, kernel=rbf; total time=   1.2s\n",
      "[CV 1/1] END .....................C=2, gamma=0.1, kernel=rbf; total time=   1.2s\n",
      "[CV 1/1] END ....................C=2, gamma=0.11, kernel=rbf; total time=   1.6s\n",
      "[CV 1/1] END ....................C=2, gamma=0.12, kernel=rbf; total time=   1.7s\n",
      "[CV 1/1] END ....................C=3, gamma=0.08, kernel=rbf; total time=   1.0s\n",
      "[CV 1/1] END ....................C=3, gamma=0.09, kernel=rbf; total time=   1.4s\n",
      "[CV 1/1] END .....................C=3, gamma=0.1, kernel=rbf; total time=   1.5s\n",
      "[CV 1/1] END ....................C=3, gamma=0.11, kernel=rbf; total time=   1.5s\n",
      "[CV 1/1] END ....................C=3, gamma=0.12, kernel=rbf; total time=   1.5s\n",
      "[CV 1/1] END ....................C=4, gamma=0.08, kernel=rbf; total time=   1.2s\n",
      "[CV 1/1] END ....................C=4, gamma=0.09, kernel=rbf; total time=   1.3s\n",
      "[CV 1/1] END .....................C=4, gamma=0.1, kernel=rbf; total time=   1.4s\n",
      "[CV 1/1] END ....................C=4, gamma=0.11, kernel=rbf; total time=   1.5s\n",
      "[CV 1/1] END ....................C=4, gamma=0.12, kernel=rbf; total time=   1.4s\n",
      "[CV 1/1] END ....................C=5, gamma=0.08, kernel=rbf; total time=   1.4s\n",
      "[CV 1/1] END ....................C=5, gamma=0.09, kernel=rbf; total time=   1.3s\n",
      "[CV 1/1] END .....................C=5, gamma=0.1, kernel=rbf; total time=   1.4s\n",
      "[CV 1/1] END ....................C=5, gamma=0.11, kernel=rbf; total time=   1.6s\n",
      "[CV 1/1] END ....................C=5, gamma=0.12, kernel=rbf; total time=   1.6s\n",
      "[CV 1/1] END ....................C=6, gamma=0.08, kernel=rbf; total time=   1.1s\n",
      "[CV 1/1] END ....................C=6, gamma=0.09, kernel=rbf; total time=   1.5s\n",
      "[CV 1/1] END .....................C=6, gamma=0.1, kernel=rbf; total time=   1.3s\n",
      "[CV 1/1] END ....................C=6, gamma=0.11, kernel=rbf; total time=   1.4s\n",
      "[CV 1/1] END ....................C=6, gamma=0.12, kernel=rbf; total time=   1.4s\n",
      "[CV 1/1] END ....................C=7, gamma=0.08, kernel=rbf; total time=   1.2s\n",
      "[CV 1/1] END ....................C=7, gamma=0.09, kernel=rbf; total time=   1.2s\n",
      "[CV 1/1] END .....................C=7, gamma=0.1, kernel=rbf; total time=   1.5s\n",
      "[CV 1/1] END ....................C=7, gamma=0.11, kernel=rbf; total time=   3.1s\n",
      "[CV 1/1] END ....................C=7, gamma=0.12, kernel=rbf; total time=   1.7s\n",
      "[CV 1/1] END ....................C=8, gamma=0.08, kernel=rbf; total time=   1.4s\n",
      "[CV 1/1] END ....................C=8, gamma=0.09, kernel=rbf; total time=   1.5s\n",
      "[CV 1/1] END .....................C=8, gamma=0.1, kernel=rbf; total time=   1.4s\n",
      "[CV 1/1] END ....................C=8, gamma=0.11, kernel=rbf; total time=   1.4s\n",
      "[CV 1/1] END ....................C=8, gamma=0.12, kernel=rbf; total time=   1.5s\n",
      "[CV 1/1] END ....................C=9, gamma=0.08, kernel=rbf; total time=   1.2s\n",
      "[CV 1/1] END ....................C=9, gamma=0.09, kernel=rbf; total time=   1.1s\n",
      "[CV 1/1] END .....................C=9, gamma=0.1, kernel=rbf; total time=   1.2s\n",
      "[CV 1/1] END ....................C=9, gamma=0.11, kernel=rbf; total time=   1.3s\n",
      "[CV 1/1] END ....................C=9, gamma=0.12, kernel=rbf; total time=   1.3s\n"
     ]
    },
    {
     "data": {
      "text/plain": [
       "GridSearchCV(cv=PredefinedSplit(test_fold=array([-1, -1, ...,  0,  0])),\n",
       "             estimator=SVC(),\n",
       "             param_grid={'C': [1, 2, 3, 4, 5, 6, 7, 8, 9],\n",
       "                         'gamma': [0.08, 0.09, 0.1, 0.11, 0.12],\n",
       "                         'kernel': ['rbf']},\n",
       "             verbose=3)"
      ]
     },
     "execution_count": 51,
     "metadata": {},
     "output_type": "execute_result"
    }
   ],
   "source": [
    "# defining parameter range\n",
    "param_grid_rbf_2 = {'C': [1, 2, 3, 4, 5, 6, 7, 8, 9],\n",
    "                  'gamma': [0.08, 0.09, 0.1, 0.11, 0.12],\n",
    "                  'kernel': ['rbf']}\n",
    "\n",
    "grid_rbf_2 = GridSearchCV(SVC(), param_grid_rbf_2, refit = True, verbose = 3, cv=ps)\n",
    "\n",
    "# fitting the model for grid search\n",
    "grid_rbf_2.fit(arr_transformed[inizio_train:fine_val], train_val_label)"
   ]
  },
  {
   "cell_type": "code",
   "execution_count": 52,
   "metadata": {
    "colab": {
     "base_uri": "https://localhost:8080/"
    },
    "id": "c875R4DIT8wd",
    "outputId": "919857c5-e3de-411e-e65c-ba5194a705cd"
   },
   "outputs": [
    {
     "data": {
      "text/plain": [
       "{'C': 3, 'gamma': 0.08, 'kernel': 'rbf'}"
      ]
     },
     "execution_count": 52,
     "metadata": {},
     "output_type": "execute_result"
    }
   ],
   "source": [
    "grid_rbf_2.best_params_"
   ]
  },
  {
   "cell_type": "code",
   "execution_count": 53,
   "metadata": {
    "colab": {
     "base_uri": "https://localhost:8080/"
    },
    "id": "zRQaiaUaUAlk",
    "outputId": "d5bde04c-5c26-4ae3-be62-d323d9167915"
   },
   "outputs": [
    {
     "data": {
      "text/plain": [
       "0.9694656488549618"
      ]
     },
     "execution_count": 53,
     "metadata": {},
     "output_type": "execute_result"
    }
   ],
   "source": [
    "grid_rbf_2.best_score_"
   ]
  },
  {
   "cell_type": "code",
   "execution_count": 82,
   "metadata": {
    "id": "Oux12eG7UMzt"
   },
   "outputs": [],
   "source": [
    "SVMModel_rbf_2 = Modello_SVM(grid_rbf_2.best_params_['kernel'], grid_rbf_2.best_params_['gamma'],\n",
    "                             grid_rbf_2.best_params_['C'])"
   ]
  },
  {
   "cell_type": "code",
   "execution_count": 83,
   "metadata": {
    "colab": {
     "base_uri": "https://localhost:8080/"
    },
    "id": "PeUZrpifUSnn",
    "outputId": "11cf99b1-a417-4894-cb0f-2f2f4feab38f"
   },
   "outputs": [
    {
     "data": {
      "text/plain": [
       "0.8589743589743589"
      ]
     },
     "execution_count": 83,
     "metadata": {},
     "output_type": "execute_result"
    }
   ],
   "source": [
    "pred_rbf_2, acc_rbf_2 = classificazioneSVM(SVMModel_rbf_2, arr_transformed[inizio_train:fine_train], arr_train_label,\n",
    "                                           arr_transformed[inizio_test:fine_test], arr_test_label)\n",
    "acc_rbf_2"
   ]
  },
  {
   "cell_type": "markdown",
   "metadata": {},
   "source": [
    "Uso un albero binario <a href=\"https://scikit-learn.org/stable/modules/generated/sklearn.tree.DecisionTreeClassifier.html\">DecisionTreeClassifier</a>"
   ]
  },
  {
   "cell_type": "code",
   "execution_count": 110,
   "metadata": {
    "id": "cLfg7N_7a30Y"
   },
   "outputs": [],
   "source": [
    "from sklearn.tree import DecisionTreeClassifier\n",
    "from sklearn import tree"
   ]
  },
  {
   "cell_type": "code",
   "execution_count": 57,
   "metadata": {
    "id": "MyY8IAiRbSP5"
   },
   "outputs": [],
   "source": [
    "def classificazioneTree(arr_train, arr_train_label, arr_test, arr_test_label):\n",
    "    clf = DecisionTreeClassifier()\n",
    "    clf = clf.fit(arr_train,arr_train_label)\n",
    "    pred_labels = clf.predict(arr_test)\n",
    "    return clf, pred_labels, accuracy_score(arr_test_label, pred_labels)"
   ]
  },
  {
   "cell_type": "code",
   "execution_count": 58,
   "metadata": {
    "colab": {
     "base_uri": "https://localhost:8080/"
    },
    "id": "XZ9D1acxbW1j",
    "outputId": "b10758ff-b32a-4411-b0b2-1938210ab159"
   },
   "outputs": [
    {
     "data": {
      "text/plain": [
       "0.7980769230769231"
      ]
     },
     "execution_count": 58,
     "metadata": {},
     "output_type": "execute_result"
    }
   ],
   "source": [
    "clf_tree, pred_tree, acc_tree = classificazioneTree(arr_transformed[inizio_train:fine_train], arr_train_label,\n",
    "                                                    arr_transformed[inizio_test:fine_test], arr_test_label)\n",
    "acc_tree"
   ]
  },
  {
   "cell_type": "code",
   "execution_count": 59,
   "metadata": {
    "colab": {
     "base_uri": "https://localhost:8080/",
     "height": 1000
    },
    "id": "29HgI9-2bh9e",
    "outputId": "96878fcd-71d9-4618-c10c-6a9e874355fc"
   },
   "outputs": [
    {
     "data": {
      "text/plain": [
       "[Text(189.1907864874302, 213.0912, 'X[1] <= -0.585\\ngini = 0.383\\nsamples = 4708\\nvalue = [1214, 3494]'),\n",
       " Text(92.13867842178772, 204.3936, 'X[0] <= 1.122\\ngini = 0.414\\nsamples = 1389\\nvalue = [983, 406]'),\n",
       " Text(33.477077513966485, 195.696, 'X[2] <= -1.036\\ngini = 0.263\\nsamples = 1071\\nvalue = [904, 167]'),\n",
       " Text(12.157541899441341, 186.9984, 'X[57] <= 0.05\\ngini = 0.5\\nsamples = 97\\nvalue = [47, 50]'),\n",
       " Text(7.481564245810056, 178.3008, 'X[6] <= -0.33\\ngini = 0.43\\nsamples = 67\\nvalue = [21, 46]'),\n",
       " Text(3.740782122905028, 169.60320000000002, 'X[26] <= -0.199\\ngini = 0.32\\nsamples = 15\\nvalue = [12, 3]'),\n",
       " Text(1.870391061452514, 160.9056, 'gini = 0.0\\nsamples = 3\\nvalue = [0, 3]'),\n",
       " Text(5.6111731843575425, 160.9056, 'gini = 0.0\\nsamples = 12\\nvalue = [12, 0]'),\n",
       " Text(11.222346368715085, 169.60320000000002, 'X[314] <= -0.056\\ngini = 0.286\\nsamples = 52\\nvalue = [9, 43]'),\n",
       " Text(9.351955307262571, 160.9056, 'gini = 0.0\\nsamples = 4\\nvalue = [4, 0]'),\n",
       " Text(13.092737430167599, 160.9056, 'X[13] <= 0.319\\ngini = 0.187\\nsamples = 48\\nvalue = [5, 43]'),\n",
       " Text(11.222346368715085, 152.208, 'gini = 0.0\\nsamples = 40\\nvalue = [0, 40]'),\n",
       " Text(14.963128491620113, 152.208, 'X[293] <= -0.022\\ngini = 0.469\\nsamples = 8\\nvalue = [5, 3]'),\n",
       " Text(13.092737430167599, 143.5104, 'gini = 0.0\\nsamples = 3\\nvalue = [0, 3]'),\n",
       " Text(16.833519553072627, 143.5104, 'gini = 0.0\\nsamples = 5\\nvalue = [5, 0]'),\n",
       " Text(16.833519553072627, 178.3008, 'X[64] <= 0.159\\ngini = 0.231\\nsamples = 30\\nvalue = [26, 4]'),\n",
       " Text(14.963128491620113, 169.60320000000002, 'gini = 0.0\\nsamples = 25\\nvalue = [25, 0]'),\n",
       " Text(18.703910614525142, 169.60320000000002, 'X[148] <= -0.124\\ngini = 0.32\\nsamples = 5\\nvalue = [1, 4]'),\n",
       " Text(16.833519553072627, 160.9056, 'gini = 0.0\\nsamples = 1\\nvalue = [1, 0]'),\n",
       " Text(20.574301675977654, 160.9056, 'gini = 0.0\\nsamples = 4\\nvalue = [0, 4]'),\n",
       " Text(54.79661312849162, 186.9984, 'X[11] <= -0.799\\ngini = 0.211\\nsamples = 974\\nvalue = [857, 117]'),\n",
       " Text(29.926256983240226, 178.3008, 'X[1] <= -1.393\\ngini = 0.499\\nsamples = 55\\nvalue = [26, 29]'),\n",
       " Text(26.185474860335198, 169.60320000000002, 'X[79] <= -0.092\\ngini = 0.342\\nsamples = 32\\nvalue = [25, 7]'),\n",
       " Text(24.315083798882682, 160.9056, 'gini = 0.0\\nsamples = 4\\nvalue = [0, 4]'),\n",
       " Text(28.05586592178771, 160.9056, 'X[64] <= 0.156\\ngini = 0.191\\nsamples = 28\\nvalue = [25, 3]'),\n",
       " Text(26.185474860335198, 152.208, 'gini = 0.0\\nsamples = 24\\nvalue = [24, 0]'),\n",
       " Text(29.926256983240226, 152.208, 'X[165] <= -0.01\\ngini = 0.375\\nsamples = 4\\nvalue = [1, 3]'),\n",
       " Text(28.05586592178771, 143.5104, 'gini = 0.0\\nsamples = 1\\nvalue = [1, 0]'),\n",
       " Text(31.79664804469274, 143.5104, 'gini = 0.0\\nsamples = 3\\nvalue = [0, 3]'),\n",
       " Text(33.66703910614525, 169.60320000000002, 'X[425] <= 0.037\\ngini = 0.083\\nsamples = 23\\nvalue = [1, 22]'),\n",
       " Text(31.79664804469274, 160.9056, 'gini = 0.0\\nsamples = 22\\nvalue = [0, 22]'),\n",
       " Text(35.53743016759777, 160.9056, 'gini = 0.0\\nsamples = 1\\nvalue = [1, 0]'),\n",
       " Text(79.66696927374302, 178.3008, 'X[6] <= 0.205\\ngini = 0.173\\nsamples = 919\\nvalue = [831, 88]'),\n",
       " Text(50.73435754189944, 169.60320000000002, 'X[113] <= 0.194\\ngini = 0.101\\nsamples = 677\\nvalue = [641, 36]'),\n",
       " Text(44.42178770949721, 160.9056, 'X[4] <= -1.573\\ngini = 0.091\\nsamples = 671\\nvalue = [639, 32]'),\n",
       " Text(37.407821229050285, 152.208, 'X[121] <= -0.006\\ngini = 0.48\\nsamples = 5\\nvalue = [2, 3]'),\n",
       " Text(35.53743016759777, 143.5104, 'gini = 0.0\\nsamples = 2\\nvalue = [2, 0]'),\n",
       " Text(39.27821229050279, 143.5104, 'gini = 0.0\\nsamples = 3\\nvalue = [0, 3]'),\n",
       " Text(51.435754189944134, 152.208, 'X[34] <= 0.273\\ngini = 0.083\\nsamples = 666\\nvalue = [637, 29]'),\n",
       " Text(43.018994413407825, 143.5104, 'X[177] <= -0.133\\ngini = 0.057\\nsamples = 614\\nvalue = [596, 18]'),\n",
       " Text(41.14860335195531, 134.81279999999998, 'gini = 0.0\\nsamples = 1\\nvalue = [0, 1]'),\n",
       " Text(44.88938547486034, 134.81279999999998, 'X[45] <= -0.408\\ngini = 0.054\\nsamples = 613\\nvalue = [596, 17]'),\n",
       " Text(43.018994413407825, 126.1152, 'gini = 0.0\\nsamples = 1\\nvalue = [0, 1]'),\n",
       " Text(46.759776536312856, 126.1152, 'X[150] <= 0.206\\ngini = 0.051\\nsamples = 612\\nvalue = [596, 16]'),\n",
       " Text(44.88938547486034, 117.41760000000001, 'X[84] <= 0.273\\ngini = 0.048\\nsamples = 611\\nvalue = [596, 15]'),\n",
       " Text(43.018994413407825, 108.72, 'X[305] <= -0.103\\ngini = 0.045\\nsamples = 610\\nvalue = [596, 14]'),\n",
       " Text(41.14860335195531, 100.0224, 'gini = 0.0\\nsamples = 1\\nvalue = [0, 1]'),\n",
       " Text(44.88938547486034, 100.0224, 'X[332] <= 0.102\\ngini = 0.042\\nsamples = 609\\nvalue = [596, 13]'),\n",
       " Text(43.018994413407825, 91.32480000000001, 'X[187] <= -0.18\\ngini = 0.039\\nsamples = 608\\nvalue = [596, 12]'),\n",
       " Text(41.14860335195531, 82.62720000000002, 'gini = 0.0\\nsamples = 1\\nvalue = [0, 1]'),\n",
       " Text(44.88938547486034, 82.62720000000002, 'X[239] <= -0.092\\ngini = 0.036\\nsamples = 607\\nvalue = [596, 11]'),\n",
       " Text(39.30743715083799, 73.9296, 'X[331] <= -0.026\\ngini = 0.5\\nsamples = 4\\nvalue = [2, 2]'),\n",
       " Text(37.437046089385476, 65.232, 'gini = 0.0\\nsamples = 2\\nvalue = [2, 0]'),\n",
       " Text(41.17782821229051, 65.232, 'gini = 0.0\\nsamples = 2\\nvalue = [0, 2]'),\n",
       " Text(50.47133379888268, 73.9296, 'X[53] <= 0.334\\ngini = 0.029\\nsamples = 603\\nvalue = [594, 9]'),\n",
       " Text(44.91861033519553, 65.232, 'X[30] <= 0.339\\ngini = 0.026\\nsamples = 600\\nvalue = [592, 8]'),\n",
       " Text(39.424336592178776, 56.534400000000005, 'X[105] <= 0.165\\ngini = 0.02\\nsamples = 588\\nvalue = [582, 6]'),\n",
       " Text(34.0469622905028, 47.83680000000001, 'X[24] <= -0.685\\ngini = 0.017\\nsamples = 584\\nvalue = [579, 5]'),\n",
       " Text(28.90338687150838, 39.13920000000002, 'X[61] <= -0.145\\ngini = 0.32\\nsamples = 5\\nvalue = [4, 1]'),\n",
       " Text(27.03299581005587, 30.441599999999994, 'gini = 0.0\\nsamples = 1\\nvalue = [0, 1]'),\n",
       " Text(30.773777932960897, 30.441599999999994, 'gini = 0.0\\nsamples = 4\\nvalue = [4, 0]'),\n",
       " Text(39.19053770949721, 39.13920000000002, 'X[18] <= 0.461\\ngini = 0.014\\nsamples = 579\\nvalue = [575, 4]'),\n",
       " Text(34.51456005586592, 30.441599999999994, 'X[20] <= 0.586\\ngini = 0.007\\nsamples = 553\\nvalue = [551, 2]'),\n",
       " Text(30.773777932960897, 21.744, 'X[1] <= -0.639\\ngini = 0.004\\nsamples = 545\\nvalue = [544, 1]'),\n",
       " Text(28.90338687150838, 13.046400000000006, 'gini = 0.0\\nsamples = 530\\nvalue = [530, 0]'),\n",
       " Text(32.64416899441341, 13.046400000000006, 'X[292] <= -0.045\\ngini = 0.124\\nsamples = 15\\nvalue = [14, 1]'),\n",
       " Text(30.773777932960897, 4.348800000000011, 'gini = 0.0\\nsamples = 1\\nvalue = [0, 1]'),\n",
       " Text(34.51456005586592, 4.348800000000011, 'gini = 0.0\\nsamples = 14\\nvalue = [14, 0]'),\n",
       " Text(38.25534217877095, 21.744, 'X[158] <= -0.037\\ngini = 0.219\\nsamples = 8\\nvalue = [7, 1]'),\n",
       " Text(36.38495111731844, 13.046400000000006, 'gini = 0.0\\nsamples = 1\\nvalue = [0, 1]'),\n",
       " Text(40.12573324022347, 13.046400000000006, 'gini = 0.0\\nsamples = 7\\nvalue = [7, 0]'),\n",
       " Text(43.86651536312849, 30.441599999999994, 'X[68] <= -0.099\\ngini = 0.142\\nsamples = 26\\nvalue = [24, 2]'),\n",
       " Text(41.996124301675984, 21.744, 'gini = 0.0\\nsamples = 2\\nvalue = [0, 2]'),\n",
       " Text(45.73690642458101, 21.744, 'gini = 0.0\\nsamples = 24\\nvalue = [24, 0]'),\n",
       " Text(44.801710893854754, 47.83680000000001, 'X[437] <= -0.027\\ngini = 0.375\\nsamples = 4\\nvalue = [3, 1]'),\n",
       " Text(42.93131983240224, 39.13920000000002, 'gini = 0.0\\nsamples = 1\\nvalue = [0, 1]'),\n",
       " Text(46.67210195530727, 39.13920000000002, 'gini = 0.0\\nsamples = 3\\nvalue = [3, 0]'),\n",
       " Text(50.412884078212294, 56.534400000000005, 'X[297] <= -0.024\\ngini = 0.278\\nsamples = 12\\nvalue = [10, 2]'),\n",
       " Text(48.54249301675978, 47.83680000000001, 'gini = 0.0\\nsamples = 2\\nvalue = [0, 2]'),\n",
       " Text(52.28327513966481, 47.83680000000001, 'gini = 0.0\\nsamples = 10\\nvalue = [10, 0]'),\n",
       " Text(56.02405726256983, 65.232, 'X[130] <= 0.005\\ngini = 0.444\\nsamples = 3\\nvalue = [2, 1]'),\n",
       " Text(54.153666201117325, 56.534400000000005, 'gini = 0.0\\nsamples = 2\\nvalue = [2, 0]'),\n",
       " Text(57.89444832402235, 56.534400000000005, 'gini = 0.0\\nsamples = 1\\nvalue = [0, 1]'),\n",
       " Text(46.759776536312856, 91.32480000000001, 'gini = 0.0\\nsamples = 1\\nvalue = [0, 1]'),\n",
       " Text(46.759776536312856, 108.72, 'gini = 0.0\\nsamples = 1\\nvalue = [0, 1]'),\n",
       " Text(48.630167597765364, 117.41760000000001, 'gini = 0.0\\nsamples = 1\\nvalue = [0, 1]'),\n",
       " Text(59.85251396648045, 143.5104, 'X[380] <= 0.032\\ngini = 0.334\\nsamples = 52\\nvalue = [41, 11]'),\n",
       " Text(57.982122905027936, 134.81279999999998, 'X[26] <= -0.148\\ngini = 0.249\\nsamples = 48\\nvalue = [41, 7]'),\n",
       " Text(54.24134078212291, 126.1152, 'X[118] <= 0.037\\ngini = 0.444\\nsamples = 6\\nvalue = [2, 4]'),\n",
       " Text(52.370949720670396, 117.41760000000001, 'gini = 0.0\\nsamples = 4\\nvalue = [0, 4]'),\n",
       " Text(56.11173184357542, 117.41760000000001, 'gini = 0.0\\nsamples = 2\\nvalue = [2, 0]'),\n",
       " Text(61.72290502793297, 126.1152, 'X[221] <= -0.067\\ngini = 0.133\\nsamples = 42\\nvalue = [39, 3]'),\n",
       " Text(59.85251396648045, 117.41760000000001, 'gini = 0.0\\nsamples = 2\\nvalue = [0, 2]'),\n",
       " Text(63.59329608938548, 117.41760000000001, 'X[29] <= -0.573\\ngini = 0.049\\nsamples = 40\\nvalue = [39, 1]'),\n",
       " Text(61.72290502793297, 108.72, 'gini = 0.0\\nsamples = 1\\nvalue = [0, 1]'),\n",
       " Text(65.463687150838, 108.72, 'gini = 0.0\\nsamples = 39\\nvalue = [39, 0]'),\n",
       " Text(61.72290502793297, 134.81279999999998, 'gini = 0.0\\nsamples = 4\\nvalue = [0, 4]'),\n",
       " Text(57.04692737430168, 160.9056, 'X[166] <= -0.07\\ngini = 0.444\\nsamples = 6\\nvalue = [2, 4]'),\n",
       " Text(55.176536312849166, 152.208, 'gini = 0.0\\nsamples = 2\\nvalue = [2, 0]'),\n",
       " Text(58.9173184357542, 152.208, 'gini = 0.0\\nsamples = 4\\nvalue = [0, 4]'),\n",
       " Text(108.5995810055866, 169.60320000000002, 'X[17] <= 0.232\\ngini = 0.337\\nsamples = 242\\nvalue = [190, 52]'),\n",
       " Text(98.42932960893856, 160.9056, 'X[14] <= 0.32\\ngini = 0.422\\nsamples = 165\\nvalue = [115, 50]'),\n",
       " Text(83.7, 152.208, 'X[390] <= 0.003\\ngini = 0.496\\nsamples = 92\\nvalue = [50, 42]'),\n",
       " Text(73.88044692737431, 143.5104, 'X[433] <= 0.003\\ngini = 0.444\\nsamples = 51\\nvalue = [17, 34]'),\n",
       " Text(67.3340782122905, 134.81279999999998, 'X[224] <= 0.046\\ngini = 0.231\\nsamples = 30\\nvalue = [4, 26]'),\n",
       " Text(65.463687150838, 126.1152, 'gini = 0.0\\nsamples = 25\\nvalue = [0, 25]'),\n",
       " Text(69.20446927374302, 126.1152, 'X[19] <= -0.372\\ngini = 0.32\\nsamples = 5\\nvalue = [4, 1]'),\n",
       " Text(67.3340782122905, 117.41760000000001, 'gini = 0.0\\nsamples = 1\\nvalue = [0, 1]'),\n",
       " Text(71.07486033519554, 117.41760000000001, 'gini = 0.0\\nsamples = 4\\nvalue = [4, 0]'),\n",
       " Text(80.42681564245811, 134.81279999999998, 'X[241] <= -0.009\\ngini = 0.472\\nsamples = 21\\nvalue = [13, 8]'),\n",
       " Text(76.68603351955308, 126.1152, 'X[394] <= 0.009\\ngini = 0.346\\nsamples = 9\\nvalue = [2, 7]'),\n",
       " Text(74.81564245810057, 117.41760000000001, 'gini = 0.0\\nsamples = 7\\nvalue = [0, 7]'),\n",
       " Text(78.55642458100559, 117.41760000000001, 'gini = 0.0\\nsamples = 2\\nvalue = [2, 0]'),\n",
       " Text(84.16759776536314, 126.1152, 'X[125] <= -0.09\\ngini = 0.153\\nsamples = 12\\nvalue = [11, 1]'),\n",
       " Text(82.29720670391062, 117.41760000000001, 'gini = 0.0\\nsamples = 1\\nvalue = [0, 1]'),\n",
       " Text(86.03798882681565, 117.41760000000001, 'gini = 0.0\\nsamples = 11\\nvalue = [11, 0]'),\n",
       " Text(93.51955307262571, 143.5104, 'X[439] <= 0.012\\ngini = 0.314\\nsamples = 41\\nvalue = [33, 8]'),\n",
       " Text(89.77877094972068, 134.81279999999998, 'X[50] <= 0.157\\ngini = 0.111\\nsamples = 34\\nvalue = [32, 2]'),\n",
       " Text(87.90837988826816, 126.1152, 'gini = 0.0\\nsamples = 32\\nvalue = [32, 0]'),\n",
       " Text(91.64916201117319, 126.1152, 'gini = 0.0\\nsamples = 2\\nvalue = [0, 2]'),\n",
       " Text(97.26033519553073, 134.81279999999998, 'X[258] <= -0.02\\ngini = 0.245\\nsamples = 7\\nvalue = [1, 6]'),\n",
       " Text(95.38994413407822, 126.1152, 'gini = 0.0\\nsamples = 1\\nvalue = [1, 0]'),\n",
       " Text(99.13072625698325, 126.1152, 'gini = 0.0\\nsamples = 6\\nvalue = [0, 6]'),\n",
       " Text(113.1586592178771, 152.208, 'X[73] <= 0.178\\ngini = 0.195\\nsamples = 73\\nvalue = [65, 8]'),\n",
       " Text(108.48268156424582, 143.5104, 'X[346] <= 0.024\\ngini = 0.134\\nsamples = 69\\nvalue = [64, 5]'),\n",
       " Text(104.74189944134079, 134.81279999999998, 'X[79] <= 0.218\\ngini = 0.061\\nsamples = 64\\nvalue = [62, 2]'),\n",
       " Text(102.87150837988827, 126.1152, 'X[275] <= -0.058\\ngini = 0.031\\nsamples = 63\\nvalue = [62, 1]'),\n",
       " Text(101.00111731843576, 117.41760000000001, 'gini = 0.0\\nsamples = 1\\nvalue = [0, 1]'),\n",
       " Text(104.74189944134079, 117.41760000000001, 'gini = 0.0\\nsamples = 62\\nvalue = [62, 0]'),\n",
       " Text(106.6122905027933, 126.1152, 'gini = 0.0\\nsamples = 1\\nvalue = [0, 1]'),\n",
       " Text(112.22346368715084, 134.81279999999998, 'X[375] <= -0.008\\ngini = 0.48\\nsamples = 5\\nvalue = [2, 3]'),\n",
       " Text(110.35307262569833, 126.1152, 'gini = 0.0\\nsamples = 2\\nvalue = [2, 0]'),\n",
       " Text(114.09385474860336, 126.1152, 'gini = 0.0\\nsamples = 3\\nvalue = [0, 3]'),\n",
       " Text(117.8346368715084, 143.5104, 'X[91] <= 0.012\\ngini = 0.375\\nsamples = 4\\nvalue = [1, 3]'),\n",
       " Text(115.96424581005587, 134.81279999999998, 'gini = 0.0\\nsamples = 3\\nvalue = [0, 3]'),\n",
       " Text(119.7050279329609, 134.81279999999998, 'gini = 0.0\\nsamples = 1\\nvalue = [1, 0]'),\n",
       " Text(118.76983240223464, 160.9056, 'X[212] <= -0.085\\ngini = 0.051\\nsamples = 77\\nvalue = [75, 2]'),\n",
       " Text(116.89944134078213, 152.208, 'gini = 0.0\\nsamples = 2\\nvalue = [0, 2]'),\n",
       " Text(120.64022346368716, 152.208, 'gini = 0.0\\nsamples = 75\\nvalue = [75, 0]'),\n",
       " Text(150.80027932960894, 195.696, 'X[2] <= -0.223\\ngini = 0.373\\nsamples = 318\\nvalue = [79, 239]'),\n",
       " Text(134.668156424581, 186.9984, 'X[3] <= -0.975\\ngini = 0.209\\nsamples = 186\\nvalue = [22, 164]'),\n",
       " Text(132.7977653631285, 178.3008, 'gini = 0.0\\nsamples = 6\\nvalue = [6, 0]'),\n",
       " Text(136.53854748603354, 178.3008, 'X[156] <= 0.074\\ngini = 0.162\\nsamples = 180\\nvalue = [16, 164]'),\n",
       " Text(132.7977653631285, 169.60320000000002, 'X[398] <= 0.048\\ngini = 0.101\\nsamples = 168\\nvalue = [9, 159]'),\n",
       " Text(130.927374301676, 160.9056, 'X[223] <= 0.088\\ngini = 0.081\\nsamples = 166\\nvalue = [7, 159]'),\n",
       " Text(129.05698324022347, 152.208, 'X[192] <= 0.109\\ngini = 0.059\\nsamples = 164\\nvalue = [5, 159]'),\n",
       " Text(127.18659217877097, 143.5104, 'X[6] <= -0.823\\ngini = 0.036\\nsamples = 162\\nvalue = [3, 159]'),\n",
       " Text(123.44581005586593, 134.81279999999998, 'X[281] <= 0.02\\ngini = 0.444\\nsamples = 3\\nvalue = [2, 1]'),\n",
       " Text(121.57541899441341, 126.1152, 'gini = 0.0\\nsamples = 2\\nvalue = [2, 0]'),\n",
       " Text(125.31620111731844, 126.1152, 'gini = 0.0\\nsamples = 1\\nvalue = [0, 1]'),\n",
       " Text(130.927374301676, 134.81279999999998, 'X[114] <= -0.179\\ngini = 0.012\\nsamples = 159\\nvalue = [1, 158]'),\n",
       " Text(129.05698324022347, 126.1152, 'gini = 0.0\\nsamples = 1\\nvalue = [1, 0]'),\n",
       " Text(132.7977653631285, 126.1152, 'gini = 0.0\\nsamples = 158\\nvalue = [0, 158]'),\n",
       " Text(130.927374301676, 143.5104, 'gini = 0.0\\nsamples = 2\\nvalue = [2, 0]'),\n",
       " Text(132.7977653631285, 152.208, 'gini = 0.0\\nsamples = 2\\nvalue = [2, 0]'),\n",
       " Text(134.668156424581, 160.9056, 'gini = 0.0\\nsamples = 2\\nvalue = [2, 0]'),\n",
       " Text(140.27932960893855, 169.60320000000002, 'X[140] <= 0.016\\ngini = 0.486\\nsamples = 12\\nvalue = [7, 5]'),\n",
       " Text(138.40893854748603, 160.9056, 'gini = 0.0\\nsamples = 7\\nvalue = [7, 0]'),\n",
       " Text(142.14972067039108, 160.9056, 'gini = 0.0\\nsamples = 5\\nvalue = [0, 5]'),\n",
       " Text(166.9324022346369, 186.9984, 'X[44] <= 0.047\\ngini = 0.491\\nsamples = 132\\nvalue = [57, 75]'),\n",
       " Text(154.3072625698324, 178.3008, 'X[45] <= 0.064\\ngini = 0.385\\nsamples = 73\\nvalue = [19, 54]'),\n",
       " Text(147.76089385474862, 169.60320000000002, 'X[88] <= -0.103\\ngini = 0.187\\nsamples = 48\\nvalue = [5, 43]'),\n",
       " Text(145.8905027932961, 160.9056, 'gini = 0.0\\nsamples = 4\\nvalue = [4, 0]'),\n",
       " Text(149.63128491620114, 160.9056, 'X[65] <= 0.221\\ngini = 0.044\\nsamples = 44\\nvalue = [1, 43]'),\n",
       " Text(147.76089385474862, 152.208, 'gini = 0.0\\nsamples = 43\\nvalue = [0, 43]'),\n",
       " Text(151.50167597765363, 152.208, 'gini = 0.0\\nsamples = 1\\nvalue = [1, 0]'),\n",
       " Text(160.85363128491622, 169.60320000000002, 'X[184] <= -0.01\\ngini = 0.493\\nsamples = 25\\nvalue = [14, 11]'),\n",
       " Text(157.11284916201117, 160.9056, 'X[220] <= 0.044\\ngini = 0.18\\nsamples = 10\\nvalue = [1, 9]'),\n",
       " Text(155.24245810055868, 152.208, 'gini = 0.0\\nsamples = 9\\nvalue = [0, 9]'),\n",
       " Text(158.9832402234637, 152.208, 'gini = 0.0\\nsamples = 1\\nvalue = [1, 0]'),\n",
       " Text(164.59441340782124, 160.9056, 'X[54] <= -0.162\\ngini = 0.231\\nsamples = 15\\nvalue = [13, 2]'),\n",
       " Text(162.7240223463687, 152.208, 'gini = 0.0\\nsamples = 2\\nvalue = [0, 2]'),\n",
       " Text(166.46480446927376, 152.208, 'gini = 0.0\\nsamples = 13\\nvalue = [13, 0]'),\n",
       " Text(179.55754189944136, 178.3008, 'X[373] <= 0.02\\ngini = 0.458\\nsamples = 59\\nvalue = [38, 21]'),\n",
       " Text(175.81675977653632, 169.60320000000002, 'X[22] <= 0.392\\ngini = 0.315\\nsamples = 46\\nvalue = [37, 9]'),\n",
       " Text(173.94636871508382, 160.9056, 'X[66] <= 0.172\\ngini = 0.21\\nsamples = 42\\nvalue = [37, 5]'),\n",
       " Text(170.20558659217878, 152.208, 'X[20] <= -0.447\\ngini = 0.053\\nsamples = 37\\nvalue = [36, 1]'),\n",
       " Text(168.33519553072628, 143.5104, 'gini = 0.0\\nsamples = 1\\nvalue = [0, 1]'),\n",
       " Text(172.0759776536313, 143.5104, 'gini = 0.0\\nsamples = 36\\nvalue = [36, 0]'),\n",
       " Text(177.68715083798884, 152.208, 'X[418] <= -0.018\\ngini = 0.32\\nsamples = 5\\nvalue = [1, 4]'),\n",
       " Text(175.81675977653632, 143.5104, 'gini = 0.0\\nsamples = 1\\nvalue = [1, 0]'),\n",
       " Text(179.55754189944136, 143.5104, 'gini = 0.0\\nsamples = 4\\nvalue = [0, 4]'),\n",
       " Text(177.68715083798884, 160.9056, 'gini = 0.0\\nsamples = 4\\nvalue = [0, 4]'),\n",
       " Text(183.29832402234638, 169.60320000000002, 'X[383] <= 0.028\\ngini = 0.142\\nsamples = 13\\nvalue = [1, 12]'),\n",
       " Text(181.42793296089386, 160.9056, 'gini = 0.0\\nsamples = 12\\nvalue = [0, 12]'),\n",
       " Text(185.1687150837989, 160.9056, 'gini = 0.0\\nsamples = 1\\nvalue = [1, 0]'),\n",
       " Text(286.24289455307263, 204.3936, 'X[1] <= -0.006\\ngini = 0.13\\nsamples = 3319\\nvalue = [231, 3088]'),\n",
       " Text(254.5193086592179, 195.696, 'X[6] <= 0.119\\ngini = 0.373\\nsamples = 685\\nvalue = [170, 515]'),\n",
       " Text(233.15593575418995, 186.9984, 'X[0] <= 1.34\\ngini = 0.486\\nsamples = 329\\nvalue = [137, 192]'),\n",
       " Text(215.67946927374302, 178.3008, 'X[21] <= 0.093\\ngini = 0.492\\nsamples = 224\\nvalue = [126, 98]'),\n",
       " Text(197.5600558659218, 169.60320000000002, 'X[95] <= -0.067\\ngini = 0.479\\nsamples = 126\\nvalue = [50, 76]'),\n",
       " Text(188.90949720670392, 160.9056, 'X[437] <= -0.02\\ngini = 0.236\\nsamples = 22\\nvalue = [19, 3]'),\n",
       " Text(187.03910614525142, 152.208, 'X[264] <= 0.015\\ngini = 0.375\\nsamples = 4\\nvalue = [1, 3]'),\n",
       " Text(185.1687150837989, 143.5104, 'gini = 0.0\\nsamples = 3\\nvalue = [0, 3]'),\n",
       " Text(188.90949720670392, 143.5104, 'gini = 0.0\\nsamples = 1\\nvalue = [1, 0]'),\n",
       " Text(190.77988826815644, 152.208, 'gini = 0.0\\nsamples = 18\\nvalue = [18, 0]'),\n",
       " Text(206.21061452513968, 160.9056, 'X[251] <= -0.03\\ngini = 0.418\\nsamples = 104\\nvalue = [31, 73]'),\n",
       " Text(196.39106145251398, 152.208, 'X[180] <= -0.001\\ngini = 0.453\\nsamples = 26\\nvalue = [17, 9]'),\n",
       " Text(192.65027932960896, 143.5104, 'X[366] <= -0.009\\ngini = 0.397\\nsamples = 11\\nvalue = [3, 8]'),\n",
       " Text(190.77988826815644, 134.81279999999998, 'gini = 0.0\\nsamples = 3\\nvalue = [3, 0]'),\n",
       " Text(194.52067039106146, 134.81279999999998, 'gini = 0.0\\nsamples = 8\\nvalue = [0, 8]'),\n",
       " Text(200.131843575419, 143.5104, 'X[124] <= 0.071\\ngini = 0.124\\nsamples = 15\\nvalue = [14, 1]'),\n",
       " Text(198.2614525139665, 134.81279999999998, 'gini = 0.0\\nsamples = 14\\nvalue = [14, 0]'),\n",
       " Text(202.00223463687152, 134.81279999999998, 'gini = 0.0\\nsamples = 1\\nvalue = [0, 1]'),\n",
       " Text(216.03016759776537, 152.208, 'X[275] <= 0.036\\ngini = 0.295\\nsamples = 78\\nvalue = [14, 64]'),\n",
       " Text(209.48379888268158, 143.5104, 'X[260] <= 0.039\\ngini = 0.148\\nsamples = 62\\nvalue = [5, 57]'),\n",
       " Text(205.74301675977654, 134.81279999999998, 'X[64] <= 0.186\\ngini = 0.034\\nsamples = 57\\nvalue = [1, 56]'),\n",
       " Text(203.87262569832404, 126.1152, 'gini = 0.0\\nsamples = 56\\nvalue = [0, 56]'),\n",
       " Text(207.61340782122906, 126.1152, 'gini = 0.0\\nsamples = 1\\nvalue = [1, 0]'),\n",
       " Text(213.2245810055866, 134.81279999999998, 'X[40] <= 0.02\\ngini = 0.32\\nsamples = 5\\nvalue = [4, 1]'),\n",
       " Text(211.3541899441341, 126.1152, 'gini = 0.0\\nsamples = 4\\nvalue = [4, 0]'),\n",
       " Text(215.09497206703912, 126.1152, 'gini = 0.0\\nsamples = 1\\nvalue = [0, 1]'),\n",
       " Text(222.57653631284919, 143.5104, 'X[16] <= -0.002\\ngini = 0.492\\nsamples = 16\\nvalue = [9, 7]'),\n",
       " Text(220.70614525139666, 134.81279999999998, 'X[349] <= 0.048\\ngini = 0.18\\nsamples = 10\\nvalue = [9, 1]'),\n",
       " Text(218.83575418994414, 126.1152, 'gini = 0.0\\nsamples = 9\\nvalue = [9, 0]'),\n",
       " Text(222.57653631284919, 126.1152, 'gini = 0.0\\nsamples = 1\\nvalue = [0, 1]'),\n",
       " Text(224.44692737430168, 134.81279999999998, 'gini = 0.0\\nsamples = 6\\nvalue = [0, 6]'),\n",
       " Text(233.79888268156427, 169.60320000000002, 'X[26] <= -0.258\\ngini = 0.348\\nsamples = 98\\nvalue = [76, 22]'),\n",
       " Text(230.05810055865925, 160.9056, 'X[189] <= 0.043\\ngini = 0.48\\nsamples = 20\\nvalue = [8, 12]'),\n",
       " Text(228.18770949720673, 152.208, 'X[190] <= 0.032\\ngini = 0.32\\nsamples = 15\\nvalue = [3, 12]'),\n",
       " Text(226.3173184357542, 143.5104, 'gini = 0.0\\nsamples = 12\\nvalue = [0, 12]'),\n",
       " Text(230.05810055865925, 143.5104, 'gini = 0.0\\nsamples = 3\\nvalue = [3, 0]'),\n",
       " Text(231.92849162011174, 152.208, 'gini = 0.0\\nsamples = 5\\nvalue = [5, 0]'),\n",
       " Text(237.53966480446928, 160.9056, 'X[430] <= -0.044\\ngini = 0.224\\nsamples = 78\\nvalue = [68, 10]'),\n",
       " Text(235.6692737430168, 152.208, 'gini = 0.0\\nsamples = 4\\nvalue = [0, 4]'),\n",
       " Text(239.4100558659218, 152.208, 'X[47] <= 0.247\\ngini = 0.149\\nsamples = 74\\nvalue = [68, 6]'),\n",
       " Text(237.53966480446928, 143.5104, 'X[34] <= -0.231\\ngini = 0.105\\nsamples = 72\\nvalue = [68, 4]'),\n",
       " Text(233.79888268156427, 134.81279999999998, 'X[200] <= -0.033\\ngini = 0.444\\nsamples = 3\\nvalue = [1, 2]'),\n",
       " Text(231.92849162011174, 126.1152, 'gini = 0.0\\nsamples = 1\\nvalue = [1, 0]'),\n",
       " Text(235.6692737430168, 126.1152, 'gini = 0.0\\nsamples = 2\\nvalue = [0, 2]'),\n",
       " Text(241.28044692737433, 134.81279999999998, 'X[139] <= 0.087\\ngini = 0.056\\nsamples = 69\\nvalue = [67, 2]'),\n",
       " Text(239.4100558659218, 126.1152, 'X[20] <= -0.338\\ngini = 0.029\\nsamples = 68\\nvalue = [67, 1]'),\n",
       " Text(237.53966480446928, 117.41760000000001, 'gini = 0.0\\nsamples = 1\\nvalue = [0, 1]'),\n",
       " Text(241.28044692737433, 117.41760000000001, 'gini = 0.0\\nsamples = 67\\nvalue = [67, 0]'),\n",
       " Text(243.15083798882682, 126.1152, 'gini = 0.0\\nsamples = 1\\nvalue = [0, 1]'),\n",
       " Text(241.28044692737433, 143.5104, 'gini = 0.0\\nsamples = 2\\nvalue = [0, 2]'),\n",
       " Text(250.63240223463688, 178.3008, 'X[58] <= -0.078\\ngini = 0.188\\nsamples = 105\\nvalue = [11, 94]'),\n",
       " Text(246.89162011173187, 169.60320000000002, 'X[226] <= 0.014\\ngini = 0.495\\nsamples = 20\\nvalue = [9, 11]'),\n",
       " Text(245.02122905027935, 160.9056, 'X[24] <= 0.124\\ngini = 0.298\\nsamples = 11\\nvalue = [9, 2]'),\n",
       " Text(243.15083798882682, 152.208, 'gini = 0.0\\nsamples = 9\\nvalue = [9, 0]'),\n",
       " Text(246.89162011173187, 152.208, 'gini = 0.0\\nsamples = 2\\nvalue = [0, 2]'),\n",
       " Text(248.76201117318436, 160.9056, 'gini = 0.0\\nsamples = 9\\nvalue = [0, 9]'),\n",
       " Text(254.37318435754193, 169.60320000000002, 'X[372] <= -0.03\\ngini = 0.046\\nsamples = 85\\nvalue = [2, 83]'),\n",
       " Text(252.5027932960894, 160.9056, 'X[349] <= -0.015\\ngini = 0.444\\nsamples = 3\\nvalue = [2, 1]'),\n",
       " Text(250.63240223463688, 152.208, 'gini = 0.0\\nsamples = 2\\nvalue = [2, 0]'),\n",
       " Text(254.37318435754193, 152.208, 'gini = 0.0\\nsamples = 1\\nvalue = [0, 1]'),\n",
       " Text(256.24357541899445, 160.9056, 'gini = 0.0\\nsamples = 82\\nvalue = [0, 82]'),\n",
       " Text(275.88268156424584, 186.9984, 'X[3] <= -0.781\\ngini = 0.168\\nsamples = 356\\nvalue = [33, 323]'),\n",
       " Text(267.46592178770953, 178.3008, 'X[16] <= 0.24\\ngini = 0.477\\nsamples = 56\\nvalue = [22, 34]'),\n",
       " Text(261.854748603352, 169.60320000000002, 'X[344] <= -0.044\\ngini = 0.278\\nsamples = 36\\nvalue = [6, 30]'),\n",
       " Text(259.98435754189944, 160.9056, 'gini = 0.0\\nsamples = 3\\nvalue = [3, 0]'),\n",
       " Text(263.7251396648045, 160.9056, 'X[7] <= 0.617\\ngini = 0.165\\nsamples = 33\\nvalue = [3, 30]'),\n",
       " Text(261.854748603352, 152.208, 'X[271] <= -0.076\\ngini = 0.062\\nsamples = 31\\nvalue = [1, 30]'),\n",
       " Text(259.98435754189944, 143.5104, 'gini = 0.0\\nsamples = 1\\nvalue = [1, 0]'),\n",
       " Text(263.7251396648045, 143.5104, 'gini = 0.0\\nsamples = 30\\nvalue = [0, 30]'),\n",
       " Text(265.595530726257, 152.208, 'gini = 0.0\\nsamples = 2\\nvalue = [2, 0]'),\n",
       " Text(273.0770949720671, 169.60320000000002, 'X[423] <= -0.015\\ngini = 0.32\\nsamples = 20\\nvalue = [16, 4]'),\n",
       " Text(271.2067039106145, 160.9056, 'X[394] <= 0.02\\ngini = 0.32\\nsamples = 5\\nvalue = [1, 4]'),\n",
       " Text(269.336312849162, 152.208, 'gini = 0.0\\nsamples = 4\\nvalue = [0, 4]'),\n",
       " Text(273.0770949720671, 152.208, 'gini = 0.0\\nsamples = 1\\nvalue = [1, 0]'),\n",
       " Text(274.94748603351957, 160.9056, 'gini = 0.0\\nsamples = 15\\nvalue = [15, 0]'),\n",
       " Text(284.29944134078215, 178.3008, 'X[352] <= -0.057\\ngini = 0.071\\nsamples = 300\\nvalue = [11, 289]'),\n",
       " Text(280.5586592178771, 169.60320000000002, 'X[88] <= 0.044\\ngini = 0.375\\nsamples = 4\\nvalue = [3, 1]'),\n",
       " Text(278.6882681564246, 160.9056, 'gini = 0.0\\nsamples = 3\\nvalue = [3, 0]'),\n",
       " Text(282.4290502793296, 160.9056, 'gini = 0.0\\nsamples = 1\\nvalue = [0, 1]'),\n",
       " Text(288.0402234636872, 169.60320000000002, 'X[421] <= -0.048\\ngini = 0.053\\nsamples = 296\\nvalue = [8, 288]'),\n",
       " Text(286.16983240223465, 160.9056, 'gini = 0.0\\nsamples = 2\\nvalue = [2, 0]'),\n",
       " Text(289.9106145251397, 160.9056, 'X[25] <= 0.609\\ngini = 0.04\\nsamples = 294\\nvalue = [6, 288]'),\n",
       " Text(288.0402234636872, 152.208, 'X[97] <= 0.214\\ngini = 0.027\\nsamples = 292\\nvalue = [4, 288]'),\n",
       " Text(286.16983240223465, 143.5104, 'X[174] <= 0.131\\ngini = 0.02\\nsamples = 291\\nvalue = [3, 288]'),\n",
       " Text(284.29944134078215, 134.81279999999998, 'X[164] <= -0.153\\ngini = 0.014\\nsamples = 290\\nvalue = [2, 288]'),\n",
       " Text(282.4290502793296, 126.1152, 'gini = 0.0\\nsamples = 1\\nvalue = [1, 0]'),\n",
       " Text(286.16983240223465, 126.1152, 'X[50] <= -0.341\\ngini = 0.007\\nsamples = 289\\nvalue = [1, 288]'),\n",
       " Text(284.29944134078215, 117.41760000000001, 'gini = 0.0\\nsamples = 1\\nvalue = [1, 0]'),\n",
       " Text(288.0402234636872, 117.41760000000001, 'gini = 0.0\\nsamples = 288\\nvalue = [0, 288]'),\n",
       " Text(288.0402234636872, 134.81279999999998, 'gini = 0.0\\nsamples = 1\\nvalue = [1, 0]'),\n",
       " Text(289.9106145251397, 143.5104, 'gini = 0.0\\nsamples = 1\\nvalue = [1, 0]'),\n",
       " Text(291.7810055865922, 152.208, 'gini = 0.0\\nsamples = 2\\nvalue = [2, 0]'),\n",
       " Text(317.9664804469274, 195.696, 'X[11] <= 0.429\\ngini = 0.045\\nsamples = 2634\\nvalue = [61, 2573]'),\n",
       " Text(311.4201117318436, 186.9984, 'X[318] <= 0.073\\ngini = 0.021\\nsamples = 2374\\nvalue = [25, 2349]'),\n",
       " Text(309.5497206703911, 178.3008, 'X[374] <= 0.075\\ngini = 0.018\\nsamples = 2371\\nvalue = [22, 2349]'),\n",
       " Text(307.6793296089386, 169.60320000000002, 'X[368] <= 0.071\\ngini = 0.017\\nsamples = 2369\\nvalue = [20, 2349]'),\n",
       " Text(305.80893854748604, 160.9056, 'X[429] <= 0.055\\ngini = 0.015\\nsamples = 2367\\nvalue = [18, 2349]'),\n",
       " Text(301.1329608938548, 152.208, 'X[342] <= 0.063\\ngini = 0.013\\nsamples = 2364\\nvalue = [16, 2348]'),\n",
       " Text(297.3921787709497, 143.5104, 'X[417] <= 0.074\\ngini = 0.011\\nsamples = 2357\\nvalue = [13, 2344]'),\n",
       " Text(295.52178770949723, 134.81279999999998, 'X[212] <= 0.154\\ngini = 0.01\\nsamples = 2356\\nvalue = [12, 2344]'),\n",
       " Text(293.65139664804474, 126.1152, 'X[350] <= -0.078\\ngini = 0.009\\nsamples = 2355\\nvalue = [11, 2344]'),\n",
       " Text(291.7810055865922, 117.41760000000001, 'gini = 0.0\\nsamples = 1\\nvalue = [1, 0]'),\n",
       " Text(295.52178770949723, 117.41760000000001, 'X[169] <= -0.164\\ngini = 0.008\\nsamples = 2354\\nvalue = [10, 2344]'),\n",
       " Text(293.65139664804474, 108.72, 'gini = 0.0\\nsamples = 1\\nvalue = [1, 0]'),\n",
       " Text(297.3921787709497, 108.72, 'X[306] <= -0.093\\ngini = 0.008\\nsamples = 2353\\nvalue = [9, 2344]'),\n",
       " Text(295.52178770949723, 100.0224, 'gini = 0.0\\nsamples = 1\\nvalue = [1, 0]'),\n",
       " Text(299.2625698324023, 100.0224, 'X[324] <= 0.094\\ngini = 0.007\\nsamples = 2352\\nvalue = [8, 2344]'),\n",
       " Text(297.3921787709497, 91.32480000000001, 'X[273] <= 0.115\\ngini = 0.006\\nsamples = 2351\\nvalue = [7, 2344]'),\n",
       " Text(292.01480446927377, 82.62720000000002, 'X[223] <= 0.117\\ngini = 0.005\\nsamples = 2349\\nvalue = [6, 2343]'),\n",
       " Text(286.87122905027934, 73.9296, 'X[330] <= 0.048\\ngini = 0.004\\nsamples = 2347\\nvalue = [5, 2342]'),\n",
       " Text(282.1952513966481, 65.232, 'X[39] <= 0.441\\ngini = 0.002\\nsamples = 2316\\nvalue = [2, 2314]'),\n",
       " Text(278.45446927374303, 56.534400000000005, 'X[387] <= -0.049\\ngini = 0.001\\nsamples = 2312\\nvalue = [1, 2311]'),\n",
       " Text(276.58407821229054, 47.83680000000001, 'X[173] <= -0.023\\ngini = 0.32\\nsamples = 5\\nvalue = [1, 4]'),\n",
       " Text(274.713687150838, 39.13920000000002, 'gini = 0.0\\nsamples = 1\\nvalue = [1, 0]'),\n",
       " Text(278.45446927374303, 39.13920000000002, 'gini = 0.0\\nsamples = 4\\nvalue = [0, 4]'),\n",
       " Text(280.3248603351955, 47.83680000000001, 'gini = 0.0\\nsamples = 2307\\nvalue = [0, 2307]'),\n",
       " Text(285.9360335195531, 56.534400000000005, 'X[366] <= 0.014\\ngini = 0.375\\nsamples = 4\\nvalue = [1, 3]'),\n",
       " Text(284.06564245810057, 47.83680000000001, 'gini = 0.0\\nsamples = 3\\nvalue = [0, 3]'),\n",
       " Text(287.8064245810056, 47.83680000000001, 'gini = 0.0\\nsamples = 1\\nvalue = [1, 0]'),\n",
       " Text(291.54720670391066, 65.232, 'X[370] <= -0.028\\ngini = 0.175\\nsamples = 31\\nvalue = [3, 28]'),\n",
       " Text(289.6768156424581, 56.534400000000005, 'gini = 0.0\\nsamples = 2\\nvalue = [2, 0]'),\n",
       " Text(293.41759776536315, 56.534400000000005, 'X[336] <= -0.066\\ngini = 0.067\\nsamples = 29\\nvalue = [1, 28]'),\n",
       " Text(291.54720670391066, 47.83680000000001, 'gini = 0.0\\nsamples = 1\\nvalue = [1, 0]'),\n",
       " Text(295.28798882681565, 47.83680000000001, 'gini = 0.0\\nsamples = 28\\nvalue = [0, 28]'),\n",
       " Text(297.1583798882682, 73.9296, 'X[238] <= -0.005\\ngini = 0.5\\nsamples = 2\\nvalue = [1, 1]'),\n",
       " Text(295.28798882681565, 65.232, 'gini = 0.0\\nsamples = 1\\nvalue = [0, 1]'),\n",
       " Text(299.0287709497207, 65.232, 'gini = 0.0\\nsamples = 1\\nvalue = [1, 0]'),\n",
       " Text(302.76955307262574, 82.62720000000002, 'X[270] <= -0.016\\ngini = 0.5\\nsamples = 2\\nvalue = [1, 1]'),\n",
       " Text(300.8991620111732, 73.9296, 'gini = 0.0\\nsamples = 1\\nvalue = [0, 1]'),\n",
       " Text(304.63994413407823, 73.9296, 'gini = 0.0\\nsamples = 1\\nvalue = [1, 0]'),\n",
       " Text(301.1329608938548, 91.32480000000001, 'gini = 0.0\\nsamples = 1\\nvalue = [1, 0]'),\n",
       " Text(297.3921787709497, 126.1152, 'gini = 0.0\\nsamples = 1\\nvalue = [1, 0]'),\n",
       " Text(299.2625698324023, 134.81279999999998, 'gini = 0.0\\nsamples = 1\\nvalue = [1, 0]'),\n",
       " Text(304.8737430167598, 143.5104, 'X[80] <= 0.016\\ngini = 0.49\\nsamples = 7\\nvalue = [3, 4]'),\n",
       " Text(303.00335195530727, 134.81279999999998, 'gini = 0.0\\nsamples = 3\\nvalue = [3, 0]'),\n",
       " Text(306.7441340782123, 134.81279999999998, 'gini = 0.0\\nsamples = 4\\nvalue = [0, 4]'),\n",
       " Text(310.48491620111736, 152.208, 'X[46] <= -0.036\\ngini = 0.444\\nsamples = 3\\nvalue = [2, 1]'),\n",
       " Text(308.6145251396648, 143.5104, 'gini = 0.0\\nsamples = 2\\nvalue = [2, 0]'),\n",
       " Text(312.35530726256985, 143.5104, 'gini = 0.0\\nsamples = 1\\nvalue = [0, 1]'),\n",
       " Text(309.5497206703911, 160.9056, 'gini = 0.0\\nsamples = 2\\nvalue = [2, 0]'),\n",
       " Text(311.4201117318436, 169.60320000000002, 'gini = 0.0\\nsamples = 2\\nvalue = [2, 0]'),\n",
       " Text(313.2905027932961, 178.3008, 'gini = 0.0\\nsamples = 3\\nvalue = [3, 0]'),\n",
       " Text(324.5128491620112, 186.9984, 'X[370] <= 0.047\\ngini = 0.239\\nsamples = 260\\nvalue = [36, 224]'),\n",
       " Text(322.64245810055866, 178.3008, 'X[3] <= -1.178\\ngini = 0.198\\nsamples = 252\\nvalue = [28, 224]'),\n",
       " Text(317.9664804469274, 169.60320000000002, 'X[297] <= 0.002\\ngini = 0.459\\nsamples = 14\\nvalue = [9, 5]'),\n",
       " Text(316.0960893854749, 160.9056, 'X[139] <= -0.071\\ngini = 0.278\\nsamples = 6\\nvalue = [1, 5]'),\n",
       " Text(314.22569832402235, 152.208, 'gini = 0.0\\nsamples = 1\\nvalue = [1, 0]'),\n",
       " Text(317.9664804469274, 152.208, 'gini = 0.0\\nsamples = 5\\nvalue = [0, 5]'),\n",
       " Text(319.8368715083799, 160.9056, 'gini = 0.0\\nsamples = 8\\nvalue = [8, 0]'),\n",
       " Text(327.31843575419, 169.60320000000002, 'X[405] <= -0.03\\ngini = 0.147\\nsamples = 238\\nvalue = [19, 219]'),\n",
       " Text(323.57765363128493, 160.9056, 'X[220] <= -0.01\\ngini = 0.49\\nsamples = 14\\nvalue = [8, 6]'),\n",
       " Text(321.70726256983244, 152.208, 'gini = 0.0\\nsamples = 8\\nvalue = [8, 0]'),\n",
       " Text(325.4480446927374, 152.208, 'gini = 0.0\\nsamples = 6\\nvalue = [0, 6]'),\n",
       " Text(331.059217877095, 160.9056, 'X[436] <= 0.029\\ngini = 0.093\\nsamples = 224\\nvalue = [11, 213]'),\n",
       " Text(329.18882681564247, 152.208, 'X[226] <= 0.095\\ngini = 0.07\\nsamples = 221\\nvalue = [8, 213]'),\n",
       " Text(327.31843575419, 143.5104, 'X[357] <= 0.049\\ngini = 0.053\\nsamples = 219\\nvalue = [6, 213]'),\n",
       " Text(325.4480446927374, 134.81279999999998, 'X[280] <= -0.056\\ngini = 0.036\\nsamples = 217\\nvalue = [4, 213]'),\n",
       " Text(321.70726256983244, 126.1152, 'X[403] <= -0.006\\ngini = 0.48\\nsamples = 5\\nvalue = [3, 2]'),\n",
       " Text(319.8368715083799, 117.41760000000001, 'gini = 0.0\\nsamples = 2\\nvalue = [0, 2]'),\n",
       " Text(323.57765363128493, 117.41760000000001, 'gini = 0.0\\nsamples = 3\\nvalue = [3, 0]'),\n",
       " Text(329.18882681564247, 126.1152, 'X[311] <= -0.058\\ngini = 0.009\\nsamples = 212\\nvalue = [1, 211]'),\n",
       " Text(327.31843575419, 117.41760000000001, 'gini = 0.0\\nsamples = 1\\nvalue = [1, 0]'),\n",
       " Text(331.059217877095, 117.41760000000001, 'gini = 0.0\\nsamples = 211\\nvalue = [0, 211]'),\n",
       " Text(329.18882681564247, 134.81279999999998, 'gini = 0.0\\nsamples = 2\\nvalue = [2, 0]'),\n",
       " Text(331.059217877095, 143.5104, 'gini = 0.0\\nsamples = 2\\nvalue = [2, 0]'),\n",
       " Text(332.9296089385475, 152.208, 'gini = 0.0\\nsamples = 3\\nvalue = [3, 0]'),\n",
       " Text(326.3832402234637, 178.3008, 'gini = 0.0\\nsamples = 8\\nvalue = [8, 0]')]"
      ]
     },
     "execution_count": 59,
     "metadata": {},
     "output_type": "execute_result"
    },
    {
     "data": {
      "image/png": "[encoded data removed]",
      "text/plain": [
       "<Figure size 432x288 with 1 Axes>"
      ]
     },
     "metadata": {
      "needs_background": "light"
     },
     "output_type": "display_data"
    }
   ],
   "source": [
    "tree.plot_tree(clf_tree)"
   ]
  },
  {
   "cell_type": "markdown",
   "metadata": {},
   "source": [
    "Uso un random forest con <a href=\"https://scikit-learn.org/stable/modules/generated/sklearn.ensemble.BaggingClassifier.html\">Bagging</a>"
   ]
  },
  {
   "cell_type": "code",
   "execution_count": 60,
   "metadata": {
    "id": "ioL_ligcby2f"
   },
   "outputs": [],
   "source": [
    "from sklearn.ensemble import BaggingClassifier"
   ]
  },
  {
   "cell_type": "code",
   "execution_count": 61,
   "metadata": {
    "id": "B0p0l_xXcLBz"
   },
   "outputs": [],
   "source": [
    "def classificazioneBagging(n, arr_train, arr_train_label, arr_test, arr_test_label):\n",
    "    clf = BaggingClassifier(n_estimators=n).fit(arr_train, arr_train_label)\n",
    "    pred_labels = clf.predict(arr_test)\n",
    "    return clf, pred_labels, accuracy_score(arr_test_label, pred_labels)"
   ]
  },
  {
   "cell_type": "markdown",
   "metadata": {},
   "source": [
    "Uso il <a href=\"https://scikit-learn.org/stable/modules/generated/sklearn.model_selection.GridSearchCV.html\">GridSearchCV</a> per individuare il numero di alberi."
   ]
  },
  {
   "cell_type": "code",
   "execution_count": 62,
   "metadata": {
    "colab": {
     "base_uri": "https://localhost:8080/",
     "height": 498
    },
    "id": "_H-xJxhucRSY",
    "outputId": "6df27e55-95f1-4c58-d702-fd79d10e8a5c"
   },
   "outputs": [
    {
     "name": "stdout",
     "output_type": "stream",
     "text": [
      "Fitting 1 folds for each of 8 candidates, totalling 8 fits\n",
      "[CV 1/1] END .................................n_estimators=1; total time=   2.4s\n",
      "[CV 1/1] END ................................n_estimators=10; total time=  18.7s\n",
      "[CV 1/1] END ................................n_estimators=50; total time= 1.6min\n",
      "[CV 1/1] END ...............................n_estimators=100; total time= 2.7min\n",
      "[CV 1/1] END ...............................n_estimators=200; total time= 5.5min\n",
      "[CV 1/1] END ...............................n_estimators=500; total time=15.1min\n",
      "[CV 1/1] END ..............................n_estimators=1000; total time=29.7min\n",
      "[CV 1/1] END ..............................n_estimators=2000; total time=67.2min\n"
     ]
    },
    {
     "data": {
      "text/plain": [
       "GridSearchCV(cv=PredefinedSplit(test_fold=array([-1, -1, ...,  0,  0])),\n",
       "             estimator=BaggingClassifier(),\n",
       "             param_grid={'n_estimators': [1, 10, 50, 100, 200, 500, 1000,\n",
       "                                          2000]},\n",
       "             verbose=3)"
      ]
     },
     "execution_count": 62,
     "metadata": {},
     "output_type": "execute_result"
    }
   ],
   "source": [
    "# defining parameter range\n",
    "param_grid_bagging = {'n_estimators': [1, 10, 50, 100, 200, 500, 1000, 2000]}\n",
    "\n",
    "grid_bagging = GridSearchCV(BaggingClassifier(), param_grid_bagging, refit = True, verbose = 3, cv=ps)\n",
    "\n",
    "# fitting the model for grid search\n",
    "grid_bagging.fit(arr_transformed[inizio_train:fine_val], train_val_label)"
   ]
  },
  {
   "cell_type": "code",
   "execution_count": 63,
   "metadata": {
    "id": "61RfHDaGfAuV"
   },
   "outputs": [
    {
     "data": {
      "text/plain": [
       "{'n_estimators': 1000}"
      ]
     },
     "execution_count": 63,
     "metadata": {},
     "output_type": "execute_result"
    }
   ],
   "source": [
    "grid_bagging.best_params_"
   ]
  },
  {
   "cell_type": "code",
   "execution_count": 64,
   "metadata": {
    "id": "AQegbu6KfJf5"
   },
   "outputs": [
    {
     "data": {
      "text/plain": [
       "0.933206106870229"
      ]
     },
     "execution_count": 64,
     "metadata": {},
     "output_type": "execute_result"
    }
   ],
   "source": [
    "grid_bagging.best_score_"
   ]
  },
  {
   "cell_type": "code",
   "execution_count": 69,
   "metadata": {
    "id": "GfvKr9QPYK58"
   },
   "outputs": [
    {
     "data": {
      "text/plain": [
       "0.8044871794871795"
      ]
     },
     "execution_count": 69,
     "metadata": {},
     "output_type": "execute_result"
    }
   ],
   "source": [
    "clf_bagging, pred_bagging, acc_bagging = classificazioneBagging(grid_bagging.best_params_['n_estimators'], \n",
    "                                                                arr_transformed[inizio_train:fine_train], arr_train_label,\n",
    "                                                                arr_transformed[inizio_test:fine_test], arr_test_label)\n",
    "acc_bagging"
   ]
  },
  {
   "cell_type": "markdown",
   "metadata": {},
   "source": [
    "Uso un random forest con <a href=\"https://scikit-learn.org/stable/modules/generated/sklearn.ensemble.AdaBoostClassifier.html\">AdaBoost</a>"
   ]
  },
  {
   "cell_type": "code",
   "execution_count": 70,
   "metadata": {
    "id": "BP6xFoJ0b8pm"
   },
   "outputs": [],
   "source": [
    "from sklearn.ensemble import AdaBoostClassifier"
   ]
  },
  {
   "cell_type": "code",
   "execution_count": 71,
   "metadata": {
    "id": "DXHBZiJtcC9W"
   },
   "outputs": [],
   "source": [
    "def classificazioneAdaBoost(n, arr_train, arr_train_label, arr_test, arr_test_label):\n",
    "    clf = AdaBoostClassifier(n_estimators=n).fit(arr_train, arr_train_label)\n",
    "    pred_labels = clf.predict(arr_test)\n",
    "    return clf, pred_labels, accuracy_score(arr_test_label, pred_labels)"
   ]
  },
  {
   "cell_type": "markdown",
   "metadata": {},
   "source": [
    "Uso il <a href=\"https://scikit-learn.org/stable/modules/generated/sklearn.model_selection.GridSearchCV.html\">GridSearchCV</a> per individuare il numero di alberi."
   ]
  },
  {
   "cell_type": "code",
   "execution_count": 72,
   "metadata": {
    "colab": {
     "base_uri": "https://localhost:8080/",
     "height": 293
    },
    "id": "bKC6fwukcHBA",
    "outputId": "8725c8e6-ff08-4e8c-afb3-0c50db6df3d4"
   },
   "outputs": [
    {
     "name": "stdout",
     "output_type": "stream",
     "text": [
      "Fitting 1 folds for each of 8 candidates, totalling 8 fits\n",
      "[CV 1/1] END .................................n_estimators=1; total time=   0.1s\n",
      "[CV 1/1] END ................................n_estimators=10; total time=   1.6s\n",
      "[CV 1/1] END ................................n_estimators=50; total time=   8.8s\n",
      "[CV 1/1] END ...............................n_estimators=100; total time=  18.8s\n",
      "[CV 1/1] END ...............................n_estimators=200; total time=  35.6s\n",
      "[CV 1/1] END ...............................n_estimators=500; total time= 1.6min\n",
      "[CV 1/1] END ..............................n_estimators=1000; total time= 3.4min\n",
      "[CV 1/1] END ..............................n_estimators=2000; total time= 6.4min\n"
     ]
    },
    {
     "data": {
      "text/plain": [
       "GridSearchCV(cv=PredefinedSplit(test_fold=array([-1, -1, ...,  0,  0])),\n",
       "             estimator=AdaBoostClassifier(),\n",
       "             param_grid={'n_estimators': [1, 10, 50, 100, 200, 500, 1000,\n",
       "                                          2000]},\n",
       "             verbose=3)"
      ]
     },
     "execution_count": 72,
     "metadata": {},
     "output_type": "execute_result"
    }
   ],
   "source": [
    "# defining parameter range\n",
    "param_grid_adaboost = {'n_estimators': [1, 10, 50, 100, 200, 500, 1000, 2000]}\n",
    "\n",
    "grid_adaboost = GridSearchCV(AdaBoostClassifier(), param_grid_adaboost, refit = True, verbose = 3, cv=ps)\n",
    "\n",
    "# fitting the model for grid search\n",
    "grid_adaboost.fit(arr_transformed[inizio_train:fine_val], train_val_label)"
   ]
  },
  {
   "cell_type": "code",
   "execution_count": 73,
   "metadata": {
    "colab": {
     "base_uri": "https://localhost:8080/"
    },
    "id": "u61FmCeycac-",
    "outputId": "6613df7b-6074-421a-8eb6-4058d66b7fee"
   },
   "outputs": [
    {
     "data": {
      "text/plain": [
       "{'n_estimators': 500}"
      ]
     },
     "execution_count": 73,
     "metadata": {},
     "output_type": "execute_result"
    }
   ],
   "source": [
    "grid_adaboost.best_params_"
   ]
  },
  {
   "cell_type": "code",
   "execution_count": 74,
   "metadata": {
    "colab": {
     "base_uri": "https://localhost:8080/"
    },
    "id": "lA2ayj8Tccpf",
    "outputId": "8625ac30-bc92-446c-9ec1-1cdc56d7b617"
   },
   "outputs": [
    {
     "data": {
      "text/plain": [
       "0.9522900763358778"
      ]
     },
     "execution_count": 74,
     "metadata": {},
     "output_type": "execute_result"
    }
   ],
   "source": [
    "grid_adaboost.best_score_"
   ]
  },
  {
   "cell_type": "code",
   "execution_count": 75,
   "metadata": {
    "colab": {
     "base_uri": "https://localhost:8080/"
    },
    "id": "j3SqloZiqajl",
    "outputId": "3a2ad156-75c0-4279-974e-986b5272fd01"
   },
   "outputs": [
    {
     "data": {
      "text/plain": [
       "0.8349358974358975"
      ]
     },
     "execution_count": 75,
     "metadata": {},
     "output_type": "execute_result"
    }
   ],
   "source": [
    "clf_adaboost,pred_adaboost,acc_adaboost = classificazioneAdaBoost(grid_adaboost.best_params_['n_estimators'],\n",
    "                                                                  arr_transformed[inizio_train:fine_train],arr_train_label,\n",
    "                                                                  arr_transformed[inizio_test:fine_test], arr_test_label)\n",
    "acc_adaboost"
   ]
  },
  {
   "cell_type": "markdown",
   "metadata": {},
   "source": [
    "Grafico riassuntivo delle accuracy"
   ]
  },
  {
   "cell_type": "code",
   "execution_count": 104,
   "metadata": {},
   "outputs": [],
   "source": [
    "accs = np.array([acc_linear, acc_poly, acc_rbf, acc_rbf_2, acc_tree, acc_bagging, acc_adaboost])\n",
    "x = np.array([\"Linear\",\"Poly\",\"Rbf\",\"Rbf 2\",\"Tree\",\"Bagging\",\"AdaBoost\"])"
   ]
  },
  {
   "cell_type": "code",
   "execution_count": 105,
   "metadata": {},
   "outputs": [
    {
     "data": {
      "image/png": "[encoded data removed]",
      "text/plain": [
       "<Figure size 432x288 with 1 Axes>"
      ]
     },
     "metadata": {
      "needs_background": "light"
     },
     "output_type": "display_data"
    }
   ],
   "source": [
    "plt.xlabel(\"Modelli\")\n",
    "plt.ylabel(\"Accuracy\")\n",
    "plt.plot(x, accs)\n",
    "plt.show()"
   ]
  },
  {
   "cell_type": "code",
   "execution_count": null,
   "metadata": {},
   "outputs": [],
   "source": []
  }
 ],
 "metadata": {
  "colab": {
   "provenance": []
  },
  "kernelspec": {
   "display_name": "Python 3",
   "language": "python",
   "name": "python3"
  },
  "language_info": {
   "codemirror_mode": {
    "name": "ipython",
    "version": 3
   },
   "file_extension": ".py",
   "mimetype": "text/x-python",
   "name": "python",
   "nbconvert_exporter": "python",
   "pygments_lexer": "ipython3",
   "version": "3.8.8"
  }
 },
 "nbformat": 4,
 "nbformat_minor": 1
}
